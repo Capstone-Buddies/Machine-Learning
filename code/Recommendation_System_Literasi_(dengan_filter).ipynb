{
  "nbformat": 4,
  "nbformat_minor": 0,
  "metadata": {
    "colab": {
      "provenance": []
    },
    "kernelspec": {
      "name": "python3",
      "display_name": "Python 3"
    },
    "language_info": {
      "name": "python"
    }
  },
  "cells": [
    {
      "cell_type": "code",
      "execution_count": null,
      "metadata": {
        "id": "IW-Y-Cqjut3s"
      },
      "outputs": [],
      "source": [
        "import pandas as pd\n",
        "import numpy as np\n",
        "from sklearn.feature_extraction.text import TfidfVectorizer\n",
        "from sklearn.metrics.pairwise import cosine_similarity"
      ]
    },
    {
      "cell_type": "code",
      "source": [
        "link_literasi = 'https://raw.githubusercontent.com/Capstone-Buddies/Machine-Learning/main/Dataset/SNBT%20Datasets%20-%20Literasi.csv'\n",
        "link_answer_history_literasi = 'https://raw.githubusercontent.com/Capstone-Buddies/Machine-Learning/main/Dataset/SNBT%20Datasets%20-%20Answer_History_Literasi.csv'\n",
        "\n",
        "user_history = pd.read_csv(link_answer_history_literasi)\n",
        "literasi_question_data = pd.read_csv(link_literasi)"
      ],
      "metadata": {
        "id": "JLUrp8Ipu0gu"
      },
      "execution_count": null,
      "outputs": []
    },
    {
      "cell_type": "code",
      "source": [
        "# Menghitung jumlah soal yang telah dijawab oleh user untuk setiap kategori\n",
        "def get_total_questions_per_category(user_data):\n",
        "    return user_data.groupby('Question_Category').size()\n",
        "\n",
        "# Menghitung jumlah soal yang salah dijawab oleh user untuk setiap kategori\n",
        "def get_mistakes_per_category(user_data):\n",
        "    mistakes = user_data[user_data['USER_ANSWER'] != user_data['CORRECT_ANSWER']]\n",
        "    return mistakes.groupby('Question_Category').size(), mistakes"
      ],
      "metadata": {
        "id": "mdiPCDxTu1Zo"
      },
      "execution_count": null,
      "outputs": []
    },
    {
      "cell_type": "code",
      "source": [
        "# Menghitung similarity antara soal yang salah dijawab dengan soal lain dalam kategori yang sama\n",
        "def calculate_similarity(mistakes, literasi_question_data_filtered):\n",
        "    combined_descriptions = pd.concat([mistakes['Question_Description'], literasi_question_data_filtered['Questions_Descriptions']])\n",
        "\n",
        "    tfidf_vectorizer = TfidfVectorizer()\n",
        "    tfidf_matrix = tfidf_vectorizer.fit_transform(combined_descriptions)\n",
        "\n",
        "    # Pisahkan TF-IDF matrix untuk user_mistakes dan literasi_question_data\n",
        "    tfidf_user_mistakes = tfidf_matrix[:len(mistakes)]\n",
        "    tfidf_literasi_question_data = tfidf_matrix[len(mistakes):]\n",
        "\n",
        "    # Hitung cosine similarity\n",
        "    similarity_matrix = cosine_similarity(tfidf_user_mistakes, tfidf_literasi_question_data)\n",
        "\n",
        "    # Menampilkan similarity matrix dalam bentuk DataFrame\n",
        "    similarity_df = pd.DataFrame(similarity_matrix, columns=literasi_question_data_filtered.index)\n",
        "    similarity_df.index = mistakes['ID_QUESTION'].values\n",
        "\n",
        "    # Filter similarity berdasarkan kategori yang sama\n",
        "    top_similar_questions = {}\n",
        "    for idx, user_question in enumerate(similarity_df.index):\n",
        "        category = mistakes.iloc[idx]['Question_Category']\n",
        "        same_category_indices = literasi_question_data_filtered[literasi_question_data_filtered['Question_Category'] == category].index\n",
        "        category_similarities = similarity_df.loc[user_question, same_category_indices]\n",
        "        top_similar_questions[user_question] = category_similarities.nlargest(10) # mengambil top 10 yang paling mirip\n",
        "\n",
        "    return top_similar_questions"
      ],
      "metadata": {
        "id": "lR7YK4EMu7ho"
      },
      "execution_count": null,
      "outputs": []
    },
    {
      "cell_type": "code",
      "source": [
        "# Menentukan proporsi soal berdasarkan kategori yang salah dijawab lebih banyak\n",
        "def determine_proportion(mistakes_per_category, total_questions=10, min_questions_per_category=1):\n",
        "   # Kategori yang ada\n",
        "    all_categories = user_data['Question_Category'].unique()\n",
        "\n",
        "    # Proporsi minimal untuk setiap kategori\n",
        "    proportion = pd.Series(min_questions_per_category, index=all_categories)\n",
        "\n",
        "    # Soal yang tersisa setelah distribusi minimal\n",
        "    remaining_questions = total_questions - proportion.sum()\n",
        "\n",
        "    # Proporsi berdasarkan kesalahan\n",
        "    if remaining_questions > 0:\n",
        "        mistakes_proportion = (mistakes_per_category / mistakes_per_category.sum() * remaining_questions).round().astype(int)\n",
        "        for cat in mistakes_proportion.index:\n",
        "            proportion[cat] += mistakes_proportion[cat]\n",
        "\n",
        "    # Jika masih ada sisa soal yang belum terdistribusi, tambahkan ke kategori dengan kesalahan terbanyak\n",
        "    remaining_questions = total_questions - proportion.sum()\n",
        "    if remaining_questions > 0:\n",
        "        most_mistakes_category = mistakes_per_category.idxmax()\n",
        "        proportion[most_mistakes_category] += remaining_questions\n",
        "\n",
        "    return proportion"
      ],
      "metadata": {
        "id": "8ZjeNlhKu_mo"
      },
      "execution_count": null,
      "outputs": []
    },
    {
      "cell_type": "code",
      "source": [
        "# Menyusun kuis berdasarkan proporsi dan soal-soal dengan similarity tertinggi\n",
        "def generate_quiz(proportion, top_similar_questions, mistakes, literasi_question_data_filtered, total_questions=10):\n",
        "    quiz_questions = []\n",
        "\n",
        "    # Soal yang salah dijawab berdasarkan similarity\n",
        "    for category in proportion.index:\n",
        "        questions_needed = proportion[category]\n",
        "        if category in mistakes['Question_Category'].values:\n",
        "            for user_question, similar_questions in top_similar_questions.items():\n",
        "                if mistakes.loc[mistakes['ID_QUESTION'] == user_question]['Question_Category'].values[0] == category:\n",
        "                    similar_question_ids = [literasi_question_data_filtered.loc[idx]['ID'] for idx in similar_questions.index]\n",
        "                    selected_questions = literasi_question_data_filtered[literasi_question_data_filtered['ID'].isin(similar_question_ids) &\n",
        "                                                                       (literasi_question_data_filtered['Question_Category'] == category)].head(questions_needed).to_dict('records')\n",
        "                    quiz_questions.extend(selected_questions)\n",
        "                    break\n",
        "\n",
        "    # Soal yang dijawab benar secara acak\n",
        "    for category in proportion.index:\n",
        "        if category not in mistakes['Question_Category'].values:\n",
        "            questions_needed = proportion[category]\n",
        "            selected_questions = literasi_question_data_filtered[literasi_question_data_filtered['Question_Category'] == category].sample(questions_needed).to_dict('records')\n",
        "            quiz_questions.extend(selected_questions)\n",
        "\n",
        "    # Pastikan hanya ada 10 soal\n",
        "    quiz_questions = quiz_questions[:total_questions]\n",
        "    return quiz_questions"
      ],
      "metadata": {
        "id": "PhYfk_wxvC0b"
      },
      "execution_count": null,
      "outputs": []
    },
    {
      "cell_type": "code",
      "source": [
        "# Memeriksa apakah user baru\n",
        "def is_new_user(user_id, user_history):\n",
        "    return user_history[user_history['ID_USER'] == user_id].empty\n",
        "\n",
        "# Menghasilkan soal untuk user baru secara merata per kategori\n",
        "def generate_questions_for_new_user(literasi_question_data, total_questions=10):\n",
        "    categories = literasi_question_data['Question_Category'].unique()\n",
        "    questions_per_category = total_questions // len(categories)\n",
        "\n",
        "    quiz_questions = []\n",
        "\n",
        "    for category in categories:\n",
        "        selected_questions = literasi_question_data[literasi_question_data['Question_Category'] == category].sample(questions_per_category).to_dict('records')\n",
        "        quiz_questions.extend(selected_questions)\n",
        "\n",
        "    # Jika ada sisa soal yang belum terdistribusi\n",
        "    remaining_questions = total_questions - len(quiz_questions)\n",
        "    if remaining_questions > 0:\n",
        "        extra_questions = literasi_question_data[~literasi_question_data['ID'].isin([q['ID'] for q in quiz_questions])].sample(remaining_questions).to_dict('records')\n",
        "        quiz_questions.extend(extra_questions)\n",
        "\n",
        "    return quiz_questions"
      ],
      "metadata": {
        "id": "HLMj9MfWl3_N"
      },
      "execution_count": null,
      "outputs": []
    },
    {
      "cell_type": "code",
      "source": [
        "# Memfilter soal yang sudah dijawab oleh user sebelumnya\n",
        "def filter_answered_questions(user_data, literasi_question_data):\n",
        "    answered_question_ids = user_data['ID_QUESTION'].unique()\n",
        "    return literasi_question_data[~literasi_question_data['ID'].isin(answered_question_ids)]"
      ],
      "metadata": {
        "id": "rxtU-XyaHs9f"
      },
      "execution_count": null,
      "outputs": []
    },
    {
      "cell_type": "code",
      "source": [
        "# Menyusun kuis sambil menghindari pengulangan soal berturut-turut\n",
        "def generate_quiz_avoiding_repeats(proportion, top_similar_questions, mistakes, literasi_question_data_filtered, last_questions, total_questions=10):\n",
        "    quiz_questions = []\n",
        "    used_questions = set(last_questions)  # Set untuk menyimpan soal yang sudah digunakan dalam kuis sebelumnya\n",
        "\n",
        "    # Soal yang salah dijawab berdasarkan similarity\n",
        "    for category in mistakes_per_category.index:\n",
        "        questions_needed = proportion[category]\n",
        "        for user_question, similar_questions in top_similar_questions.items():\n",
        "            if mistakes.loc[mistakes['ID_QUESTION'] == user_question]['Question_Category'].values[0] == category:\n",
        "                 similar_question_ids = [literasi_question_data_filtered.loc[idx]['ID'] for idx in similar_questions.index]\n",
        "                 selected_questions = literasi_question_data_filtered[literasi_question_data_filtered['ID'].isin(similar_question_ids) &\n",
        "                                                                     (literasi_question_data_filtered['Question_Category'] == category) &\n",
        "                                                                     (~literasi_question_data_filtered['ID'].isin(used_questions))].head(questions_needed).to_dict('records')\n",
        "                 quiz_questions.extend(selected_questions)\n",
        "                 used_questions.update([q['ID'] for q in selected_questions])\n",
        "                 break\n",
        "\n",
        "    # Soal yang dijawab benar secara acak\n",
        "    for category in proportion.index:\n",
        "        if category not in mistakes_per_category.index:\n",
        "            questions_needed = proportion[category]\n",
        "            selected_questions = literasi_question_data_filtered[literasi_question_data_filtered['Question_Category'] == category].sample(questions_needed).to_dict('records')\n",
        "            quiz_questions.extend(selected_questions)\n",
        "\n",
        "    # Pastikan hanya ada 10 soal\n",
        "    quiz_questions = quiz_questions[:total_questions]\n",
        "    return quiz_questions"
      ],
      "metadata": {
        "id": "nzmzz_z9NBo2"
      },
      "execution_count": null,
      "outputs": []
    },
    {
      "cell_type": "code",
      "source": [
        "# Merekomendasikan soal kepada user\n",
        "def recommend_questions_for_user(user_id, user_history, literasi_question_data, last_questions, total_questions=10):\n",
        "    if is_new_user(user_id, user_history):\n",
        "        print(\"User baru, generate soal secara merata per kategori.\")\n",
        "        quiz_questions = generate_questions_for_new_user(literasi_question_data, total_questions)\n",
        "\n",
        "    else:\n",
        "        user_data = user_history[user_history['ID_USER'] == user_id]\n",
        "\n",
        "        # Cek jika semua soal sudah pernah dijawab oleh user\n",
        "        if len(user_data['ID_QUESTION'].unique()) == len(literasi_question_data):\n",
        "            literasi_question_data_filtered = literasi_question_data.copy()\n",
        "        else:\n",
        "            literasi_question_data_filtered = filter_answered_questions(user_data, literasi_question_data)\n",
        "\n",
        "        total_questions_per_category = get_total_questions_per_category(user_data)\n",
        "\n",
        "        mistakes_per_category, mistakes = get_mistakes_per_category(user_data)\n",
        "\n",
        "        top_similar_questions = calculate_similarity(mistakes, literasi_question_data_filtered)\n",
        "\n",
        "        proportion = determine_proportion(mistakes_per_category, total_questions)\n",
        "        print(\"\\nProporsi soal yang akan ditampilkan untuk setiap kategori:\")\n",
        "        print(proportion)\n",
        "\n",
        "        quiz_questions = generate_quiz_avoiding_repeats(proportion, top_similar_questions, mistakes, literasi_question_data_filtered, last_questions, total_questions)\n",
        "\n",
        "    print(\"\\nSoal yang akan ditampilkan dalam kuis:\")\n",
        "    for question in quiz_questions:\n",
        "        print(question)\n",
        "\n",
        "    return [q['ID'] for q in quiz_questions]  # Mengembalikan ID soal yang digunakan dalam kuis"
      ],
      "metadata": {
        "id": "0kSFf_hZvFZp"
      },
      "execution_count": null,
      "outputs": []
    },
    {
      "cell_type": "code",
      "source": [
        "# Menentukan ID user\n",
        "user_id = 3\n",
        "last_questions = []\n",
        "\n",
        "# Menghitung jumlah soal untuk setiap kategori yang telah dijawab oleh user (untuk pengecekan)\n",
        "user_data = user_history[user_history['ID_USER'] == user_id]\n",
        "total_questions_per_category = user_data.groupby('Question_Category').size()\n",
        "print(\"Jumlah soal untuk setiap kategori yang telah dijawab oleh user:\")\n",
        "print(total_questions_per_category)\n",
        "\n",
        "# Menghitung jumlah soal yang salah dijawab oleh user untuk setiap kategori (untuk pengecekan)\n",
        "mistakes = user_data[user_data['USER_ANSWER'] != user_data['CORRECT_ANSWER']]\n",
        "mistakes_per_category = mistakes.groupby('Question_Category').size()\n",
        "print(\"\\nJumlah soal yang salah dijawab oleh user untuk setiap kategori:\")\n",
        "print(mistakes_per_category)\n",
        "\n",
        "last_questions = recommend_questions_for_user(user_id, user_history, literasi_question_data, last_questions)"
      ],
      "metadata": {
        "colab": {
          "base_uri": "https://localhost:8080/"
        },
        "id": "yaMsBolDvIYO",
        "outputId": "7e4467c0-6120-449a-b40e-db0765b6a72b"
      },
      "execution_count": null,
      "outputs": [
        {
          "output_type": "stream",
          "name": "stdout",
          "text": [
            "Jumlah soal untuk setiap kategori yang telah dijawab oleh user:\n",
            "Question_Category\n",
            "BI    3\n",
            "EN    5\n",
            "PM    2\n",
            "dtype: int64\n",
            "\n",
            "Jumlah soal yang salah dijawab oleh user untuk setiap kategori:\n",
            "Question_Category\n",
            "EN    5\n",
            "PM    1\n",
            "dtype: int64\n",
            "\n",
            "Proporsi soal yang akan ditampilkan untuk setiap kategori:\n",
            "BI    1\n",
            "EN    7\n",
            "PM    2\n",
            "dtype: int64\n",
            "\n",
            "Soal yang akan ditampilkan dalam kuis:\n",
            "{'ID': 839, 'Question_Category': 'EN', 'Questions_Descriptions': 'A Food Delivery App That Guarantees a Living Wage \\nWorkers at London’s Wings co-op get a minimum hourly income, plus benefits \\nWhen Rich Mason quit his job as a theater manager to deliver meals on his bicycle in  2017, he figured it would be a good way of earning some cash while exploring a career change.  But as a rider for a big delivery app, he says, he could barely cover his rent, bringing in as little  as £10 ($13.24) on some days. “It’s a really dehumanizing and horrible experience,” says Mason,  33. “You have no human manager you can talk to. You either get orders through your phone screen or you don’t.” \\nThat spurred Mason to seek a better way to get meals to hungry folks at home. In July he  started Wings, a cooperative in the North London neighborhood of Finsbury Park that delivers  meals from local restaurants. With £20,000 in government funding and grants from foundations,  Wings has hired a half-dozen riders who work five-hour shifts for a guaranteed wage of £11.05  an hour, the minimum needed to get by in London, according to the nonprofit Living Wage  Foundation. \\nWings is one of scores of cooperatives sprouting up to battle the inequity of part time  jobs, an issue that was made excruciatingly clear as the pandemic fueled soaring demand for  delivery services. Technology companies behind delivery apps are under pressure from investors  and governments to offer better conditions for workers, who are often classed as self-employed  with no benefits or any guarantee of a minimum wage. \\nThe big apps have dominated the industry so far, because they have vast pools of money  that allow them to build brand awareness and create the complex systems needed to ensure  reliability, says George Maier, a fellow at London School of Economics. But all that spending  hasn’t yielded consistent earnings. Deliveroo and Uber Eats have yet to turn a profit, and  DoorDash was only briefly profitable during the second quarter of 2020 as stay-at-home orders across the U.S. boosted demand for takeout. \\nWings uses a service called CoopCycle, provided by a Paris company that charges about  2% of revenue for software that can track couriers and manage orders from shops and  restaurants. The company has licensed the program to roughly 75 groups across Europe, most of  them less than a year old and about half of which are supported by some form of government  funding, says Adrien Claude, who helps CoopCycle members gain traction. “Every co-op is  running its own business, it’s usually cheaper for restaurants, it’s bike-only,” Claude says. “And  couriers are members, so they want to take care of customers and restaurants.”\\nThe writer’s tone toward the issue discussed in the passage is', 'Choice_1': 'Concerned ', 'Choice_2': 'Informative ', 'Choice_3': 'Criticize ', 'Choice_4': 'Supportive ', 'Right_Answer': 3}\n",
            "{'ID': 840, 'Question_Category': 'EN', 'Questions_Descriptions': 'A Food Delivery App That Guarantees a Living Wage \\nWorkers at London’s Wings co-op get a minimum hourly income, plus benefits \\nWhen Rich Mason quit his job as a theater manager to deliver meals on his bicycle in  2017, he figured it would be a good way of earning some cash while exploring a career change.  But as a rider for a big delivery app, he says, he could barely cover his rent, bringing in as little  as £10 ($13.24) on some days. “It’s a really dehumanizing and horrible experience,” says Mason,  33. “You have no human manager you can talk to. You either get orders through your phone screen or you don’t.” \\nThat spurred Mason to seek a better way to get meals to hungry folks at home. In July he  started Wings, a cooperative in the North London neighborhood of Finsbury Park that delivers  meals from local restaurants. With £20,000 in government funding and grants from foundations,  Wings has hired a half-dozen riders who work five-hour shifts for a guaranteed wage of £11.05  an hour, the minimum needed to get by in London, according to the nonprofit Living Wage  Foundation. \\nWings is one of scores of cooperatives sprouting up to battle the inequity of part time  jobs, an issue that was made excruciatingly clear as the pandemic fueled soaring demand for  delivery services. Technology companies behind delivery apps are under pressure from investors  and governments to offer better conditions for workers, who are often classed as self-employed  with no benefits or any guarantee of a minimum wage. \\nThe big apps have dominated the industry so far, because they have vast pools of money  that allow them to build brand awareness and create the complex systems needed to ensure  reliability, says George Maier, a fellow at London School of Economics. But all that spending  hasn’t yielded consistent earnings. Deliveroo and Uber Eats have yet to turn a profit, and  DoorDash was only briefly profitable during the second quarter of 2020 as stay-at-home orders across the U.S. boosted demand for takeout. \\nWings uses a service called CoopCycle, provided by a Paris company that charges about  2% of revenue for software that can track couriers and manage orders from shops and  restaurants. The company has licensed the program to roughly 75 groups across Europe, most of  them less than a year old and about half of which are supported by some form of government  funding, says Adrien Claude, who helps CoopCycle members gain traction. “Every co-op is  running its own business, it’s usually cheaper for restaurants, it’s bike-only,” Claude says. “And  couriers are members, so they want to take care of customers and restaurants.”\\nWhat is the text about?', 'Choice_1': 'Employee workload at Wings is directly correlated with pay', 'Choice_2': 'There is fierce corporate competition among food delivery services', 'Choice_3': 'Wings can ensure the survival of its employees by paying a fair salary ', 'Choice_4': 'Large food delivery service providers are losing money as a result of escessive  staff compensation costs ', 'Right_Answer': 2}\n",
            "{'ID': 842, 'Question_Category': 'EN', 'Questions_Descriptions': 'A Food Delivery App That Guarantees a Living Wage \\nWorkers at London’s Wings co-op get a minimum hourly income, plus benefits \\nWhen Rich Mason quit his job as a theater manager to deliver meals on his bicycle in  2017, he figured it would be a good way of earning some cash while exploring a career change.  But as a rider for a big delivery app, he says, he could barely cover his rent, bringing in as little  as £10 ($13.24) on some days. “It’s a really dehumanizing and horrible experience,” says Mason,  33. “You have no human manager you can talk to. You either get orders through your phone screen or you don’t.” \\nThat spurred Mason to seek a better way to get meals to hungry folks at home. In July he  started Wings, a cooperative in the North London neighborhood of Finsbury Park that delivers  meals from local restaurants. With £20,000 in government funding and grants from foundations,  Wings has hired a half-dozen riders who work five-hour shifts for a guaranteed wage of £11.05  an hour, the minimum needed to get by in London, according to the nonprofit Living Wage  Foundation. \\nWings is one of scores of cooperatives sprouting up to battle the inequity of part time  jobs, an issue that was made excruciatingly clear as the pandemic fueled soaring demand for  delivery services. Technology companies behind delivery apps are under pressure from investors  and governments to offer better conditions for workers, who are often classed as self-employed  with no benefits or any guarantee of a minimum wage. \\nThe big apps have dominated the industry so far, because they have vast pools of money  that allow them to build brand awareness and create the complex systems needed to ensure  reliability, says George Maier, a fellow at London School of Economics. But all that spending  hasn’t yielded consistent earnings. Deliveroo and Uber Eats have yet to turn a profit, and  DoorDash was only briefly profitable during the second quarter of 2020 as stay-at-home orders across the U.S. boosted demand for takeout. \\nWings uses a service called CoopCycle, provided by a Paris company that charges about  2% of revenue for software that can track couriers and manage orders from shops and  restaurants. The company has licensed the program to roughly 75 groups across Europe, most of  them less than a year old and about half of which are supported by some form of government  funding, says Adrien Claude, who helps CoopCycle members gain traction. “Every co-op is  running its own business, it’s usually cheaper for restaurants, it’s bike-only,” Claude says. “And  couriers are members, so they want to take care of customers and restaurants.”\\nThe relationship between riders who work five-hour in Wings is similar to that', 'Choice_1': 'Teachers and students', 'Choice_2': 'Ministries and president', 'Choice_3': 'Freelancer and company', 'Choice_4': 'Farmers and his field', 'Right_Answer': 2}\n",
            "{'ID': 843, 'Question_Category': 'EN', 'Questions_Descriptions': 'A Food Delivery App That Guarantees a Living Wage \\nWorkers at London’s Wings co-op get a minimum hourly income, plus benefits \\nWhen Rich Mason quit his job as a theater manager to deliver meals on his bicycle in  2017, he figured it would be a good way of earning some cash while exploring a career change.  But as a rider for a big delivery app, he says, he could barely cover his rent, bringing in as little  as £10 ($13.24) on some days. “It’s a really dehumanizing and horrible experience,” says Mason,  33. “You have no human manager you can talk to. You either get orders through your phone screen or you don’t.” \\nThat spurred Mason to seek a better way to get meals to hungry folks at home. In July he  started Wings, a cooperative in the North London neighborhood of Finsbury Park that delivers  meals from local restaurants. With £20,000 in government funding and grants from foundations,  Wings has hired a half-dozen riders who work five-hour shifts for a guaranteed wage of £11.05  an hour, the minimum needed to get by in London, according to the nonprofit Living Wage  Foundation. \\nWings is one of scores of cooperatives sprouting up to battle the inequity of part time  jobs, an issue that was made excruciatingly clear as the pandemic fueled soaring demand for  delivery services. Technology companies behind delivery apps are under pressure from investors  and governments to offer better conditions for workers, who are often classed as self-employed  with no benefits or any guarantee of a minimum wage. \\nThe big apps have dominated the industry so far, because they have vast pools of money  that allow them to build brand awareness and create the complex systems needed to ensure  reliability, says George Maier, a fellow at London School of Economics. But all that spending  hasn’t yielded consistent earnings. Deliveroo and Uber Eats have yet to turn a profit, and  DoorDash was only briefly profitable during the second quarter of 2020 as stay-at-home orders across the U.S. boosted demand for takeout. \\nWings uses a service called CoopCycle, provided by a Paris company that charges about  2% of revenue for software that can track couriers and manage orders from shops and  restaurants. The company has licensed the program to roughly 75 groups across Europe, most of  them less than a year old and about half of which are supported by some form of government  funding, says Adrien Claude, who helps CoopCycle members gain traction. “Every co-op is  running its own business, it’s usually cheaper for restaurants, it’s bike-only,” Claude says. “And  couriers are members, so they want to take care of customers and restaurants.”\\nThese statements are correct about the Wings, EXCEPT', 'Choice_1': 'Wings is a corporative-style business', 'Choice_2': 'Wings is against providing workers insufficient wages', 'Choice_3': 'Workers at Wings who deliver food are also CoopCyle members', 'Choice_4': 'Wings has thousands of employees in Paris', 'Right_Answer': 1}\n",
            "{'ID': 844, 'Question_Category': 'EN', 'Questions_Descriptions': 'A Food Delivery App That Guarantees a Living Wage \\nWorkers at London’s Wings co-op get a minimum hourly income, plus benefits \\nWhen Rich Mason quit his job as a theater manager to deliver meals on his bicycle in  2017, he figured it would be a good way of earning some cash while exploring a career change.  But as a rider for a big delivery app, he says, he could barely cover his rent, bringing in as little  as £10 ($13.24) on some days. “It’s a really dehumanizing and horrible experience,” says Mason,  33. “You have no human manager you can talk to. You either get orders through your phone screen or you don’t.” \\nThat spurred Mason to seek a better way to get meals to hungry folks at home. In July he  started Wings, a cooperative in the North London neighborhood of Finsbury Park that delivers  meals from local restaurants. With £20,000 in government funding and grants from foundations,  Wings has hired a half-dozen riders who work five-hour shifts for a guaranteed wage of £11.05  an hour, the minimum needed to get by in London, according to the nonprofit Living Wage  Foundation. \\nWings is one of scores of cooperatives sprouting up to battle the inequity of part time  jobs, an issue that was made excruciatingly clear as the pandemic fueled soaring demand for  delivery services. Technology companies behind delivery apps are under pressure from investors  and governments to offer better conditions for workers, who are often classed as self-employed  with no benefits or any guarantee of a minimum wage. \\nThe big apps have dominated the industry so far, because they have vast pools of money  that allow them to build brand awareness and create the complex systems needed to ensure  reliability, says George Maier, a fellow at London School of Economics. But all that spending  hasn’t yielded consistent earnings. Deliveroo and Uber Eats have yet to turn a profit, and  DoorDash was only briefly profitable during the second quarter of 2020 as stay-at-home orders across the U.S. boosted demand for takeout. \\nWings uses a service called CoopCycle, provided by a Paris company that charges about  2% of revenue for software that can track couriers and manage orders from shops and  restaurants. The company has licensed the program to roughly 75 groups across Europe, most of  them less than a year old and about half of which are supported by some form of government  funding, says Adrien Claude, who helps CoopCycle members gain traction. “Every co-op is  running its own business, it’s usually cheaper for restaurants, it’s bike-only,” Claude says. “And  couriers are members, so they want to take care of customers and restaurants.”\\nParagraph 4 implies that ', 'Choice_1': 'London’s most profitable business is DoorDash', 'Choice_2': 'Large expenses don’t always result in large profit', 'Choice_3': 'Large apps can create more money than cooperatives', 'Choice_4': 'Due to increased demand during the pandemic, Wings income rises', 'Right_Answer': 3}\n",
            "{'ID': 845, 'Question_Category': 'EN', 'Questions_Descriptions': 'A Food Delivery App That Guarantees a Living Wage \\nWorkers at London’s Wings co-op get a minimum hourly income, plus benefits \\nWhen Rich Mason quit his job as a theater manager to deliver meals on his bicycle in  2017, he figured it would be a good way of earning some cash while exploring a career change.  But as a rider for a big delivery app, he says, he could barely cover his rent, bringing in as little  as £10 ($13.24) on some days. “It’s a really dehumanizing and horrible experience,” says Mason,  33. “You have no human manager you can talk to. You either get orders through your phone screen or you don’t.” \\nThat spurred Mason to seek a better way to get meals to hungry folks at home. In July he  started Wings, a cooperative in the North London neighborhood of Finsbury Park that delivers  meals from local restaurants. With £20,000 in government funding and grants from foundations,  Wings has hired a half-dozen riders who work five-hour shifts for a guaranteed wage of £11.05  an hour, the minimum needed to get by in London, according to the nonprofit Living Wage  Foundation. \\nWings is one of scores of cooperatives sprouting up to battle the inequity of part time  jobs, an issue that was made excruciatingly clear as the pandemic fueled soaring demand for  delivery services. Technology companies behind delivery apps are under pressure from investors  and governments to offer better conditions for workers, who are often classed as self-employed  with no benefits or any guarantee of a minimum wage. \\nThe big apps have dominated the industry so far, because they have vast pools of money  that allow them to build brand awareness and create the complex systems needed to ensure  reliability, says George Maier, a fellow at London School of Economics. But all that spending  hasn’t yielded consistent earnings. Deliveroo and Uber Eats have yet to turn a profit, and  DoorDash was only briefly profitable during the second quarter of 2020 as stay-at-home orders across the U.S. boosted demand for takeout. \\nWings uses a service called CoopCycle, provided by a Paris company that charges about  2% of revenue for software that can track couriers and manage orders from shops and  restaurants. The company has licensed the program to roughly 75 groups across Europe, most of  them less than a year old and about half of which are supported by some form of government  funding, says Adrien Claude, who helps CoopCycle members gain traction. “Every co-op is  running its own business, it’s usually cheaper for restaurants, it’s bike-only,” Claude says. “And  couriers are members, so they want to take care of customers and restaurants.”\\nWhich of these is correct about the war in DoorDash?', 'Choice_1': 'One such food delivery service operating profitably in the epidemic period', 'Choice_2': 'Wings, Deliverioo, and Uber Eats are used by businesses in variety of industries', 'Choice_3': 'Largest food delivery business in the United States of America ', 'Choice_4': 'One of the biggest delivery firms still affected by the pandemic', 'Right_Answer': 3}\n",
            "{'ID': 847, 'Question_Category': 'EN', 'Questions_Descriptions': 'A Food Delivery App That Guarantees a Living Wage \\nWorkers at London’s Wings co-op get a minimum hourly income, plus benefits \\nWhen Rich Mason quit his job as a theater manager to deliver meals on his bicycle in  2017, he figured it would be a good way of earning some cash while exploring a career change.  But as a rider for a big delivery app, he says, he could barely cover his rent, bringing in as little  as £10 ($13.24) on some days. “It’s a really dehumanizing and horrible experience,” says Mason,  33. “You have no human manager you can talk to. You either get orders through your phone screen or you don’t.” \\nThat spurred Mason to seek a better way to get meals to hungry folks at home. In July he  started Wings, a cooperative in the North London neighborhood of Finsbury Park that delivers  meals from local restaurants. With £20,000 in government funding and grants from foundations,  Wings has hired a half-dozen riders who work five-hour shifts for a guaranteed wage of £11.05  an hour, the minimum needed to get by in London, according to the nonprofit Living Wage  Foundation. \\nWings is one of scores of cooperatives sprouting up to battle the inequity of part time  jobs, an issue that was made excruciatingly clear as the pandemic fueled soaring demand for  delivery services. Technology companies behind delivery apps are under pressure from investors  and governments to offer better conditions for workers, who are often classed as self-employed  with no benefits or any guarantee of a minimum wage. \\nThe big apps have dominated the industry so far, because they have vast pools of money  that allow them to build brand awareness and create the complex systems needed to ensure  reliability, says George Maier, a fellow at London School of Economics. But all that spending  hasn’t yielded consistent earnings. Deliveroo and Uber Eats have yet to turn a profit, and  DoorDash was only briefly profitable during the second quarter of 2020 as stay-at-home orders across the U.S. boosted demand for takeout. \\nWings uses a service called CoopCycle, provided by a Paris company that charges about  2% of revenue for software that can track couriers and manage orders from shops and  restaurants. The company has licensed the program to roughly 75 groups across Europe, most of  them less than a year old and about half of which are supported by some form of government  funding, says Adrien Claude, who helps CoopCycle members gain traction. “Every co-op is  running its own business, it’s usually cheaper for restaurants, it’s bike-only,” Claude says. “And  couriers are members, so they want to take care of customers and restaurants.”\\nThe relationship between courier wages and their welfare is similar to that of ', 'Choice_1': 'Flooding and deforestation', 'Choice_2': 'Restaurant and chef', 'Choice_3': 'Watermelons and fruits', 'Choice_4': 'Advertising and demand', 'Right_Answer': 3}\n",
            "{'ID': 889, 'Question_Category': 'PM', 'Questions_Descriptions': 'Diketahui pada suatu seleksi calon karyawan terdapat 3 orang pria dan 4 orang wanita yang duduk secara melingkar. Dalam seleksi tersebut, mereka wajib mengerjakan 8 soal dari 12 soal tes yang diberikan dan akan dipilih 3 orang yang lolos seleksi sebagai karyawan. Berdasarkan informasi tersebut, manakah di antara pilihan berikut yang bernilai benar?\\n1. Banyak cara duduk calon karyawan tersebut adalah 210 cara.\\n2. Jika 5 soal pertama wajib dikerjakan, banyak kemungkinan pilihan soal yang dikerjakan dari setiap calon karyawan adalah 120 cara.\\n3. Banyak kemungkinan variasi peserta yang lolos seleksi adalah 70.\\n4. Banyak kemungkinan jika seorang pria dan 2 orang wanita yang lolos seleksi adalah 18.', 'Choice_1': '1, 2, dan 3 SAJA yang benar.', 'Choice_2': '1 dan 3 SAJA yang benar.', 'Choice_3': '2 dan 4 SAJA yang benar.', 'Choice_4': 'HANYA 4 yang benar.', 'Right_Answer': 3}\n",
            "{'ID': 899, 'Question_Category': 'PM', 'Questions_Descriptions': 'Dua orang karyawan swasta mendaftar sebagai peserta asuransi kesehatan dengan besar  premi yang sama. Guna membayar premi asuransi tersebut, karyawan A yang memiliki gajiRp6.000.000,00 akan dikenakan potongan gaji sebesar 4%, sedangkan karyawan B dikenakan potongan gaji sebesar 6%.\\n\\nBerdasarkan informasi tersebut, besar gaji karyawan B adalah', 'Choice_1': 'Rp5.000.000,00', 'Choice_2': 'Rp5.500.000,00', 'Choice_3': 'Rp4.500.000,00', 'Choice_4': 'Rp4.000.000,00', 'Right_Answer': 3}\n",
            "{'ID': 643, 'Question_Category': 'BI', 'Questions_Descriptions': 'Untuk sebagian besar spesies hewan, jumlah individu dalam spesies berbanding terbalik dengan ukuran tubuh rata-rata anggota spesies: semakin kecil ukuran tubuh, semakin besar jumlah individu hewan. Tamarin, monyet kecil Amerika Selatan, melanggar aturan ini. Dari sepuluh spesies primata yang dipelajari di Taman Nasional Manu Peru, misalnya, dua spesies tamarin, punggung pelana, dan kaisar, masing-masing menempati urutan kedelapan dan kesembilan yang paling tidak melimpah. Hanya marmoset kerdil, yang lebih kecil lagi, yang jumlahnya lebih sedikit. Kelangkaan tamarin tidak mudah dijelaskan; itu tidak dapat diabaikan sebagai konsekuensi dari diet, karena tamarin memakan campuran buah, nektar, dan mangsa kecil yang sama seperti yang dilakukan beberapa rekan mereka yang lebih besar, termasuk dua capuchin yang dikenal sebagai monyet tupai dan monyet malam. Meskipun proporsi relatif buah yang dikonsumsi agak bervariasi di antara spesies, sulit membayangkan bahwa perbedaan halus seperti itu sangat penting untuk memahami kelangkaan relatif tamarin. Untuk menekankan betapa langkanya tamarin, kita dapat membandingkannya dengan primata omnivora lainnya di komunitas. Dalam hal jumlah individu per kilometer persegi, peringkat mereka jauh di bawah dua capuchin, monyet tupai, dan monyet malam. Dan dalam hal biomassa, atau berat total individu yang menempati satu unit area habitat, setiap spesies tamarin hadir hanya seperdua puluh massa capuchin coklat atau sepersepuluh massa monyet tupai. Untuk mendapatkan perspektif lain, pertimbangkan persyaratan spasial tamarin. Tamarin sangat teritorial, dengan penuh semangat mengusir setiap penyusup yang mungkin tersesat di dalam batas-batas domain mereka yang ditentukan dengan tajam. Kelompok menginvestasikan sebagian besar waktu dan energi mereka untuk berpatroli di batas wilayah mereka, mengumumkan kehadiran mereka kepada tetangga mereka dengan teriakan melengking dan menyapu. Teritorial terpadu seperti itu agak luar biasa di antara primata, meskipun owa dan siamang Asia menunjukkannya, seperti halnya beberapa spesies Dunia Baru lainnya seperti titi dan monyet malam. Monyet titi secara rutin hidup dalam wilayah seluas 6 hingga 2 hektar, dan monyet malam jarang bertahan lebih dari 10 hektar, tetapi kelompok tamarin secara rutin menempati 30 hingga 120 hektar. Yang paling mengejutkan tentang wilayah tamarin adalah ukurannya. Bandingkan ini dengan 1 hingga 2 hektar yang dibutuhkan oleh tupai abu-abu Amerika Utara biasa, mamalia nonteritorial dengan ukuran yang hampir sama. Sekelompok tamarin menggunakan ruang yang sama banyaknya dengan pasukan capuchin coklat, meskipun yang terakhir memiliki berat 15 kali lipat. Jadi, selain langka, tamarin membutuhkan ruang yang tampaknya benar-benar tidak proporsional dengan ukurannya.\\nManakah dari berikut ini yang TIDAK disebutkan dalam bagian ini sebagai spesies yang kelompoknya menunjukkan teritorial?', 'Choice_1': 'Owa', 'Choice_2': 'Siamang', 'Choice_3': 'Titi monyet', 'Choice_4': 'Monyet tupai', 'Right_Answer': 1}\n"
          ]
        }
      ]
    }
  ]
}