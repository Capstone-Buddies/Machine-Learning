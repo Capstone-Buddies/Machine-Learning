{
  "nbformat": 4,
  "nbformat_minor": 0,
  "metadata": {
    "colab": {
      "provenance": []
    },
    "kernelspec": {
      "name": "python3",
      "display_name": "Python 3"
    },
    "language_info": {
      "name": "python"
    }
  },
  "cells": [
    {
      "cell_type": "code",
      "execution_count": null,
      "metadata": {
        "id": "IW-Y-Cqjut3s"
      },
      "outputs": [],
      "source": [
        "import pandas as pd\n",
        "import numpy as np\n",
        "from sklearn.feature_extraction.text import TfidfVectorizer\n",
        "from sklearn.metrics.pairwise import cosine_similarity"
      ]
    },
    {
      "cell_type": "code",
      "source": [
        "link_tps = 'https://raw.githubusercontent.com/Capstone-Buddies/Machine-Learning/main/Dataset/SNBT%20Datasets%20-%20TPS.csv'\n",
        "link_answer_history_tps = 'https://raw.githubusercontent.com/Capstone-Buddies/Machine-Learning/main/Dataset/SNBT%20Datasets%20-%20Answer_History_TPS.csv'\n",
        "\n",
        "user_history = pd.read_csv(link_answer_history_tps)\n",
        "tps_question_data = pd.read_csv(link_tps)"
      ],
      "metadata": {
        "id": "JLUrp8Ipu0gu"
      },
      "execution_count": null,
      "outputs": []
    },
    {
      "cell_type": "code",
      "source": [
        "# Menghitung jumlah soal yang telah dijawab oleh user untuk setiap kategori\n",
        "def get_total_questions_per_category(user_data):\n",
        "    return user_data.groupby('Question_Category').size()\n",
        "\n",
        "# Menghitung jumlah soal yang salah dijawab oleh user untuk setiap kategori\n",
        "def get_mistakes_per_category(user_data):\n",
        "    mistakes = user_data[user_data['USER_ANSWER'] != user_data['CORRECT_ANSWER']]\n",
        "    return mistakes.groupby('Question_Category').size(), mistakes"
      ],
      "metadata": {
        "id": "mdiPCDxTu1Zo"
      },
      "execution_count": null,
      "outputs": []
    },
    {
      "cell_type": "code",
      "source": [
        "# Menghitung similarity antara soal yang salah dijawab dengan soal lain dalam kategori yang sama\n",
        "def calculate_similarity(mistakes, tps_question_data_filtered):\n",
        "    combined_descriptions = pd.concat([mistakes['Question_Description'], tps_question_data_filtered['Questions_Descriptions']])\n",
        "\n",
        "    tfidf_vectorizer = TfidfVectorizer()\n",
        "    tfidf_matrix = tfidf_vectorizer.fit_transform(combined_descriptions)\n",
        "\n",
        "    # Pisahkan TF-IDF matrix untuk user_mistakes dan tps_question_data\n",
        "    tfidf_user_mistakes = tfidf_matrix[:len(mistakes)]\n",
        "    tfidf_tps_question_data = tfidf_matrix[len(mistakes):]\n",
        "\n",
        "    # Hitung cosine similarity\n",
        "    similarity_matrix = cosine_similarity(tfidf_user_mistakes, tfidf_tps_question_data)\n",
        "\n",
        "    # Menampilkan similarity matrix dalam bentuk DataFrame\n",
        "    similarity_df = pd.DataFrame(similarity_matrix, columns=tps_question_data_filtered.index)\n",
        "    similarity_df.index = mistakes['ID_QUESTION'].values\n",
        "\n",
        "    # Filter similarity berdasarkan kategori yang sama\n",
        "    top_similar_questions = {}\n",
        "    for idx, user_question in enumerate(similarity_df.index):\n",
        "        category = mistakes.iloc[idx]['Question_Category']\n",
        "        same_category_indices = tps_question_data_filtered[tps_question_data_filtered['Question_Category'] == category].index\n",
        "        category_similarities = similarity_df.loc[user_question, same_category_indices]\n",
        "        top_similar_questions[user_question] = category_similarities.nlargest(10) # mengambil top 10 yang paling mirip\n",
        "\n",
        "    return top_similar_questions"
      ],
      "metadata": {
        "id": "lR7YK4EMu7ho"
      },
      "execution_count": null,
      "outputs": []
    },
    {
      "cell_type": "code",
      "source": [
        "# Menentukan proporsi soal berdasarkan kategori yang salah dijawab lebih banyak\n",
        "def determine_proportion(mistakes_per_category, total_questions=10, min_questions_per_category=1):\n",
        "   # Kategori yang ada\n",
        "    all_categories = user_data['Question_Category'].unique()\n",
        "\n",
        "    # Proporsi minimal untuk setiap kategori\n",
        "    proportion = pd.Series(min_questions_per_category, index=all_categories)\n",
        "\n",
        "    # Soal yang tersisa setelah distribusi minimal\n",
        "    remaining_questions = total_questions - proportion.sum()\n",
        "\n",
        "    # Proporsi berdasarkan kesalahan\n",
        "    if remaining_questions > 0:\n",
        "        mistakes_proportion = (mistakes_per_category / mistakes_per_category.sum() * remaining_questions).round().astype(int)\n",
        "        for cat in mistakes_proportion.index:\n",
        "            proportion[cat] += mistakes_proportion[cat]\n",
        "\n",
        "    # Jika masih ada sisa soal yang belum terdistribusi, tambahkan ke kategori dengan kesalahan terbanyak\n",
        "    remaining_questions = total_questions - proportion.sum()\n",
        "    if remaining_questions > 0:\n",
        "        most_mistakes_category = mistakes_per_category.idxmax()\n",
        "        proportion[most_mistakes_category] += remaining_questions\n",
        "\n",
        "    return proportion"
      ],
      "metadata": {
        "id": "8ZjeNlhKu_mo"
      },
      "execution_count": null,
      "outputs": []
    },
    {
      "cell_type": "code",
      "source": [
        "# Menyusun kuis berdasarkan proporsi dan soal-soal dengan similarity tertinggi\n",
        "def generate_quiz(proportion, top_similar_questions, mistakes, tps_question_data_filtered, total_questions=10):\n",
        "    quiz_questions = []\n",
        "\n",
        "    # Soal yang salah dijawab berdasarkan similarity\n",
        "    for category in proportion.index:\n",
        "        questions_needed = proportion[category]\n",
        "        if category in mistakes['Question_Category'].values:\n",
        "            for user_question, similar_questions in top_similar_questions.items():\n",
        "                if mistakes.loc[mistakes['ID_QUESTION'] == user_question]['Question_Category'].values[0] == category:\n",
        "                    similar_question_ids = [tps_question_data_filtered.loc[idx]['ID'] for idx in similar_questions.index]\n",
        "                    selected_questions = tps_question_data_filtered[tps_question_data_filtered['ID'].isin(similar_question_ids) &\n",
        "                                                                   (tps_question_data_filtered['Question_Category'] == category)].head(questions_needed).to_dict('records')\n",
        "                    quiz_questions.extend(selected_questions)\n",
        "                    break\n",
        "\n",
        "    # Soal yang dijawab benar secara acak\n",
        "    for category in proportion.index:\n",
        "        if category not in mistakes['Question_Category'].values:\n",
        "            questions_needed = proportion[category]\n",
        "            selected_questions = tps_question_data_filtered[tps_question_data_filtered['Question_Category'] == category].sample(questions_needed).to_dict('records')\n",
        "            quiz_questions.extend(selected_questions)\n",
        "\n",
        "    # Pastikan hanya ada 10 soal\n",
        "    quiz_questions = quiz_questions[:total_questions]\n",
        "    return quiz_questions"
      ],
      "metadata": {
        "id": "PhYfk_wxvC0b"
      },
      "execution_count": null,
      "outputs": []
    },
    {
      "cell_type": "code",
      "source": [
        "# Memeriksa apakah user baru\n",
        "def is_new_user(user_id, user_history):\n",
        "    return user_history[user_history['ID_USER'] == user_id].empty\n",
        "\n",
        "# Menghasilkan soal untuk user baru secara merata per kategori\n",
        "def generate_questions_for_new_user(tps_question_data, total_questions=10):\n",
        "    categories = tps_question_data['Question_Category'].unique()\n",
        "    questions_per_category = total_questions // len(categories)\n",
        "\n",
        "    quiz_questions = []\n",
        "\n",
        "    for category in categories:\n",
        "        selected_questions = tps_question_data[tps_question_data['Question_Category'] == category].sample(questions_per_category).to_dict('records')\n",
        "        quiz_questions.extend(selected_questions)\n",
        "\n",
        "    # Jika ada sisa soal yang belum terdistribusi\n",
        "    remaining_questions = total_questions - len(quiz_questions)\n",
        "    if remaining_questions > 0:\n",
        "        extra_questions = tps_question_data[~tps_question_data['ID'].isin([q['ID'] for q in quiz_questions])].sample(remaining_questions).to_dict('records')\n",
        "        quiz_questions.extend(extra_questions)\n",
        "\n",
        "    return quiz_questions"
      ],
      "metadata": {
        "id": "HLMj9MfWl3_N"
      },
      "execution_count": null,
      "outputs": []
    },
    {
      "cell_type": "code",
      "source": [
        "# Memfilter soal yang sudah dijawab oleh user sebelumnya\n",
        "def filter_answered_questions(user_data, tps_question_data):\n",
        "    answered_question_ids = user_data['ID_QUESTION'].unique()\n",
        "    return tps_question_data[~tps_question_data['ID'].isin(answered_question_ids)]"
      ],
      "metadata": {
        "id": "rxtU-XyaHs9f"
      },
      "execution_count": null,
      "outputs": []
    },
    {
      "cell_type": "code",
      "source": [
        "# Menyusun kuis sambil menghindari pengulangan soal berturut-turut\n",
        "def generate_quiz_avoiding_repeats(proportion, top_similar_questions, mistakes, tps_question_data_filtered, last_questions, total_questions=10):\n",
        "    quiz_questions = []\n",
        "    used_questions = set(last_questions)  # Set untuk menyimpan soal yang sudah digunakan dalam kuis sebelumnya\n",
        "\n",
        "   # Soal yang salah dijawab berdasarkan similarity\n",
        "    for category in mistakes_per_category.index:\n",
        "        questions_needed = proportion[category]\n",
        "        for user_question, similar_questions in top_similar_questions.items():\n",
        "            if mistakes.loc[mistakes['ID_QUESTION'] == user_question]['Question_Category'].values[0] == category:\n",
        "                 similar_question_ids = [tps_question_data_filtered.loc[idx]['ID'] for idx in similar_questions.index]\n",
        "                 selected_questions = tps_question_data_filtered[tps_question_data_filtered['ID'].isin(similar_question_ids) &\n",
        "                                                                (tps_question_data_filtered['Question_Category'] == category) &\n",
        "                                                                (~tps_question_data_filtered['ID'].isin(used_questions))].head(questions_needed).to_dict('records')\n",
        "                 quiz_questions.extend(selected_questions)\n",
        "                 used_questions.update([q['ID'] for q in selected_questions])\n",
        "                 break\n",
        "\n",
        "    # Soal yang dijawab benar secara acak\n",
        "    for category in proportion.index:\n",
        "        if category not in mistakes_per_category.index:\n",
        "            questions_needed = proportion[category]\n",
        "            selected_questions = tps_question_data_filtered[tps_question_data_filtered['Question_Category'] == category].sample(questions_needed).to_dict('records')\n",
        "            quiz_questions.extend(selected_questions)\n",
        "\n",
        "    # Pastikan hanya ada 10 soal\n",
        "    quiz_questions = quiz_questions[:total_questions]\n",
        "    return quiz_questions"
      ],
      "metadata": {
        "id": "nzmzz_z9NBo2"
      },
      "execution_count": null,
      "outputs": []
    },
    {
      "cell_type": "code",
      "source": [
        "# Merekomendasikan soal kepada user\n",
        "def recommend_questions_for_user(user_id, user_history, tps_question_data, last_questions, total_questions=10):\n",
        "    if is_new_user(user_id, user_history):\n",
        "        print(\"User baru, generate soal secara merata per kategori.\")\n",
        "        quiz_questions = generate_questions_for_new_user(tps_question_data, total_questions)\n",
        "\n",
        "    else:\n",
        "        user_data = user_history[user_history['ID_USER'] == user_id]\n",
        "\n",
        "        # Cek jika semua soal sudah pernah dijawab oleh user\n",
        "        if len(user_data['ID_QUESTION'].unique()) == len(tps_question_data):\n",
        "            tps_question_data_filtered = tps_question_data.copy()\n",
        "        else:\n",
        "            tps_question_data_filtered = filter_answered_questions(user_data, tps_question_data)\n",
        "\n",
        "        total_questions_per_category = get_total_questions_per_category(user_data)\n",
        "\n",
        "        mistakes_per_category, mistakes = get_mistakes_per_category(user_data)\n",
        "\n",
        "        top_similar_questions = calculate_similarity(mistakes, tps_question_data_filtered)\n",
        "\n",
        "        proportion = determine_proportion(mistakes_per_category, total_questions)\n",
        "        print(\"\\nProporsi soal yang akan ditampilkan untuk setiap kategori:\")\n",
        "        print(proportion)\n",
        "\n",
        "        quiz_questions = generate_quiz_avoiding_repeats(proportion, top_similar_questions, mistakes, tps_question_data_filtered, last_questions, total_questions)\n",
        "\n",
        "    print(\"\\nSoal yang akan ditampilkan dalam kuis:\")\n",
        "    for question in quiz_questions:\n",
        "        print(question)\n",
        "\n",
        "    return [q['ID'] for q in quiz_questions]  # Mengembalikan ID soal yang digunakan dalam kuis"
      ],
      "metadata": {
        "id": "0kSFf_hZvFZp"
      },
      "execution_count": null,
      "outputs": []
    },
    {
      "cell_type": "code",
      "source": [
        "# Menentukan ID user\n",
        "user_id = 36\n",
        "last_questions = []\n",
        "\n",
        "# Menghitung jumlah soal untuk setiap kategori yang telah dijawab oleh user (untuk pengecekan)\n",
        "user_data = user_history[user_history['ID_USER'] == user_id]\n",
        "total_questions_per_category = user_data.groupby('Question_Category').size()\n",
        "print(\"Jumlah soal untuk setiap kategori yang telah dijawab oleh user:\")\n",
        "print(total_questions_per_category)\n",
        "\n",
        "# Menghitung jumlah soal yang salah dijawab oleh user untuk setiap kategori (untuk pengecekan)\n",
        "mistakes = user_data[user_data['USER_ANSWER'] != user_data['CORRECT_ANSWER']]\n",
        "mistakes_per_category = mistakes.groupby('Question_Category').size()\n",
        "print(\"\\nJumlah soal yang salah dijawab oleh user untuk setiap kategori:\")\n",
        "print(mistakes_per_category)\n",
        "\n",
        "last_questions = recommend_questions_for_user(user_id, user_history, tps_question_data, last_questions)"
      ],
      "metadata": {
        "colab": {
          "base_uri": "https://localhost:8080/"
        },
        "id": "yaMsBolDvIYO",
        "outputId": "7912fcce-9b9f-4b79-8992-adc18aad0049"
      },
      "execution_count": null,
      "outputs": [
        {
          "output_type": "stream",
          "name": "stdout",
          "text": [
            "Jumlah soal untuk setiap kategori yang telah dijawab oleh user:\n",
            "Series([], dtype: int64)\n",
            "\n",
            "Jumlah soal yang salah dijawab oleh user untuk setiap kategori:\n",
            "Series([], dtype: int64)\n",
            "User baru, generate soal secara merata per kategori.\n",
            "\n",
            "Soal yang akan ditampilkan dalam kuis:\n",
            "{'ID': 76, 'Question_Category': 'PU', 'Questions_Descriptions': 'Perkembangan teknologi informasi (TI) saat ini ternyata tidak dibarengi dengan filterisasi budaya masyarakat luar yang justru makin mendegradasikan nilai moral anak bangsa. (2) Penggunaan Facebook yang demikian masif ternyata disalahgunakan oleh beberapa pihak untuk melakukan penipuan. (3) Ada banyak kasus penipuan dimasyarakat melalui Facebook: mulai dari kasus gadis dibawa lari oleh orang yang baru dikenal melalui Facebook hingga kasus bunuh diri karena komentar di Facebook. (4) Seharusnya disadari bahwa, dunia maya hanya sekadar gambaran dan bukan realitas yang diciptakan. (5) Semua hal tersebut di dunia maya memang mudah untuk dilakukan. (6) Bahkan, berbagai komentar dan status yang seolah-olah “wah” di depan orang lain tidak hanya mudah mengelabui orang, tetapi juga merusak moral. (7) Tidak sedikit dari para pengguna jejaring sosial yang saling melontarkan komentar negatif dan merendahkan hanya karena status.\\n\\n(8) Sementara, lewat televisi bisa didapatkan informasi secara lebih cepat. (9) Gambar-gambar yang ditunjukkan oleh televisi sudah mewakili informasi tentang suatu peristiwa yang ingin kita dapatkan. (10) Fungsi televisi sebagai media informasi dan hiburan ternyata tidak dibarengi dengan program-program yang mampu mendidik karakter bangsa. (12) Program televisi, seperti film dan sinetron, justru banyak disalah persepsikan oleh remaja saat ini. (13) Tampaknya, banyak film dan sinetron yang justru tidak bisa mengajarkan bertutur kata yang baik.\\n\\nManakah pertanyaan yang jawabannya tidak terdapat dalam teks', 'Choice_1': 'Apakah teknologi informasi termasuk budaya masyarakat luar?', 'Choice_2': 'Mengapa penggunaan Facebook begitu masif pada masa kini?', 'Choice_3': 'Apakah televisi mengajarkan pemakaian bahasa nonformal?', 'Choice_4': 'Apakah gambar-gambar di televisi sudah transparan?', 'Right_Answer': 2}\n",
            "{'ID': 148, 'Question_Category': 'PU', 'Questions_Descriptions': 'Semua kue adalah manis,\\nSemua kue adalah coklat.', 'Choice_1': 'Semua coklat adalah manis', 'Choice_2': 'Sebagian coklat tidaklah manis', 'Choice_3': 'Sebagian kue manis bukan coklat', 'Choice_4': 'Coklat bukanlah kue manis', 'Right_Answer': 0}\n",
            "{'ID': 164, 'Question_Category': 'PBM', 'Questions_Descriptions': '(1) Selama kurun waktu 10 tahun terakhir, kondisi inflasi Indonesia belum stabil. (2) Kehidupan [...] tidak lepas dari inflasi yang terlihat dari naiknya harga barang-barang kebutuhan pokok dari tahun ke tahun. (3) Definisi konsep nilai waktu uang adalah jumlah [...] yang sama hari ini lebih bermakna daripada esok. (4)\\nArtinya, inflasi dapat mengurangi daya beli uang yang kita miliki sekarang karena menumbuhkan harga terus-menerus. (5) Akibatnya, pendapatan [...] menurun sehingga banyak masyarakat semakin susah memenuhi kebutuhan sehari-harinya. (6) Oleh karena itu, investasi diperlukan untuk melindungi nilai aset atau [...] sehingga dapat digunakan sebagai persiapan kebutuhan di masa depan.\\n\\nKata yang paling tepat untuk melengkapi titik-titik pada kalimat (3) adalah', 'Choice_1': 'kas', 'Choice_2': 'prive', 'Choice_3': 'utang', 'Choice_4': 'modal', 'Right_Answer': 0}\n",
            "{'ID': 159, 'Question_Category': 'PBM', 'Questions_Descriptions': '.... Bintang-bintang di langit bertaburan dengan memancarkan cahaya yang berkelip-kelip. Langit tidak tetutup awan. Desir angin yang bertiup terasa lembut menyentuh kulit.\\nKalimat yang tepat untuk melengkapi paragraf tersebut adalah', 'Choice_1': 'Suasana cukup mengesankan', 'Choice_2': 'Udara malam ini lembut sekali', 'Choice_3': 'Malam ini angin bertiup sepoi-sepoi basah', 'Choice_4': 'Malam ini indah dan udara cerah sekali.', 'Right_Answer': 3}\n",
            "{'ID': 349, 'Question_Category': 'PPU', 'Questions_Descriptions': 'Bangsa Sumeria Kuno berkembang ribuan tahun lalu di antara Sungai Tigris dan Efrat. Wilayahnya sekarang disebut Irak Selatan. Sejarawan, Samuel Noah Kramer, menyebutkan bahwa Sumeria Kuno membangun peradaban dengan teknologi yang mutakhir pada zamannya.\\n\\nBangsa Sumeria, yang kemudian disebut oleh orang Yunani sebagai Mesopotamia, [....] teknologi baru dan menyempurnakan penggunaan skala besar yang sudah ada. Dalam prosesnya, mereka mereka mengubah cara manusia mengolah makanan, membangun tempat tinggal, berkomunikasi, dan melacak informasi dan waktu.\\n\\nSeperti yang ditulis Kramer, ada sesuatu dalam identitas Sumeria yang mendorong mereka untuk bermimpi besar dan berpikir cerdik. “Secara spirital dan psikologis, mereka memberikan tekanan besar pada ambisi dan kesuksesan, keunggulan, martabat, kehormatan, dan pengakuan,” jelasnya. Inovasi Sumeria secara bertahap menyebar dan mengarah pada perkembangan dunia modern berteknologi maju yang kita jalani saat ini. Beberapa teknologi Sumeria yang berdampak hingga sekarang adalah tembikar, tulisan, teknik hidrolik, pabrik tekstil, batu bata, dan matematika.\\n\\nKata yang dapat menggantikan kata mutakhir pada paragraf 1 adalah', 'Choice_1': 'tercanggih', 'Choice_2': 'terbaik', 'Choice_3': 'terpopuler', 'Choice_4': 'teraktual', 'Right_Answer': 3}\n",
            "{'ID': 299, 'Question_Category': 'PPU', 'Questions_Descriptions': '(1) Saat ini, pelaku UMKM harus melek masalah HAKI (hak atas kekayaan intelektual) dan merek.\\n(2) Bagaimanapun, merek menjadi hal yang sangat penting bagi pelaku UMKM agar produk yang dijualnya memiliki nilai jual yang tinggi.\\n(3) Sebagai contoh, sebuah produk tanpa merek dibandrol dengan harga Rp5.000,00.\\n(4) Namun, ketika sudah memiliki merek, harga produk tersebut bisa mencapai Rp40.000,00.\\n(5) Contoh itu menunjukkan bahwa merek berperan penting dalam meningkatkan nilai jual.\\n(6) Merek berfungsi sebagai pembeda di antara pesaing yang menjual produk serupa.\\n(7) Hal itulah yang menjadikan perlunya pelaku UMKM untuk mendaftarkan merek produknya.\\n(8) Dengan mendaftarkan merek produknya, ada jaminan kepada konsumen untuk membedakan satu produk dengan produk lainnya.\\n(9) Selain itu, perusahaan juga dapat membedakan produk-produk yang mereka miliki serta menjadikannya sebagai alat pemasaran dan dasar untuk membangun reputasi.\\n\\nSimpulan yang tepat berdasarkan informasi pada teks tersebut adalah ...', 'Choice_1': 'Pentingnya pemahaman terhadap HAKI dan merek bagi pelaku UMKM agar produknya memiliki nilai jual di pasaran.', 'Choice_2': 'Merek sangatlah penting karena dapat menjadi pembeda di antara pesaing yang menyediakan produk serupa.', 'Choice_3': 'Pendaftaran merek dan HAKI (hak atas kekayaan intelektual) akan menandakan bahwa produk-produk yang dijual memiliki nilai yang tinggi.', 'Choice_4': 'Saat ini, pelaku UMKM harus segera mendaftarkan mereknya untuk membedakan produknya dari pesaing sehingga dapat membangun reputasi sendiri.', 'Right_Answer': 3}\n",
            "{'ID': 503, 'Question_Category': 'PK', 'Questions_Descriptions': 'Jika p < 7x < q dan q < 4y < r dengan p < q < r, maka hubungan x dan y adalah', 'Choice_1': 'x = y', 'Choice_2': 'x = 2y', 'Choice_3': 'x < y', 'Choice_4': 'Tidak dapat ditentukan', 'Right_Answer': 3}\n",
            "{'ID': 552, 'Question_Category': 'PK', 'Questions_Descriptions': 'Pada pukul 10 bayangan sebuah pohon yang tinggi 30 m adalah 14 m, pada saat sama tinggi gedung yang bayangannya 21 m adalah ', 'Choice_1': '25', 'Choice_2': '30', 'Choice_3': '35', 'Choice_4': '45', 'Right_Answer': 3}\n",
            "{'ID': 300, 'Question_Category': 'PPU', 'Questions_Descriptions': '(1) Para peneliti dari Universitas Birmingham, Inggris, menyatakan bahwa kemampuan fisik seseorang dalam berolahraga ditentukan oleh jam biologis tubuh.\\n(2) Beberapa aspek kemampuan olahraga dianggap mencapai puncak pada sore hari.\\n(3) Akan tetapi, studi yang diterbitkan jurnal Current Biology menunjukkan bahwa kebiasaan tidur memiliki dampak kuat terhadap performa atlet.\\n(4) Dalam studi ini meminta 20 pemain hoki perempuan untuk berlari 20 meter di enam periode waktu berbeda antara 07:00 hingga 22:00.\\n(5) Hasilnya menunjukkan bahwa puncak performa setiap orang berbeda-beda yang bergantung pada waktu tidur mereka.\\n(6) Atlet yang bangun pagi mendapatkan puncak performa pada saat jam makan siang, sedangkan atlet yang tidur larut (bangun siang) mencapai puncak performa pada saat petang.\\n\\nPada paragraf tersebut, terdapat pernyataan studi yang diterbitkan jurnal Current Biology menunjukkan bahwa kebiasaan tidur memiliki dampak kuat terhadap performa atlet. Apa maksud dari kalimat tersebut?', 'Choice_1': 'Menunjukkan kebiasaan tidur para atlet dan performanya', 'Choice_2': 'Memberikan alasan bahwa tidur berdampak pada atlet', 'Choice_3': 'Menjelaskan waktu tidur yang dibutuhkan atlet', 'Choice_4': 'Membuktikan bahwa tidur memengaruhi performa atlet', 'Right_Answer': 3}\n",
            "{'ID': 205, 'Question_Category': 'PBM', 'Questions_Descriptions': '.... (8) Sementara itu, terkait pertumbuhan konsumsi rumah tangga, pemerintah Indonesia telahberhasil menjaga pertumbuhan komponen ini dikisaran 5 persen. (9) Kondisi ini dapat terealisasi karena pemerintah mampu menjaga angka inflasi di bawah angka 4 persen sesuai dengan target APBN. (10) Terlebih lagi, menjelang Hari Raya Idul Fitri, pemerintah mampu menekan kenaikan harga-harga bahan pangan sehingga mampu meredam angka inflasi.\\n\\nAgar menjadi efektif, kalimat 10 dapat diperbaiki menjadi ', 'Choice_1': 'Di samping itu, menjelang Hari raya Idul Fitri, pemerintah mampu menekan kenaikan harga-harga bahan pangan sehingga mampu meredam angka inflasi.', 'Choice_2': 'Bahkan, menjelang Hari Raya Idul Fitri, pemerintah mampu menekan kenaikan harga-harga bahan pangan sehingga mampu meredam angka inflasi.', 'Choice_3': 'Terlebih lagi, menjelang hari Raya Idul Fitri, pemerintah mampu menekan kenaikan harga-harga bahan pangan sehingga mampu meredam angka inflasi.', 'Choice_4': 'Terlebih lagi, menjelang hari raya Idul Fitri, pemerintah mampu menekan kenaikan harga-harga bahan pangan sehingga mampu meredam angka inflasi.', 'Right_Answer': 3}\n"
          ]
        }
      ]
    },
    {
      "cell_type": "code",
      "source": [],
      "metadata": {
        "id": "kDtFw2latbTg"
      },
      "execution_count": null,
      "outputs": []
    }
  ]
}