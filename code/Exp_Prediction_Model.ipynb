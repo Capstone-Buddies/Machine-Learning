{
  "nbformat": 4,
  "nbformat_minor": 0,
  "metadata": {
    "colab": {
      "provenance": [],
      "toc_visible": true
    },
    "kernelspec": {
      "name": "python3",
      "display_name": "Python 3"
    },
    "language_info": {
      "name": "python"
    }
  },
  "cells": [
    {
      "cell_type": "markdown",
      "source": [
        "## Introduction\n",
        "\n",
        "This code helps generate experience points (EXP) for users after they complete quizzes using TensorFlow's Deep Neural Network (DNN). The process involves loading quiz data, cleaning and preparing it, training a DNN model to predict EXP, and evaluating the model's performance. The process involves several steps as follows:\n",
        "\n",
        "1. **Import Library & Data**: Load necessary libraries and dummy EXP datasets\n",
        "\n",
        "2. **Exploratory Data Analysis & Pre-Processing Data**:\n",
        "    - Understand data structure and clean the data by dropping unnecessary columns.\n",
        "    - Split the data into features (`IS_CORRECT`, `Duration`) and target (`Exp_Gained`).\n",
        "    - Split data into training and testing sets.\n",
        "\n",
        "3. **Prediction Model Using TensorFlow DNN**:\n",
        "    - Define and compile a DNN model.\n",
        "    - Train the model on the training data.\n",
        "    - Evaluate the model on test data and calculate performance metrics (MAE, MSE, R²).\n",
        "\n",
        "4. **Model Implementation**:Predict EXP points for new quiz data.\n",
        "\n",
        "5. **Saving Model**:Save the trained model in `.h5` format.\n",
        "\n",
        "This approach personalizes learning by accurately awarding EXP points based on user's quiz performance which are considering their accuracy and duration in answering the questions."
      ],
      "metadata": {
        "id": "4Ps1FjHeG0fc"
      }
    },
    {
      "cell_type": "markdown",
      "source": [
        "## Import Library & Data"
      ],
      "metadata": {
        "id": "QRxtr5fWEymG"
      }
    },
    {
      "cell_type": "code",
      "source": [
        "import pandas as pd\n",
        "import numpy as np\n",
        "import tensorflow as tf\n",
        "from sklearn.model_selection import train_test_split\n",
        "from sklearn.metrics import mean_absolute_error, mean_squared_error, r2_score\n",
        "import matplotlib.pyplot as plt\n",
        "import json"
      ],
      "metadata": {
        "id": "oZVJMEwIN6NP"
      },
      "execution_count": 30,
      "outputs": []
    },
    {
      "cell_type": "code",
      "source": [
        "link_url = 'https://raw.githubusercontent.com/Capstone-Buddies/Machine-Learning/main/Dataset/SNBT%20Datasets%20-%20Exp_Datasets.csv'"
      ],
      "metadata": {
        "id": "5y41-gHDI20c"
      },
      "execution_count": 31,
      "outputs": []
    },
    {
      "cell_type": "markdown",
      "source": [
        "## Exploratory Data Analysis & Pre-Processing Data"
      ],
      "metadata": {
        "id": "w1YQpLIaE3SP"
      }
    },
    {
      "cell_type": "code",
      "source": [
        "data = pd.read_csv(link_url)\n",
        "data"
      ],
      "metadata": {
        "id": "7_GatVcqyoG8",
        "colab": {
          "base_uri": "https://localhost:8080/",
          "height": 423
        },
        "outputId": "6f0ec846-2c6b-46f7-ad3f-f2411671afbe"
      },
      "execution_count": 32,
      "outputs": [
        {
          "output_type": "execute_result",
          "data": {
            "text/plain": [
              "      Id_quiz_history  IS_CORRECT  Duration  Exp_Gained  RandomValue  \\\n",
              "0                   1           1        42          44           42   \n",
              "1                   1           1        46          44           46   \n",
              "2                   1           1        70          41           70   \n",
              "3                   1           1        40          45           40   \n",
              "4                   1           1        40          45           40   \n",
              "...               ...         ...       ...         ...          ...   \n",
              "1005              101           0        74           6           39   \n",
              "1006              101           0       108           1           57   \n",
              "1007              101           0        19           6           10   \n",
              "1008              101           0        91           6           48   \n",
              "1009              101           1        13          48            7   \n",
              "\n",
              "      TotalRandomValue  TotalExp  Normalized_Exp  \n",
              "0                  378       449              44  \n",
              "1                  378       449              44  \n",
              "2                  378       449              41  \n",
              "3                  378       449              45  \n",
              "4                  378       449              45  \n",
              "...                ...       ...             ...  \n",
              "1005               477       201               6  \n",
              "1006               477       201               1  \n",
              "1007               477       201               6  \n",
              "1008               477       201               6  \n",
              "1009               477       201              48  \n",
              "\n",
              "[1010 rows x 8 columns]"
            ],
            "text/html": [
              "\n",
              "  <div id=\"df-d2dcc405-b4d0-4f67-998a-0892795cb051\" class=\"colab-df-container\">\n",
              "    <div>\n",
              "<style scoped>\n",
              "    .dataframe tbody tr th:only-of-type {\n",
              "        vertical-align: middle;\n",
              "    }\n",
              "\n",
              "    .dataframe tbody tr th {\n",
              "        vertical-align: top;\n",
              "    }\n",
              "\n",
              "    .dataframe thead th {\n",
              "        text-align: right;\n",
              "    }\n",
              "</style>\n",
              "<table border=\"1\" class=\"dataframe\">\n",
              "  <thead>\n",
              "    <tr style=\"text-align: right;\">\n",
              "      <th></th>\n",
              "      <th>Id_quiz_history</th>\n",
              "      <th>IS_CORRECT</th>\n",
              "      <th>Duration</th>\n",
              "      <th>Exp_Gained</th>\n",
              "      <th>RandomValue</th>\n",
              "      <th>TotalRandomValue</th>\n",
              "      <th>TotalExp</th>\n",
              "      <th>Normalized_Exp</th>\n",
              "    </tr>\n",
              "  </thead>\n",
              "  <tbody>\n",
              "    <tr>\n",
              "      <th>0</th>\n",
              "      <td>1</td>\n",
              "      <td>1</td>\n",
              "      <td>42</td>\n",
              "      <td>44</td>\n",
              "      <td>42</td>\n",
              "      <td>378</td>\n",
              "      <td>449</td>\n",
              "      <td>44</td>\n",
              "    </tr>\n",
              "    <tr>\n",
              "      <th>1</th>\n",
              "      <td>1</td>\n",
              "      <td>1</td>\n",
              "      <td>46</td>\n",
              "      <td>44</td>\n",
              "      <td>46</td>\n",
              "      <td>378</td>\n",
              "      <td>449</td>\n",
              "      <td>44</td>\n",
              "    </tr>\n",
              "    <tr>\n",
              "      <th>2</th>\n",
              "      <td>1</td>\n",
              "      <td>1</td>\n",
              "      <td>70</td>\n",
              "      <td>41</td>\n",
              "      <td>70</td>\n",
              "      <td>378</td>\n",
              "      <td>449</td>\n",
              "      <td>41</td>\n",
              "    </tr>\n",
              "    <tr>\n",
              "      <th>3</th>\n",
              "      <td>1</td>\n",
              "      <td>1</td>\n",
              "      <td>40</td>\n",
              "      <td>45</td>\n",
              "      <td>40</td>\n",
              "      <td>378</td>\n",
              "      <td>449</td>\n",
              "      <td>45</td>\n",
              "    </tr>\n",
              "    <tr>\n",
              "      <th>4</th>\n",
              "      <td>1</td>\n",
              "      <td>1</td>\n",
              "      <td>40</td>\n",
              "      <td>45</td>\n",
              "      <td>40</td>\n",
              "      <td>378</td>\n",
              "      <td>449</td>\n",
              "      <td>45</td>\n",
              "    </tr>\n",
              "    <tr>\n",
              "      <th>...</th>\n",
              "      <td>...</td>\n",
              "      <td>...</td>\n",
              "      <td>...</td>\n",
              "      <td>...</td>\n",
              "      <td>...</td>\n",
              "      <td>...</td>\n",
              "      <td>...</td>\n",
              "      <td>...</td>\n",
              "    </tr>\n",
              "    <tr>\n",
              "      <th>1005</th>\n",
              "      <td>101</td>\n",
              "      <td>0</td>\n",
              "      <td>74</td>\n",
              "      <td>6</td>\n",
              "      <td>39</td>\n",
              "      <td>477</td>\n",
              "      <td>201</td>\n",
              "      <td>6</td>\n",
              "    </tr>\n",
              "    <tr>\n",
              "      <th>1006</th>\n",
              "      <td>101</td>\n",
              "      <td>0</td>\n",
              "      <td>108</td>\n",
              "      <td>1</td>\n",
              "      <td>57</td>\n",
              "      <td>477</td>\n",
              "      <td>201</td>\n",
              "      <td>1</td>\n",
              "    </tr>\n",
              "    <tr>\n",
              "      <th>1007</th>\n",
              "      <td>101</td>\n",
              "      <td>0</td>\n",
              "      <td>19</td>\n",
              "      <td>6</td>\n",
              "      <td>10</td>\n",
              "      <td>477</td>\n",
              "      <td>201</td>\n",
              "      <td>6</td>\n",
              "    </tr>\n",
              "    <tr>\n",
              "      <th>1008</th>\n",
              "      <td>101</td>\n",
              "      <td>0</td>\n",
              "      <td>91</td>\n",
              "      <td>6</td>\n",
              "      <td>48</td>\n",
              "      <td>477</td>\n",
              "      <td>201</td>\n",
              "      <td>6</td>\n",
              "    </tr>\n",
              "    <tr>\n",
              "      <th>1009</th>\n",
              "      <td>101</td>\n",
              "      <td>1</td>\n",
              "      <td>13</td>\n",
              "      <td>48</td>\n",
              "      <td>7</td>\n",
              "      <td>477</td>\n",
              "      <td>201</td>\n",
              "      <td>48</td>\n",
              "    </tr>\n",
              "  </tbody>\n",
              "</table>\n",
              "<p>1010 rows × 8 columns</p>\n",
              "</div>\n",
              "    <div class=\"colab-df-buttons\">\n",
              "\n",
              "  <div class=\"colab-df-container\">\n",
              "    <button class=\"colab-df-convert\" onclick=\"convertToInteractive('df-d2dcc405-b4d0-4f67-998a-0892795cb051')\"\n",
              "            title=\"Convert this dataframe to an interactive table.\"\n",
              "            style=\"display:none;\">\n",
              "\n",
              "  <svg xmlns=\"http://www.w3.org/2000/svg\" height=\"24px\" viewBox=\"0 -960 960 960\">\n",
              "    <path d=\"M120-120v-720h720v720H120Zm60-500h600v-160H180v160Zm220 220h160v-160H400v160Zm0 220h160v-160H400v160ZM180-400h160v-160H180v160Zm440 0h160v-160H620v160ZM180-180h160v-160H180v160Zm440 0h160v-160H620v160Z\"/>\n",
              "  </svg>\n",
              "    </button>\n",
              "\n",
              "  <style>\n",
              "    .colab-df-container {\n",
              "      display:flex;\n",
              "      gap: 12px;\n",
              "    }\n",
              "\n",
              "    .colab-df-convert {\n",
              "      background-color: #E8F0FE;\n",
              "      border: none;\n",
              "      border-radius: 50%;\n",
              "      cursor: pointer;\n",
              "      display: none;\n",
              "      fill: #1967D2;\n",
              "      height: 32px;\n",
              "      padding: 0 0 0 0;\n",
              "      width: 32px;\n",
              "    }\n",
              "\n",
              "    .colab-df-convert:hover {\n",
              "      background-color: #E2EBFA;\n",
              "      box-shadow: 0px 1px 2px rgba(60, 64, 67, 0.3), 0px 1px 3px 1px rgba(60, 64, 67, 0.15);\n",
              "      fill: #174EA6;\n",
              "    }\n",
              "\n",
              "    .colab-df-buttons div {\n",
              "      margin-bottom: 4px;\n",
              "    }\n",
              "\n",
              "    [theme=dark] .colab-df-convert {\n",
              "      background-color: #3B4455;\n",
              "      fill: #D2E3FC;\n",
              "    }\n",
              "\n",
              "    [theme=dark] .colab-df-convert:hover {\n",
              "      background-color: #434B5C;\n",
              "      box-shadow: 0px 1px 3px 1px rgba(0, 0, 0, 0.15);\n",
              "      filter: drop-shadow(0px 1px 2px rgba(0, 0, 0, 0.3));\n",
              "      fill: #FFFFFF;\n",
              "    }\n",
              "  </style>\n",
              "\n",
              "    <script>\n",
              "      const buttonEl =\n",
              "        document.querySelector('#df-d2dcc405-b4d0-4f67-998a-0892795cb051 button.colab-df-convert');\n",
              "      buttonEl.style.display =\n",
              "        google.colab.kernel.accessAllowed ? 'block' : 'none';\n",
              "\n",
              "      async function convertToInteractive(key) {\n",
              "        const element = document.querySelector('#df-d2dcc405-b4d0-4f67-998a-0892795cb051');\n",
              "        const dataTable =\n",
              "          await google.colab.kernel.invokeFunction('convertToInteractive',\n",
              "                                                    [key], {});\n",
              "        if (!dataTable) return;\n",
              "\n",
              "        const docLinkHtml = 'Like what you see? Visit the ' +\n",
              "          '<a target=\"_blank\" href=https://colab.research.google.com/notebooks/data_table.ipynb>data table notebook</a>'\n",
              "          + ' to learn more about interactive tables.';\n",
              "        element.innerHTML = '';\n",
              "        dataTable['output_type'] = 'display_data';\n",
              "        await google.colab.output.renderOutput(dataTable, element);\n",
              "        const docLink = document.createElement('div');\n",
              "        docLink.innerHTML = docLinkHtml;\n",
              "        element.appendChild(docLink);\n",
              "      }\n",
              "    </script>\n",
              "  </div>\n",
              "\n",
              "\n",
              "<div id=\"df-78eaca98-9269-41b2-8635-01c90d3a3f57\">\n",
              "  <button class=\"colab-df-quickchart\" onclick=\"quickchart('df-78eaca98-9269-41b2-8635-01c90d3a3f57')\"\n",
              "            title=\"Suggest charts\"\n",
              "            style=\"display:none;\">\n",
              "\n",
              "<svg xmlns=\"http://www.w3.org/2000/svg\" height=\"24px\"viewBox=\"0 0 24 24\"\n",
              "     width=\"24px\">\n",
              "    <g>\n",
              "        <path d=\"M19 3H5c-1.1 0-2 .9-2 2v14c0 1.1.9 2 2 2h14c1.1 0 2-.9 2-2V5c0-1.1-.9-2-2-2zM9 17H7v-7h2v7zm4 0h-2V7h2v10zm4 0h-2v-4h2v4z\"/>\n",
              "    </g>\n",
              "</svg>\n",
              "  </button>\n",
              "\n",
              "<style>\n",
              "  .colab-df-quickchart {\n",
              "      --bg-color: #E8F0FE;\n",
              "      --fill-color: #1967D2;\n",
              "      --hover-bg-color: #E2EBFA;\n",
              "      --hover-fill-color: #174EA6;\n",
              "      --disabled-fill-color: #AAA;\n",
              "      --disabled-bg-color: #DDD;\n",
              "  }\n",
              "\n",
              "  [theme=dark] .colab-df-quickchart {\n",
              "      --bg-color: #3B4455;\n",
              "      --fill-color: #D2E3FC;\n",
              "      --hover-bg-color: #434B5C;\n",
              "      --hover-fill-color: #FFFFFF;\n",
              "      --disabled-bg-color: #3B4455;\n",
              "      --disabled-fill-color: #666;\n",
              "  }\n",
              "\n",
              "  .colab-df-quickchart {\n",
              "    background-color: var(--bg-color);\n",
              "    border: none;\n",
              "    border-radius: 50%;\n",
              "    cursor: pointer;\n",
              "    display: none;\n",
              "    fill: var(--fill-color);\n",
              "    height: 32px;\n",
              "    padding: 0;\n",
              "    width: 32px;\n",
              "  }\n",
              "\n",
              "  .colab-df-quickchart:hover {\n",
              "    background-color: var(--hover-bg-color);\n",
              "    box-shadow: 0 1px 2px rgba(60, 64, 67, 0.3), 0 1px 3px 1px rgba(60, 64, 67, 0.15);\n",
              "    fill: var(--button-hover-fill-color);\n",
              "  }\n",
              "\n",
              "  .colab-df-quickchart-complete:disabled,\n",
              "  .colab-df-quickchart-complete:disabled:hover {\n",
              "    background-color: var(--disabled-bg-color);\n",
              "    fill: var(--disabled-fill-color);\n",
              "    box-shadow: none;\n",
              "  }\n",
              "\n",
              "  .colab-df-spinner {\n",
              "    border: 2px solid var(--fill-color);\n",
              "    border-color: transparent;\n",
              "    border-bottom-color: var(--fill-color);\n",
              "    animation:\n",
              "      spin 1s steps(1) infinite;\n",
              "  }\n",
              "\n",
              "  @keyframes spin {\n",
              "    0% {\n",
              "      border-color: transparent;\n",
              "      border-bottom-color: var(--fill-color);\n",
              "      border-left-color: var(--fill-color);\n",
              "    }\n",
              "    20% {\n",
              "      border-color: transparent;\n",
              "      border-left-color: var(--fill-color);\n",
              "      border-top-color: var(--fill-color);\n",
              "    }\n",
              "    30% {\n",
              "      border-color: transparent;\n",
              "      border-left-color: var(--fill-color);\n",
              "      border-top-color: var(--fill-color);\n",
              "      border-right-color: var(--fill-color);\n",
              "    }\n",
              "    40% {\n",
              "      border-color: transparent;\n",
              "      border-right-color: var(--fill-color);\n",
              "      border-top-color: var(--fill-color);\n",
              "    }\n",
              "    60% {\n",
              "      border-color: transparent;\n",
              "      border-right-color: var(--fill-color);\n",
              "    }\n",
              "    80% {\n",
              "      border-color: transparent;\n",
              "      border-right-color: var(--fill-color);\n",
              "      border-bottom-color: var(--fill-color);\n",
              "    }\n",
              "    90% {\n",
              "      border-color: transparent;\n",
              "      border-bottom-color: var(--fill-color);\n",
              "    }\n",
              "  }\n",
              "</style>\n",
              "\n",
              "  <script>\n",
              "    async function quickchart(key) {\n",
              "      const quickchartButtonEl =\n",
              "        document.querySelector('#' + key + ' button');\n",
              "      quickchartButtonEl.disabled = true;  // To prevent multiple clicks.\n",
              "      quickchartButtonEl.classList.add('colab-df-spinner');\n",
              "      try {\n",
              "        const charts = await google.colab.kernel.invokeFunction(\n",
              "            'suggestCharts', [key], {});\n",
              "      } catch (error) {\n",
              "        console.error('Error during call to suggestCharts:', error);\n",
              "      }\n",
              "      quickchartButtonEl.classList.remove('colab-df-spinner');\n",
              "      quickchartButtonEl.classList.add('colab-df-quickchart-complete');\n",
              "    }\n",
              "    (() => {\n",
              "      let quickchartButtonEl =\n",
              "        document.querySelector('#df-78eaca98-9269-41b2-8635-01c90d3a3f57 button');\n",
              "      quickchartButtonEl.style.display =\n",
              "        google.colab.kernel.accessAllowed ? 'block' : 'none';\n",
              "    })();\n",
              "  </script>\n",
              "</div>\n",
              "\n",
              "  <div id=\"id_3d4cd423-a52b-4377-9fdd-33324b7e64b2\">\n",
              "    <style>\n",
              "      .colab-df-generate {\n",
              "        background-color: #E8F0FE;\n",
              "        border: none;\n",
              "        border-radius: 50%;\n",
              "        cursor: pointer;\n",
              "        display: none;\n",
              "        fill: #1967D2;\n",
              "        height: 32px;\n",
              "        padding: 0 0 0 0;\n",
              "        width: 32px;\n",
              "      }\n",
              "\n",
              "      .colab-df-generate:hover {\n",
              "        background-color: #E2EBFA;\n",
              "        box-shadow: 0px 1px 2px rgba(60, 64, 67, 0.3), 0px 1px 3px 1px rgba(60, 64, 67, 0.15);\n",
              "        fill: #174EA6;\n",
              "      }\n",
              "\n",
              "      [theme=dark] .colab-df-generate {\n",
              "        background-color: #3B4455;\n",
              "        fill: #D2E3FC;\n",
              "      }\n",
              "\n",
              "      [theme=dark] .colab-df-generate:hover {\n",
              "        background-color: #434B5C;\n",
              "        box-shadow: 0px 1px 3px 1px rgba(0, 0, 0, 0.15);\n",
              "        filter: drop-shadow(0px 1px 2px rgba(0, 0, 0, 0.3));\n",
              "        fill: #FFFFFF;\n",
              "      }\n",
              "    </style>\n",
              "    <button class=\"colab-df-generate\" onclick=\"generateWithVariable('data')\"\n",
              "            title=\"Generate code using this dataframe.\"\n",
              "            style=\"display:none;\">\n",
              "\n",
              "  <svg xmlns=\"http://www.w3.org/2000/svg\" height=\"24px\"viewBox=\"0 0 24 24\"\n",
              "       width=\"24px\">\n",
              "    <path d=\"M7,19H8.4L18.45,9,17,7.55,7,17.6ZM5,21V16.75L18.45,3.32a2,2,0,0,1,2.83,0l1.4,1.43a1.91,1.91,0,0,1,.58,1.4,1.91,1.91,0,0,1-.58,1.4L9.25,21ZM18.45,9,17,7.55Zm-12,3A5.31,5.31,0,0,0,4.9,8.1,5.31,5.31,0,0,0,1,6.5,5.31,5.31,0,0,0,4.9,4.9,5.31,5.31,0,0,0,6.5,1,5.31,5.31,0,0,0,8.1,4.9,5.31,5.31,0,0,0,12,6.5,5.46,5.46,0,0,0,6.5,12Z\"/>\n",
              "  </svg>\n",
              "    </button>\n",
              "    <script>\n",
              "      (() => {\n",
              "      const buttonEl =\n",
              "        document.querySelector('#id_3d4cd423-a52b-4377-9fdd-33324b7e64b2 button.colab-df-generate');\n",
              "      buttonEl.style.display =\n",
              "        google.colab.kernel.accessAllowed ? 'block' : 'none';\n",
              "\n",
              "      buttonEl.onclick = () => {\n",
              "        google.colab.notebook.generateWithVariable('data');\n",
              "      }\n",
              "      })();\n",
              "    </script>\n",
              "  </div>\n",
              "\n",
              "    </div>\n",
              "  </div>\n"
            ],
            "application/vnd.google.colaboratory.intrinsic+json": {
              "type": "dataframe",
              "variable_name": "data",
              "summary": "{\n  \"name\": \"data\",\n  \"rows\": 1010,\n  \"fields\": [\n    {\n      \"column\": \"Id_quiz_history\",\n      \"properties\": {\n        \"dtype\": \"number\",\n        \"std\": 29,\n        \"min\": 1,\n        \"max\": 101,\n        \"num_unique_values\": 101,\n        \"samples\": [\n          85,\n          56,\n          67\n        ],\n        \"semantic_type\": \"\",\n        \"description\": \"\"\n      }\n    },\n    {\n      \"column\": \"IS_CORRECT\",\n      \"properties\": {\n        \"dtype\": \"number\",\n        \"std\": 0,\n        \"min\": 0,\n        \"max\": 1,\n        \"num_unique_values\": 2,\n        \"samples\": [\n          0,\n          1\n        ],\n        \"semantic_type\": \"\",\n        \"description\": \"\"\n      }\n    },\n    {\n      \"column\": \"Duration\",\n      \"properties\": {\n        \"dtype\": \"number\",\n        \"std\": 41,\n        \"min\": 5,\n        \"max\": 246,\n        \"num_unique_values\": 171,\n        \"samples\": [\n          110,\n          19\n        ],\n        \"semantic_type\": \"\",\n        \"description\": \"\"\n      }\n    },\n    {\n      \"column\": \"Exp_Gained\",\n      \"properties\": {\n        \"dtype\": \"number\",\n        \"std\": 16,\n        \"min\": 1,\n        \"max\": 49,\n        \"num_unique_values\": 48,\n        \"samples\": [\n          37,\n          25\n        ],\n        \"semantic_type\": \"\",\n        \"description\": \"\"\n      }\n    },\n    {\n      \"column\": \"RandomValue\",\n      \"properties\": {\n        \"dtype\": \"number\",\n        \"std\": 27,\n        \"min\": 5,\n        \"max\": 100,\n        \"num_unique_values\": 96,\n        \"samples\": [\n          37,\n          80\n        ],\n        \"semantic_type\": \"\",\n        \"description\": \"\"\n      }\n    },\n    {\n      \"column\": \"TotalRandomValue\",\n      \"properties\": {\n        \"dtype\": \"number\",\n        \"std\": 84,\n        \"min\": 351,\n        \"max\": 737,\n        \"num_unique_values\": 84,\n        \"samples\": [\n          394,\n          378\n        ],\n        \"semantic_type\": \"\",\n        \"description\": \"\"\n      }\n    },\n    {\n      \"column\": \"TotalExp\",\n      \"properties\": {\n        \"dtype\": \"number\",\n        \"std\": 62,\n        \"min\": 112,\n        \"max\": 451,\n        \"num_unique_values\": 83,\n        \"samples\": [\n          308,\n          449\n        ],\n        \"semantic_type\": \"\",\n        \"description\": \"\"\n      }\n    },\n    {\n      \"column\": \"Normalized_Exp\",\n      \"properties\": {\n        \"dtype\": \"number\",\n        \"std\": 16,\n        \"min\": 1,\n        \"max\": 49,\n        \"num_unique_values\": 48,\n        \"samples\": [\n          37,\n          25\n        ],\n        \"semantic_type\": \"\",\n        \"description\": \"\"\n      }\n    }\n  ]\n}"
            }
          },
          "metadata": {},
          "execution_count": 32
        }
      ]
    },
    {
      "cell_type": "code",
      "source": [
        "# Menghapus kolom yang tidak digunakan\n",
        "data = data.drop(columns=['Id_quiz_history','RandomValue', 'TotalRandomValue', 'TotalExp', 'Normalized_Exp'])\n",
        "\n",
        "# Menampilkan data setelah kolom dihapus\n",
        "print(\"Data Setelah Kolom Dihapus:\\n\", data.head())"
      ],
      "metadata": {
        "id": "IIO4ERFB0piC",
        "colab": {
          "base_uri": "https://localhost:8080/"
        },
        "outputId": "474873b2-3dd1-4d9d-d88b-194063298b61"
      },
      "execution_count": 33,
      "outputs": [
        {
          "output_type": "stream",
          "name": "stdout",
          "text": [
            "Data Setelah Kolom Dihapus:\n",
            "    IS_CORRECT  Duration  Exp_Gained\n",
            "0           1        42          44\n",
            "1           1        46          44\n",
            "2           1        70          41\n",
            "3           1        40          45\n",
            "4           1        40          45\n"
          ]
        }
      ]
    },
    {
      "cell_type": "code",
      "source": [
        "#Melihat 10 baris terbawah dari data\n",
        "data.tail(10)"
      ],
      "metadata": {
        "colab": {
          "base_uri": "https://localhost:8080/",
          "height": 363
        },
        "id": "A2tMKcqfB94P",
        "outputId": "ad179401-8474-4d73-b43c-84b138bb6be8"
      },
      "execution_count": 34,
      "outputs": [
        {
          "output_type": "execute_result",
          "data": {
            "text/plain": [
              "      IS_CORRECT  Duration  Exp_Gained\n",
              "1000           1        98          35\n",
              "1001           1       166          22\n",
              "1002           1       158          23\n",
              "1003           1        34          45\n",
              "1004           0       140           9\n",
              "1005           0        74           6\n",
              "1006           0       108           1\n",
              "1007           0        19           6\n",
              "1008           0        91           6\n",
              "1009           1        13          48"
            ],
            "text/html": [
              "\n",
              "  <div id=\"df-83c9f9fa-4c22-4bae-80e1-c5ff576b0d1a\" class=\"colab-df-container\">\n",
              "    <div>\n",
              "<style scoped>\n",
              "    .dataframe tbody tr th:only-of-type {\n",
              "        vertical-align: middle;\n",
              "    }\n",
              "\n",
              "    .dataframe tbody tr th {\n",
              "        vertical-align: top;\n",
              "    }\n",
              "\n",
              "    .dataframe thead th {\n",
              "        text-align: right;\n",
              "    }\n",
              "</style>\n",
              "<table border=\"1\" class=\"dataframe\">\n",
              "  <thead>\n",
              "    <tr style=\"text-align: right;\">\n",
              "      <th></th>\n",
              "      <th>IS_CORRECT</th>\n",
              "      <th>Duration</th>\n",
              "      <th>Exp_Gained</th>\n",
              "    </tr>\n",
              "  </thead>\n",
              "  <tbody>\n",
              "    <tr>\n",
              "      <th>1000</th>\n",
              "      <td>1</td>\n",
              "      <td>98</td>\n",
              "      <td>35</td>\n",
              "    </tr>\n",
              "    <tr>\n",
              "      <th>1001</th>\n",
              "      <td>1</td>\n",
              "      <td>166</td>\n",
              "      <td>22</td>\n",
              "    </tr>\n",
              "    <tr>\n",
              "      <th>1002</th>\n",
              "      <td>1</td>\n",
              "      <td>158</td>\n",
              "      <td>23</td>\n",
              "    </tr>\n",
              "    <tr>\n",
              "      <th>1003</th>\n",
              "      <td>1</td>\n",
              "      <td>34</td>\n",
              "      <td>45</td>\n",
              "    </tr>\n",
              "    <tr>\n",
              "      <th>1004</th>\n",
              "      <td>0</td>\n",
              "      <td>140</td>\n",
              "      <td>9</td>\n",
              "    </tr>\n",
              "    <tr>\n",
              "      <th>1005</th>\n",
              "      <td>0</td>\n",
              "      <td>74</td>\n",
              "      <td>6</td>\n",
              "    </tr>\n",
              "    <tr>\n",
              "      <th>1006</th>\n",
              "      <td>0</td>\n",
              "      <td>108</td>\n",
              "      <td>1</td>\n",
              "    </tr>\n",
              "    <tr>\n",
              "      <th>1007</th>\n",
              "      <td>0</td>\n",
              "      <td>19</td>\n",
              "      <td>6</td>\n",
              "    </tr>\n",
              "    <tr>\n",
              "      <th>1008</th>\n",
              "      <td>0</td>\n",
              "      <td>91</td>\n",
              "      <td>6</td>\n",
              "    </tr>\n",
              "    <tr>\n",
              "      <th>1009</th>\n",
              "      <td>1</td>\n",
              "      <td>13</td>\n",
              "      <td>48</td>\n",
              "    </tr>\n",
              "  </tbody>\n",
              "</table>\n",
              "</div>\n",
              "    <div class=\"colab-df-buttons\">\n",
              "\n",
              "  <div class=\"colab-df-container\">\n",
              "    <button class=\"colab-df-convert\" onclick=\"convertToInteractive('df-83c9f9fa-4c22-4bae-80e1-c5ff576b0d1a')\"\n",
              "            title=\"Convert this dataframe to an interactive table.\"\n",
              "            style=\"display:none;\">\n",
              "\n",
              "  <svg xmlns=\"http://www.w3.org/2000/svg\" height=\"24px\" viewBox=\"0 -960 960 960\">\n",
              "    <path d=\"M120-120v-720h720v720H120Zm60-500h600v-160H180v160Zm220 220h160v-160H400v160Zm0 220h160v-160H400v160ZM180-400h160v-160H180v160Zm440 0h160v-160H620v160ZM180-180h160v-160H180v160Zm440 0h160v-160H620v160Z\"/>\n",
              "  </svg>\n",
              "    </button>\n",
              "\n",
              "  <style>\n",
              "    .colab-df-container {\n",
              "      display:flex;\n",
              "      gap: 12px;\n",
              "    }\n",
              "\n",
              "    .colab-df-convert {\n",
              "      background-color: #E8F0FE;\n",
              "      border: none;\n",
              "      border-radius: 50%;\n",
              "      cursor: pointer;\n",
              "      display: none;\n",
              "      fill: #1967D2;\n",
              "      height: 32px;\n",
              "      padding: 0 0 0 0;\n",
              "      width: 32px;\n",
              "    }\n",
              "\n",
              "    .colab-df-convert:hover {\n",
              "      background-color: #E2EBFA;\n",
              "      box-shadow: 0px 1px 2px rgba(60, 64, 67, 0.3), 0px 1px 3px 1px rgba(60, 64, 67, 0.15);\n",
              "      fill: #174EA6;\n",
              "    }\n",
              "\n",
              "    .colab-df-buttons div {\n",
              "      margin-bottom: 4px;\n",
              "    }\n",
              "\n",
              "    [theme=dark] .colab-df-convert {\n",
              "      background-color: #3B4455;\n",
              "      fill: #D2E3FC;\n",
              "    }\n",
              "\n",
              "    [theme=dark] .colab-df-convert:hover {\n",
              "      background-color: #434B5C;\n",
              "      box-shadow: 0px 1px 3px 1px rgba(0, 0, 0, 0.15);\n",
              "      filter: drop-shadow(0px 1px 2px rgba(0, 0, 0, 0.3));\n",
              "      fill: #FFFFFF;\n",
              "    }\n",
              "  </style>\n",
              "\n",
              "    <script>\n",
              "      const buttonEl =\n",
              "        document.querySelector('#df-83c9f9fa-4c22-4bae-80e1-c5ff576b0d1a button.colab-df-convert');\n",
              "      buttonEl.style.display =\n",
              "        google.colab.kernel.accessAllowed ? 'block' : 'none';\n",
              "\n",
              "      async function convertToInteractive(key) {\n",
              "        const element = document.querySelector('#df-83c9f9fa-4c22-4bae-80e1-c5ff576b0d1a');\n",
              "        const dataTable =\n",
              "          await google.colab.kernel.invokeFunction('convertToInteractive',\n",
              "                                                    [key], {});\n",
              "        if (!dataTable) return;\n",
              "\n",
              "        const docLinkHtml = 'Like what you see? Visit the ' +\n",
              "          '<a target=\"_blank\" href=https://colab.research.google.com/notebooks/data_table.ipynb>data table notebook</a>'\n",
              "          + ' to learn more about interactive tables.';\n",
              "        element.innerHTML = '';\n",
              "        dataTable['output_type'] = 'display_data';\n",
              "        await google.colab.output.renderOutput(dataTable, element);\n",
              "        const docLink = document.createElement('div');\n",
              "        docLink.innerHTML = docLinkHtml;\n",
              "        element.appendChild(docLink);\n",
              "      }\n",
              "    </script>\n",
              "  </div>\n",
              "\n",
              "\n",
              "<div id=\"df-95aa695b-f9c0-4798-8df6-f683b059d145\">\n",
              "  <button class=\"colab-df-quickchart\" onclick=\"quickchart('df-95aa695b-f9c0-4798-8df6-f683b059d145')\"\n",
              "            title=\"Suggest charts\"\n",
              "            style=\"display:none;\">\n",
              "\n",
              "<svg xmlns=\"http://www.w3.org/2000/svg\" height=\"24px\"viewBox=\"0 0 24 24\"\n",
              "     width=\"24px\">\n",
              "    <g>\n",
              "        <path d=\"M19 3H5c-1.1 0-2 .9-2 2v14c0 1.1.9 2 2 2h14c1.1 0 2-.9 2-2V5c0-1.1-.9-2-2-2zM9 17H7v-7h2v7zm4 0h-2V7h2v10zm4 0h-2v-4h2v4z\"/>\n",
              "    </g>\n",
              "</svg>\n",
              "  </button>\n",
              "\n",
              "<style>\n",
              "  .colab-df-quickchart {\n",
              "      --bg-color: #E8F0FE;\n",
              "      --fill-color: #1967D2;\n",
              "      --hover-bg-color: #E2EBFA;\n",
              "      --hover-fill-color: #174EA6;\n",
              "      --disabled-fill-color: #AAA;\n",
              "      --disabled-bg-color: #DDD;\n",
              "  }\n",
              "\n",
              "  [theme=dark] .colab-df-quickchart {\n",
              "      --bg-color: #3B4455;\n",
              "      --fill-color: #D2E3FC;\n",
              "      --hover-bg-color: #434B5C;\n",
              "      --hover-fill-color: #FFFFFF;\n",
              "      --disabled-bg-color: #3B4455;\n",
              "      --disabled-fill-color: #666;\n",
              "  }\n",
              "\n",
              "  .colab-df-quickchart {\n",
              "    background-color: var(--bg-color);\n",
              "    border: none;\n",
              "    border-radius: 50%;\n",
              "    cursor: pointer;\n",
              "    display: none;\n",
              "    fill: var(--fill-color);\n",
              "    height: 32px;\n",
              "    padding: 0;\n",
              "    width: 32px;\n",
              "  }\n",
              "\n",
              "  .colab-df-quickchart:hover {\n",
              "    background-color: var(--hover-bg-color);\n",
              "    box-shadow: 0 1px 2px rgba(60, 64, 67, 0.3), 0 1px 3px 1px rgba(60, 64, 67, 0.15);\n",
              "    fill: var(--button-hover-fill-color);\n",
              "  }\n",
              "\n",
              "  .colab-df-quickchart-complete:disabled,\n",
              "  .colab-df-quickchart-complete:disabled:hover {\n",
              "    background-color: var(--disabled-bg-color);\n",
              "    fill: var(--disabled-fill-color);\n",
              "    box-shadow: none;\n",
              "  }\n",
              "\n",
              "  .colab-df-spinner {\n",
              "    border: 2px solid var(--fill-color);\n",
              "    border-color: transparent;\n",
              "    border-bottom-color: var(--fill-color);\n",
              "    animation:\n",
              "      spin 1s steps(1) infinite;\n",
              "  }\n",
              "\n",
              "  @keyframes spin {\n",
              "    0% {\n",
              "      border-color: transparent;\n",
              "      border-bottom-color: var(--fill-color);\n",
              "      border-left-color: var(--fill-color);\n",
              "    }\n",
              "    20% {\n",
              "      border-color: transparent;\n",
              "      border-left-color: var(--fill-color);\n",
              "      border-top-color: var(--fill-color);\n",
              "    }\n",
              "    30% {\n",
              "      border-color: transparent;\n",
              "      border-left-color: var(--fill-color);\n",
              "      border-top-color: var(--fill-color);\n",
              "      border-right-color: var(--fill-color);\n",
              "    }\n",
              "    40% {\n",
              "      border-color: transparent;\n",
              "      border-right-color: var(--fill-color);\n",
              "      border-top-color: var(--fill-color);\n",
              "    }\n",
              "    60% {\n",
              "      border-color: transparent;\n",
              "      border-right-color: var(--fill-color);\n",
              "    }\n",
              "    80% {\n",
              "      border-color: transparent;\n",
              "      border-right-color: var(--fill-color);\n",
              "      border-bottom-color: var(--fill-color);\n",
              "    }\n",
              "    90% {\n",
              "      border-color: transparent;\n",
              "      border-bottom-color: var(--fill-color);\n",
              "    }\n",
              "  }\n",
              "</style>\n",
              "\n",
              "  <script>\n",
              "    async function quickchart(key) {\n",
              "      const quickchartButtonEl =\n",
              "        document.querySelector('#' + key + ' button');\n",
              "      quickchartButtonEl.disabled = true;  // To prevent multiple clicks.\n",
              "      quickchartButtonEl.classList.add('colab-df-spinner');\n",
              "      try {\n",
              "        const charts = await google.colab.kernel.invokeFunction(\n",
              "            'suggestCharts', [key], {});\n",
              "      } catch (error) {\n",
              "        console.error('Error during call to suggestCharts:', error);\n",
              "      }\n",
              "      quickchartButtonEl.classList.remove('colab-df-spinner');\n",
              "      quickchartButtonEl.classList.add('colab-df-quickchart-complete');\n",
              "    }\n",
              "    (() => {\n",
              "      let quickchartButtonEl =\n",
              "        document.querySelector('#df-95aa695b-f9c0-4798-8df6-f683b059d145 button');\n",
              "      quickchartButtonEl.style.display =\n",
              "        google.colab.kernel.accessAllowed ? 'block' : 'none';\n",
              "    })();\n",
              "  </script>\n",
              "</div>\n",
              "\n",
              "    </div>\n",
              "  </div>\n"
            ],
            "application/vnd.google.colaboratory.intrinsic+json": {
              "type": "dataframe",
              "summary": "{\n  \"name\": \"data\",\n  \"rows\": 10,\n  \"fields\": [\n    {\n      \"column\": \"IS_CORRECT\",\n      \"properties\": {\n        \"dtype\": \"number\",\n        \"std\": 0,\n        \"min\": 0,\n        \"max\": 1,\n        \"num_unique_values\": 2,\n        \"samples\": [\n          0,\n          1\n        ],\n        \"semantic_type\": \"\",\n        \"description\": \"\"\n      }\n    },\n    {\n      \"column\": \"Duration\",\n      \"properties\": {\n        \"dtype\": \"number\",\n        \"std\": 55,\n        \"min\": 13,\n        \"max\": 166,\n        \"num_unique_values\": 10,\n        \"samples\": [\n          91,\n          166\n        ],\n        \"semantic_type\": \"\",\n        \"description\": \"\"\n      }\n    },\n    {\n      \"column\": \"Exp_Gained\",\n      \"properties\": {\n        \"dtype\": \"number\",\n        \"std\": 17,\n        \"min\": 1,\n        \"max\": 48,\n        \"num_unique_values\": 8,\n        \"samples\": [\n          22,\n          6\n        ],\n        \"semantic_type\": \"\",\n        \"description\": \"\"\n      }\n    }\n  ]\n}"
            }
          },
          "metadata": {},
          "execution_count": 34
        }
      ]
    },
    {
      "cell_type": "code",
      "source": [
        "#Mengecek jumlah kolom dan baris dari data.\n",
        "data.shape"
      ],
      "metadata": {
        "colab": {
          "base_uri": "https://localhost:8080/"
        },
        "id": "Xck5o4vYCJki",
        "outputId": "37be2de8-32f8-4951-8307-93250888755f"
      },
      "execution_count": 35,
      "outputs": [
        {
          "output_type": "execute_result",
          "data": {
            "text/plain": [
              "(1010, 3)"
            ]
          },
          "metadata": {},
          "execution_count": 35
        }
      ]
    },
    {
      "cell_type": "code",
      "source": [
        "data.info()"
      ],
      "metadata": {
        "colab": {
          "base_uri": "https://localhost:8080/"
        },
        "id": "3vBMrhXrCPI7",
        "outputId": "5744aae0-c3d6-450f-bd30-6f3773b6f00b"
      },
      "execution_count": 36,
      "outputs": [
        {
          "output_type": "stream",
          "name": "stdout",
          "text": [
            "<class 'pandas.core.frame.DataFrame'>\n",
            "RangeIndex: 1010 entries, 0 to 1009\n",
            "Data columns (total 3 columns):\n",
            " #   Column      Non-Null Count  Dtype\n",
            "---  ------      --------------  -----\n",
            " 0   IS_CORRECT  1010 non-null   int64\n",
            " 1   Duration    1010 non-null   int64\n",
            " 2   Exp_Gained  1010 non-null   int64\n",
            "dtypes: int64(3)\n",
            "memory usage: 23.8 KB\n"
          ]
        }
      ]
    },
    {
      "cell_type": "code",
      "source": [
        "#Mencari dan menangani missing values. Null\n",
        "data.isnull().sum()"
      ],
      "metadata": {
        "colab": {
          "base_uri": "https://localhost:8080/"
        },
        "id": "j6aoue2gCYUQ",
        "outputId": "6fbcc30d-2140-45d3-8f7e-bc3442377482"
      },
      "execution_count": 37,
      "outputs": [
        {
          "output_type": "execute_result",
          "data": {
            "text/plain": [
              "IS_CORRECT    0\n",
              "Duration      0\n",
              "Exp_Gained    0\n",
              "dtype: int64"
            ]
          },
          "metadata": {},
          "execution_count": 37
        }
      ]
    },
    {
      "cell_type": "code",
      "source": [
        "#Mengetahui nilai korelasi dari independent variable dan dependent variable.\n",
        "data.corr().style.background_gradient().format(\"{:.2f}\")"
      ],
      "metadata": {
        "colab": {
          "base_uri": "https://localhost:8080/",
          "height": 143
        },
        "id": "3l6fI51NDU1q",
        "outputId": "9b664cb4-d3c5-4175-89dc-466559d85524"
      },
      "execution_count": 38,
      "outputs": [
        {
          "output_type": "execute_result",
          "data": {
            "text/plain": [
              "<pandas.io.formats.style.Styler at 0x7e94a52a7df0>"
            ],
            "text/html": [
              "<style type=\"text/css\">\n",
              "#T_3a80a_row0_col0, #T_3a80a_row1_col1, #T_3a80a_row2_col2 {\n",
              "  background-color: #023858;\n",
              "  color: #f1f1f1;\n",
              "}\n",
              "#T_3a80a_row0_col1 {\n",
              "  background-color: #e0deed;\n",
              "  color: #000000;\n",
              "}\n",
              "#T_3a80a_row0_col2 {\n",
              "  background-color: #03466e;\n",
              "  color: #f1f1f1;\n",
              "}\n",
              "#T_3a80a_row1_col0, #T_3a80a_row1_col2, #T_3a80a_row2_col1 {\n",
              "  background-color: #fff7fb;\n",
              "  color: #000000;\n",
              "}\n",
              "#T_3a80a_row2_col0 {\n",
              "  background-color: #034871;\n",
              "  color: #f1f1f1;\n",
              "}\n",
              "</style>\n",
              "<table id=\"T_3a80a\" class=\"dataframe\">\n",
              "  <thead>\n",
              "    <tr>\n",
              "      <th class=\"blank level0\" >&nbsp;</th>\n",
              "      <th id=\"T_3a80a_level0_col0\" class=\"col_heading level0 col0\" >IS_CORRECT</th>\n",
              "      <th id=\"T_3a80a_level0_col1\" class=\"col_heading level0 col1\" >Duration</th>\n",
              "      <th id=\"T_3a80a_level0_col2\" class=\"col_heading level0 col2\" >Exp_Gained</th>\n",
              "    </tr>\n",
              "  </thead>\n",
              "  <tbody>\n",
              "    <tr>\n",
              "      <th id=\"T_3a80a_level0_row0\" class=\"row_heading level0 row0\" >IS_CORRECT</th>\n",
              "      <td id=\"T_3a80a_row0_col0\" class=\"data row0 col0\" >1.00</td>\n",
              "      <td id=\"T_3a80a_row0_col1\" class=\"data row0 col1\" >-0.04</td>\n",
              "      <td id=\"T_3a80a_row0_col2\" class=\"data row0 col2\" >0.94</td>\n",
              "    </tr>\n",
              "    <tr>\n",
              "      <th id=\"T_3a80a_level0_row1\" class=\"row_heading level0 row1\" >Duration</th>\n",
              "      <td id=\"T_3a80a_row1_col0\" class=\"data row1 col0\" >-0.04</td>\n",
              "      <td id=\"T_3a80a_row1_col1\" class=\"data row1 col1\" >1.00</td>\n",
              "      <td id=\"T_3a80a_row1_col2\" class=\"data row1 col2\" >-0.27</td>\n",
              "    </tr>\n",
              "    <tr>\n",
              "      <th id=\"T_3a80a_level0_row2\" class=\"row_heading level0 row2\" >Exp_Gained</th>\n",
              "      <td id=\"T_3a80a_row2_col0\" class=\"data row2 col0\" >0.94</td>\n",
              "      <td id=\"T_3a80a_row2_col1\" class=\"data row2 col1\" >-0.27</td>\n",
              "      <td id=\"T_3a80a_row2_col2\" class=\"data row2 col2\" >1.00</td>\n",
              "    </tr>\n",
              "  </tbody>\n",
              "</table>\n"
            ]
          },
          "metadata": {},
          "execution_count": 38
        }
      ]
    },
    {
      "cell_type": "markdown",
      "source": [
        "We observe that the `IS_CORRECT` feature shows a positive correlation with the target variable `Exp_Gained`, indicating that answering more questions correctly leads to higher EXP Points. Conversely, the `Duration` feature exhibits a negative correlation with `Exp_Gained`, suggesting that longer durations taken by users to answer questions result in fewer EXP Points."
      ],
      "metadata": {
        "id": "-4_GdFe_fGcI"
      }
    },
    {
      "cell_type": "code",
      "source": [
        "# Memisahkan fitur (X) dan target (y)\n",
        "X = data[['IS_CORRECT', 'Duration']]\n",
        "y = data['Exp_Gained']"
      ],
      "metadata": {
        "id": "K9W-F8DwJUtR"
      },
      "execution_count": 39,
      "outputs": []
    },
    {
      "cell_type": "code",
      "source": [
        "# Memisahkan data menjadi training dan testing set\n",
        "X_train, X_test, y_train, y_test = train_test_split(X, y, test_size=0.3, random_state=42)"
      ],
      "metadata": {
        "id": "PB4vwSSRJd7N"
      },
      "execution_count": 40,
      "outputs": []
    },
    {
      "cell_type": "code",
      "source": [
        "# Jumlah fitur\n",
        "n_features = X.shape[1]\n",
        "print(n_features)"
      ],
      "metadata": {
        "id": "idxn1I3ulvrG",
        "colab": {
          "base_uri": "https://localhost:8080/"
        },
        "outputId": "38c0d4b4-6112-4c8f-9467-e454626e8446"
      },
      "execution_count": 41,
      "outputs": [
        {
          "output_type": "stream",
          "name": "stdout",
          "text": [
            "2\n"
          ]
        }
      ]
    },
    {
      "cell_type": "markdown",
      "source": [
        "## Prediction Model Using TensorFlow DNN"
      ],
      "metadata": {
        "id": "JVxqocD-PWKa"
      }
    },
    {
      "cell_type": "code",
      "source": [
        "# Definisikan model TensorFlow menggunakan deep neural network\n",
        "model = tf.keras.Sequential([\n",
        "    tf.keras.layers.InputLayer(input_shape=(n_features,)),\n",
        "    tf.keras.layers.Dense(10, activation='relu'),\n",
        "    tf.keras.layers.Dense(10, activation='relu'),\n",
        "    tf.keras.layers.Dense(1)\n",
        "])"
      ],
      "metadata": {
        "id": "RfFWTEc1M03L"
      },
      "execution_count": 42,
      "outputs": []
    },
    {
      "cell_type": "code",
      "source": [
        "# Mengompilasi model\n",
        "optimizer = tf.keras.optimizers.Adam(0.01)\n",
        "model.compile(loss='mean_squared_error',optimizer=optimizer, metrics=['mae'])"
      ],
      "metadata": {
        "id": "CNOi8hc2OW2x"
      },
      "execution_count": 43,
      "outputs": []
    },
    {
      "cell_type": "code",
      "source": [
        "# Melatih model\n",
        "history = model.fit(X_train, y_train, validation_data=(X_test, y_test), epochs=50, verbose=1)"
      ],
      "metadata": {
        "id": "JJyUjtRuOY0U",
        "colab": {
          "base_uri": "https://localhost:8080/"
        },
        "outputId": "d2271c53-30d2-4677-e763-68f4e5aaa6c8"
      },
      "execution_count": 44,
      "outputs": [
        {
          "output_type": "stream",
          "name": "stdout",
          "text": [
            "Epoch 1/50\n",
            "23/23 [==============================] - 1s 10ms/step - loss: 545.1108 - mae: 18.7535 - val_loss: 538.8804 - val_mae: 19.1836\n",
            "Epoch 2/50\n",
            "23/23 [==============================] - 0s 3ms/step - loss: 514.2018 - mae: 18.4961 - val_loss: 527.4202 - val_mae: 18.8247\n",
            "Epoch 3/50\n",
            "23/23 [==============================] - 0s 3ms/step - loss: 503.4351 - mae: 18.3346 - val_loss: 509.3045 - val_mae: 18.5199\n",
            "Epoch 4/50\n",
            "23/23 [==============================] - 0s 3ms/step - loss: 472.7154 - mae: 17.7271 - val_loss: 488.1053 - val_mae: 18.6097\n",
            "Epoch 5/50\n",
            "23/23 [==============================] - 0s 3ms/step - loss: 437.2370 - mae: 16.9518 - val_loss: 493.2791 - val_mae: 18.7301\n",
            "Epoch 6/50\n",
            "23/23 [==============================] - 0s 3ms/step - loss: 367.1451 - mae: 15.7241 - val_loss: 311.7113 - val_mae: 15.1089\n",
            "Epoch 7/50\n",
            "23/23 [==============================] - 0s 3ms/step - loss: 230.0967 - mae: 12.6061 - val_loss: 177.8969 - val_mae: 11.1455\n",
            "Epoch 8/50\n",
            "23/23 [==============================] - 0s 3ms/step - loss: 109.2601 - mae: 8.9192 - val_loss: 61.8561 - val_mae: 6.8795\n",
            "Epoch 9/50\n",
            "23/23 [==============================] - 0s 3ms/step - loss: 43.0646 - mae: 5.1106 - val_loss: 37.8109 - val_mae: 4.7747\n",
            "Epoch 10/50\n",
            "23/23 [==============================] - 0s 4ms/step - loss: 31.2807 - mae: 3.9623 - val_loss: 38.1194 - val_mae: 4.9841\n",
            "Epoch 11/50\n",
            "23/23 [==============================] - 0s 4ms/step - loss: 27.9140 - mae: 3.7687 - val_loss: 30.9973 - val_mae: 3.8617\n",
            "Epoch 12/50\n",
            "23/23 [==============================] - 0s 3ms/step - loss: 23.6350 - mae: 3.4236 - val_loss: 25.6916 - val_mae: 3.3878\n",
            "Epoch 13/50\n",
            "23/23 [==============================] - 0s 3ms/step - loss: 20.9048 - mae: 3.2176 - val_loss: 20.6806 - val_mae: 2.8889\n",
            "Epoch 14/50\n",
            "23/23 [==============================] - 0s 3ms/step - loss: 19.2280 - mae: 3.1191 - val_loss: 18.7150 - val_mae: 3.0334\n",
            "Epoch 15/50\n",
            "23/23 [==============================] - 0s 3ms/step - loss: 16.4203 - mae: 2.7914 - val_loss: 17.1363 - val_mae: 2.6661\n",
            "Epoch 16/50\n",
            "23/23 [==============================] - 0s 3ms/step - loss: 15.4075 - mae: 2.7185 - val_loss: 17.4283 - val_mae: 2.9090\n",
            "Epoch 17/50\n",
            "23/23 [==============================] - 0s 4ms/step - loss: 15.3105 - mae: 2.8133 - val_loss: 16.8172 - val_mae: 3.0223\n",
            "Epoch 18/50\n",
            "23/23 [==============================] - 0s 2ms/step - loss: 14.8989 - mae: 2.7643 - val_loss: 17.1084 - val_mae: 3.2724\n",
            "Epoch 19/50\n",
            "23/23 [==============================] - 0s 2ms/step - loss: 15.9491 - mae: 2.9639 - val_loss: 13.8434 - val_mae: 2.4690\n",
            "Epoch 20/50\n",
            "23/23 [==============================] - 0s 3ms/step - loss: 14.5438 - mae: 2.8015 - val_loss: 44.2369 - val_mae: 5.6160\n",
            "Epoch 21/50\n",
            "23/23 [==============================] - 0s 3ms/step - loss: 18.7434 - mae: 3.3620 - val_loss: 13.2247 - val_mae: 2.3864\n",
            "Epoch 22/50\n",
            "23/23 [==============================] - 0s 3ms/step - loss: 17.3211 - mae: 3.2586 - val_loss: 13.2183 - val_mae: 2.5040\n",
            "Epoch 23/50\n",
            "23/23 [==============================] - 0s 3ms/step - loss: 13.0858 - mae: 2.6051 - val_loss: 12.7483 - val_mae: 2.4619\n",
            "Epoch 24/50\n",
            "23/23 [==============================] - 0s 4ms/step - loss: 13.6301 - mae: 2.7288 - val_loss: 16.8461 - val_mae: 3.3847\n",
            "Epoch 25/50\n",
            "23/23 [==============================] - 0s 3ms/step - loss: 15.4667 - mae: 3.0053 - val_loss: 12.5847 - val_mae: 2.4154\n",
            "Epoch 26/50\n",
            "23/23 [==============================] - 0s 3ms/step - loss: 13.2018 - mae: 2.6370 - val_loss: 12.8927 - val_mae: 2.5245\n",
            "Epoch 27/50\n",
            "23/23 [==============================] - 0s 3ms/step - loss: 12.0305 - mae: 2.4771 - val_loss: 12.2274 - val_mae: 2.3431\n",
            "Epoch 28/50\n",
            "23/23 [==============================] - 0s 3ms/step - loss: 13.4757 - mae: 2.7536 - val_loss: 17.1851 - val_mae: 3.4164\n",
            "Epoch 29/50\n",
            "23/23 [==============================] - 0s 3ms/step - loss: 15.1729 - mae: 3.0397 - val_loss: 13.5429 - val_mae: 2.7838\n",
            "Epoch 30/50\n",
            "23/23 [==============================] - 0s 3ms/step - loss: 14.3018 - mae: 2.8853 - val_loss: 21.8324 - val_mae: 3.9142\n",
            "Epoch 31/50\n",
            "23/23 [==============================] - 0s 3ms/step - loss: 19.3293 - mae: 3.5243 - val_loss: 13.3043 - val_mae: 2.8380\n",
            "Epoch 32/50\n",
            "23/23 [==============================] - 0s 3ms/step - loss: 13.1677 - mae: 2.7381 - val_loss: 11.7782 - val_mae: 2.3421\n",
            "Epoch 33/50\n",
            "23/23 [==============================] - 0s 3ms/step - loss: 12.0041 - mae: 2.4924 - val_loss: 13.3636 - val_mae: 2.7944\n",
            "Epoch 34/50\n",
            "23/23 [==============================] - 0s 2ms/step - loss: 12.6448 - mae: 2.6960 - val_loss: 17.1240 - val_mae: 3.3234\n",
            "Epoch 35/50\n",
            "23/23 [==============================] - 0s 3ms/step - loss: 15.1705 - mae: 3.0498 - val_loss: 31.3874 - val_mae: 4.7530\n",
            "Epoch 36/50\n",
            "23/23 [==============================] - 0s 3ms/step - loss: 15.9790 - mae: 3.1945 - val_loss: 28.9813 - val_mae: 4.4133\n",
            "Epoch 37/50\n",
            "23/23 [==============================] - 0s 4ms/step - loss: 21.6511 - mae: 3.6461 - val_loss: 19.3836 - val_mae: 3.5855\n",
            "Epoch 38/50\n",
            "23/23 [==============================] - 0s 4ms/step - loss: 12.9225 - mae: 2.7170 - val_loss: 12.3107 - val_mae: 2.6173\n",
            "Epoch 39/50\n",
            "23/23 [==============================] - 0s 3ms/step - loss: 12.2929 - mae: 2.5625 - val_loss: 11.5746 - val_mae: 2.2792\n",
            "Epoch 40/50\n",
            "23/23 [==============================] - 0s 2ms/step - loss: 11.9791 - mae: 2.5074 - val_loss: 11.7694 - val_mae: 2.5070\n",
            "Epoch 41/50\n",
            "23/23 [==============================] - 0s 2ms/step - loss: 11.9652 - mae: 2.4825 - val_loss: 13.1809 - val_mae: 2.5906\n",
            "Epoch 42/50\n",
            "23/23 [==============================] - 0s 3ms/step - loss: 12.6014 - mae: 2.6635 - val_loss: 15.5398 - val_mae: 3.2654\n",
            "Epoch 43/50\n",
            "23/23 [==============================] - 0s 3ms/step - loss: 12.4269 - mae: 2.5578 - val_loss: 11.2364 - val_mae: 2.2995\n",
            "Epoch 44/50\n",
            "23/23 [==============================] - 0s 3ms/step - loss: 12.6167 - mae: 2.5937 - val_loss: 13.2706 - val_mae: 2.8778\n",
            "Epoch 45/50\n",
            "23/23 [==============================] - 0s 3ms/step - loss: 12.1906 - mae: 2.6845 - val_loss: 11.3857 - val_mae: 2.3785\n",
            "Epoch 46/50\n",
            "23/23 [==============================] - 0s 3ms/step - loss: 11.6760 - mae: 2.4712 - val_loss: 11.0964 - val_mae: 2.2791\n",
            "Epoch 47/50\n",
            "23/23 [==============================] - 0s 3ms/step - loss: 10.9767 - mae: 2.3641 - val_loss: 11.6003 - val_mae: 2.3560\n",
            "Epoch 48/50\n",
            "23/23 [==============================] - 0s 3ms/step - loss: 11.4370 - mae: 2.4547 - val_loss: 16.6360 - val_mae: 3.4325\n",
            "Epoch 49/50\n",
            "23/23 [==============================] - 0s 3ms/step - loss: 12.3644 - mae: 2.7065 - val_loss: 12.3814 - val_mae: 2.6028\n",
            "Epoch 50/50\n",
            "23/23 [==============================] - 0s 4ms/step - loss: 11.0763 - mae: 2.3773 - val_loss: 10.8853 - val_mae: 2.2366\n"
          ]
        }
      ]
    },
    {
      "cell_type": "markdown",
      "source": [
        "## Model Evaluation"
      ],
      "metadata": {
        "id": "fe5hSeE_cMpe"
      }
    },
    {
      "cell_type": "code",
      "source": [
        "# Plot training & validation loss values\n",
        "plt.figure(figsize=(6, 4))\n",
        "plt.plot(history.history['loss'], label='Train Loss')\n",
        "plt.plot(history.history['val_loss'], label='Validation Loss')\n",
        "plt.title('Model Loss per Epoch')\n",
        "plt.ylabel('Loss')\n",
        "plt.xlabel('Epoch')\n",
        "plt.legend(loc='upper right')\n",
        "plt.grid(True)\n",
        "plt.show()"
      ],
      "metadata": {
        "colab": {
          "base_uri": "https://localhost:8080/",
          "height": 410
        },
        "id": "-fQT0KFndI_C",
        "outputId": "98aee282-26dd-44e4-81bd-4bcb4ff4d77e"
      },
      "execution_count": 45,
      "outputs": [
        {
          "output_type": "display_data",
          "data": {
            "text/plain": [
              "<Figure size 600x400 with 1 Axes>"
            ],
            "image/png": "[encoded data removed]"
          },
          "metadata": {}
        }
      ]
    },
    {
      "cell_type": "markdown",
      "source": [
        "We can see that loss and val_loss are close to each other and converging on the graph, it indicates that the model is learning well from the training data, it suggests that the model is likely to well-generalized to new data"
      ],
      "metadata": {
        "id": "0Edmi1Jed-im"
      }
    },
    {
      "cell_type": "code",
      "source": [
        "print('The MSE value is: ', model.evaluate(X_test, y_test))"
      ],
      "metadata": {
        "id": "tvRmGzbfleWu",
        "colab": {
          "base_uri": "https://localhost:8080/"
        },
        "outputId": "037d04de-e717-4528-d1ae-501e7b969903"
      },
      "execution_count": 46,
      "outputs": [
        {
          "output_type": "stream",
          "name": "stdout",
          "text": [
            "10/10 [==============================] - 0s 2ms/step - loss: 10.8853 - mae: 2.2366\n",
            "The MSE value is:  [10.885252952575684, 2.2366065979003906]\n"
          ]
        }
      ]
    },
    {
      "cell_type": "code",
      "source": [
        "# Prediksi pada data test\n",
        "y_pred = model.predict(X_test)"
      ],
      "metadata": {
        "id": "grEYN8OrtgOb",
        "colab": {
          "base_uri": "https://localhost:8080/"
        },
        "outputId": "10cca3eb-e027-424a-e914-c171978209c8"
      },
      "execution_count": 47,
      "outputs": [
        {
          "output_type": "stream",
          "name": "stdout",
          "text": [
            "10/10 [==============================] - 0s 2ms/step\n"
          ]
        }
      ]
    },
    {
      "cell_type": "code",
      "source": [
        "# Menghitung Mean Absolute Error (MAE)\n",
        "mae = mean_absolute_error(y_test, y_pred)\n",
        "print(f\"Mean Absolute Error (MAE): {mae}\")"
      ],
      "metadata": {
        "id": "kjKi70TatklJ",
        "colab": {
          "base_uri": "https://localhost:8080/"
        },
        "outputId": "226e6dce-6f89-454a-db8c-1caf79dd4ea7"
      },
      "execution_count": 48,
      "outputs": [
        {
          "output_type": "stream",
          "name": "stdout",
          "text": [
            "Mean Absolute Error (MAE): 2.236606547541351\n"
          ]
        }
      ]
    },
    {
      "cell_type": "code",
      "source": [
        "# Menghitung Mean Squared Error (MSE)\n",
        "mse = mean_squared_error(y_test, y_pred)\n",
        "print(f\"Mean Squared Error (MSE): {mse}\")"
      ],
      "metadata": {
        "id": "ARwGO8WAtoy-",
        "colab": {
          "base_uri": "https://localhost:8080/"
        },
        "outputId": "43f51ecb-8a99-450e-804b-11c0212228cb"
      },
      "execution_count": 49,
      "outputs": [
        {
          "output_type": "stream",
          "name": "stdout",
          "text": [
            "Mean Squared Error (MSE): 10.8852535500495\n"
          ]
        }
      ]
    },
    {
      "cell_type": "code",
      "source": [
        "# Menghitung R² Score\n",
        "r2 = r2_score(y_test, y_pred)\n",
        "print(f\"R² Score: {r2}\")"
      ],
      "metadata": {
        "id": "-mILidO9tqb7",
        "colab": {
          "base_uri": "https://localhost:8080/"
        },
        "outputId": "e52e6c93-047e-497a-f186-39f35203a20e"
      },
      "execution_count": 50,
      "outputs": [
        {
          "output_type": "stream",
          "name": "stdout",
          "text": [
            "R² Score: 0.9631360297752134\n"
          ]
        }
      ]
    },
    {
      "cell_type": "markdown",
      "source": [],
      "metadata": {
        "id": "Hw3nAizQgTFr"
      }
    },
    {
      "cell_type": "markdown",
      "source": [
        "## Model Implementation"
      ],
      "metadata": {
        "id": "G2lCjL_kFvRA"
      }
    },
    {
      "cell_type": "code",
      "source": [
        "# Membuat data untuk prediksi 10 data secara manual\n",
        "input_data = pd.DataFrame([\n",
        "    [0, 5],\n",
        "    [1, 10],\n",
        "    [0, 40],\n",
        "    [1, 100],\n",
        "    [1, 100],\n",
        "    [1, 20],\n",
        "    [1, 16],\n",
        "    [1, 17],\n",
        "    [0, 300],\n",
        "    [1, 40]\n",
        "], columns=['IS_CORRECT', 'Duration'])\n",
        "\n",
        "predictions = model.predict(input_data)"
      ],
      "metadata": {
        "id": "Bm5s0HcQOlMi",
        "colab": {
          "base_uri": "https://localhost:8080/"
        },
        "outputId": "416bea8f-25f3-4718-ebdf-5ecf1b654b35"
      },
      "execution_count": 51,
      "outputs": [
        {
          "output_type": "stream",
          "name": "stdout",
          "text": [
            "1/1 [==============================] - 0s 24ms/step\n"
          ]
        }
      ]
    },
    {
      "cell_type": "code",
      "source": [
        "# Menampilkan hasil prediksi\n",
        "print(\"Data untuk prediksi:\\n\", input_data)\n",
        "print(\"Hasil prediksi:\\n\", predictions.flatten())"
      ],
      "metadata": {
        "id": "eL40Ap8LOsZo",
        "colab": {
          "base_uri": "https://localhost:8080/"
        },
        "outputId": "f9afd199-6b58-4092-a327-800c7a5f900d"
      },
      "execution_count": 52,
      "outputs": [
        {
          "output_type": "stream",
          "name": "stdout",
          "text": [
            "Data untuk prediksi:\n",
            "    IS_CORRECT  Duration\n",
            "0           0         5\n",
            "1           1        10\n",
            "2           0        40\n",
            "3           1       100\n",
            "4           1       100\n",
            "5           1        20\n",
            "6           1        16\n",
            "7           1        17\n",
            "8           0       300\n",
            "9           1        40\n",
            "Hasil prediksi:\n",
            " [11.850856 47.381474  7.230018 35.000805 35.000805 48.320328 48.986298\n",
            " 48.819805  7.770701 44.990444]\n"
          ]
        }
      ]
    },
    {
      "cell_type": "code",
      "source": [
        "# Menghitung dan menampilkan jumlah dari prediksi yang diberikan\n",
        "total_predictions = np.sum(predictions)\n",
        "print(\"Jumlah dari hasil prediksi: \", total_predictions)"
      ],
      "metadata": {
        "id": "zcOPdtC1Ozyn",
        "colab": {
          "base_uri": "https://localhost:8080/"
        },
        "outputId": "13c83f42-abd4-4829-ef1b-f7c234dc7665"
      },
      "execution_count": 53,
      "outputs": [
        {
          "output_type": "stream",
          "name": "stdout",
          "text": [
            "Jumlah dari hasil prediksi:  335.35153\n"
          ]
        }
      ]
    },
    {
      "cell_type": "code",
      "source": [
        "# Mengecek jumlah keseluruhan durasi dari data input (tidak boleh lebih dari 900 detik atau 15 menit)\n",
        "total_duration = input_data['Duration'].sum()\n",
        "print(\"Jumlah keseluruhan durasi: \", total_duration)"
      ],
      "metadata": {
        "id": "EsX06yUjO3gY",
        "colab": {
          "base_uri": "https://localhost:8080/"
        },
        "outputId": "c27db5a0-e660-4977-f582-5997aefd6abd"
      },
      "execution_count": 54,
      "outputs": [
        {
          "output_type": "stream",
          "name": "stdout",
          "text": [
            "Jumlah keseluruhan durasi:  648\n"
          ]
        }
      ]
    },
    {
      "cell_type": "markdown",
      "source": [
        "## Saving Model"
      ],
      "metadata": {
        "id": "1TAud2VSF68H"
      }
    },
    {
      "cell_type": "code",
      "source": [
        "# Menyimpan model dalam bentuk JSON\n",
        "# model_json = model.to_json()\n",
        "# with open('model.json', 'w') as json_file:\n",
        "#     json.dump(model_json, json_file)\n",
        "# print(\"Model has been saved to model.json\")"
      ],
      "metadata": {
        "id": "XpjBKtuSsD5J"
      },
      "execution_count": 55,
      "outputs": []
    },
    {
      "cell_type": "code",
      "source": [
        "# Saving model in .h5 format\n",
        "model.save(\"model_exp_prediction.h5\")"
      ],
      "metadata": {
        "id": "uq36B7TcPtay",
        "colab": {
          "base_uri": "https://localhost:8080/"
        },
        "outputId": "b404bd13-a2e3-4423-97a0-9b3baee80852"
      },
      "execution_count": 56,
      "outputs": [
        {
          "output_type": "stream",
          "name": "stderr",
          "text": [
            "/usr/local/lib/python3.10/dist-packages/keras/src/engine/training.py:3103: UserWarning: You are saving your model as an HDF5 file via `model.save()`. This file format is considered legacy. We recommend using instead the native Keras format, e.g. `model.save('my_model.keras')`.\n",
            "  saving_api.save_model(\n"
          ]
        }
      ]
    }
  ]
}