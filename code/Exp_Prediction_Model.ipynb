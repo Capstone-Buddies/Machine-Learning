{
  "nbformat": 4,
  "nbformat_minor": 0,
  "metadata": {
    "colab": {
      "provenance": []
    },
    "kernelspec": {
      "name": "python3",
      "display_name": "Python 3"
    },
    "language_info": {
      "name": "python"
    }
  },
  "cells": [
    {
      "cell_type": "code",
      "source": [
        "import pandas as pd\n",
        "import numpy as np\n",
        "import tensorflow as tf\n",
        "from sklearn.model_selection import train_test_split\n",
        "from sklearn.metrics import mean_absolute_error, mean_squared_error, r2_score\n",
        "import matplotlib.pyplot as plt\n",
        "import json"
      ],
      "metadata": {
        "id": "oZVJMEwIN6NP"
      },
      "execution_count": 29,
      "outputs": []
    },
    {
      "cell_type": "code",
      "source": [
        "link_url = 'https://raw.githubusercontent.com/Capstone-Buddies/Machine-Learning/main/Dataset/SNBT%20Datasets%20-%20Exp_Datasets.csv'"
      ],
      "metadata": {
        "id": "5y41-gHDI20c"
      },
      "execution_count": 2,
      "outputs": []
    },
    {
      "cell_type": "code",
      "source": [
        "data = pd.read_csv(link_url)\n",
        "data"
      ],
      "metadata": {
        "id": "7_GatVcqyoG8",
        "colab": {
          "base_uri": "https://localhost:8080/",
          "height": 423
        },
        "outputId": "32bb891b-e282-430b-bff8-9f496521270b"
      },
      "execution_count": 3,
      "outputs": [
        {
          "output_type": "execute_result",
          "data": {
            "text/plain": [
              "      Id_quiz_history  IS_CORRECT  Duration  Exp_Gained  RandomValue  \\\n",
              "0                   1           1        42          44           42   \n",
              "1                   1           1        46          44           46   \n",
              "2                   1           1        70          41           70   \n",
              "3                   1           1        40          45           40   \n",
              "4                   1           1        40          45           40   \n",
              "...               ...         ...       ...         ...          ...   \n",
              "1005              101           0        74           6           39   \n",
              "1006              101           0       108           1           57   \n",
              "1007              101           0        19           6           10   \n",
              "1008              101           0        91           6           48   \n",
              "1009              101           1        13          48            7   \n",
              "\n",
              "      TotalRandomValue  TotalExp  Normalized_Exp  \n",
              "0                  378       449              44  \n",
              "1                  378       449              44  \n",
              "2                  378       449              41  \n",
              "3                  378       449              45  \n",
              "4                  378       449              45  \n",
              "...                ...       ...             ...  \n",
              "1005               477       201               6  \n",
              "1006               477       201               1  \n",
              "1007               477       201               6  \n",
              "1008               477       201               6  \n",
              "1009               477       201              48  \n",
              "\n",
              "[1010 rows x 8 columns]"
            ],
            "text/html": [
              "\n",
              "  <div id=\"df-9fff87a2-5829-4eb1-a13e-bff15ae10a97\" class=\"colab-df-container\">\n",
              "    <div>\n",
              "<style scoped>\n",
              "    .dataframe tbody tr th:only-of-type {\n",
              "        vertical-align: middle;\n",
              "    }\n",
              "\n",
              "    .dataframe tbody tr th {\n",
              "        vertical-align: top;\n",
              "    }\n",
              "\n",
              "    .dataframe thead th {\n",
              "        text-align: right;\n",
              "    }\n",
              "</style>\n",
              "<table border=\"1\" class=\"dataframe\">\n",
              "  <thead>\n",
              "    <tr style=\"text-align: right;\">\n",
              "      <th></th>\n",
              "      <th>Id_quiz_history</th>\n",
              "      <th>IS_CORRECT</th>\n",
              "      <th>Duration</th>\n",
              "      <th>Exp_Gained</th>\n",
              "      <th>RandomValue</th>\n",
              "      <th>TotalRandomValue</th>\n",
              "      <th>TotalExp</th>\n",
              "      <th>Normalized_Exp</th>\n",
              "    </tr>\n",
              "  </thead>\n",
              "  <tbody>\n",
              "    <tr>\n",
              "      <th>0</th>\n",
              "      <td>1</td>\n",
              "      <td>1</td>\n",
              "      <td>42</td>\n",
              "      <td>44</td>\n",
              "      <td>42</td>\n",
              "      <td>378</td>\n",
              "      <td>449</td>\n",
              "      <td>44</td>\n",
              "    </tr>\n",
              "    <tr>\n",
              "      <th>1</th>\n",
              "      <td>1</td>\n",
              "      <td>1</td>\n",
              "      <td>46</td>\n",
              "      <td>44</td>\n",
              "      <td>46</td>\n",
              "      <td>378</td>\n",
              "      <td>449</td>\n",
              "      <td>44</td>\n",
              "    </tr>\n",
              "    <tr>\n",
              "      <th>2</th>\n",
              "      <td>1</td>\n",
              "      <td>1</td>\n",
              "      <td>70</td>\n",
              "      <td>41</td>\n",
              "      <td>70</td>\n",
              "      <td>378</td>\n",
              "      <td>449</td>\n",
              "      <td>41</td>\n",
              "    </tr>\n",
              "    <tr>\n",
              "      <th>3</th>\n",
              "      <td>1</td>\n",
              "      <td>1</td>\n",
              "      <td>40</td>\n",
              "      <td>45</td>\n",
              "      <td>40</td>\n",
              "      <td>378</td>\n",
              "      <td>449</td>\n",
              "      <td>45</td>\n",
              "    </tr>\n",
              "    <tr>\n",
              "      <th>4</th>\n",
              "      <td>1</td>\n",
              "      <td>1</td>\n",
              "      <td>40</td>\n",
              "      <td>45</td>\n",
              "      <td>40</td>\n",
              "      <td>378</td>\n",
              "      <td>449</td>\n",
              "      <td>45</td>\n",
              "    </tr>\n",
              "    <tr>\n",
              "      <th>...</th>\n",
              "      <td>...</td>\n",
              "      <td>...</td>\n",
              "      <td>...</td>\n",
              "      <td>...</td>\n",
              "      <td>...</td>\n",
              "      <td>...</td>\n",
              "      <td>...</td>\n",
              "      <td>...</td>\n",
              "    </tr>\n",
              "    <tr>\n",
              "      <th>1005</th>\n",
              "      <td>101</td>\n",
              "      <td>0</td>\n",
              "      <td>74</td>\n",
              "      <td>6</td>\n",
              "      <td>39</td>\n",
              "      <td>477</td>\n",
              "      <td>201</td>\n",
              "      <td>6</td>\n",
              "    </tr>\n",
              "    <tr>\n",
              "      <th>1006</th>\n",
              "      <td>101</td>\n",
              "      <td>0</td>\n",
              "      <td>108</td>\n",
              "      <td>1</td>\n",
              "      <td>57</td>\n",
              "      <td>477</td>\n",
              "      <td>201</td>\n",
              "      <td>1</td>\n",
              "    </tr>\n",
              "    <tr>\n",
              "      <th>1007</th>\n",
              "      <td>101</td>\n",
              "      <td>0</td>\n",
              "      <td>19</td>\n",
              "      <td>6</td>\n",
              "      <td>10</td>\n",
              "      <td>477</td>\n",
              "      <td>201</td>\n",
              "      <td>6</td>\n",
              "    </tr>\n",
              "    <tr>\n",
              "      <th>1008</th>\n",
              "      <td>101</td>\n",
              "      <td>0</td>\n",
              "      <td>91</td>\n",
              "      <td>6</td>\n",
              "      <td>48</td>\n",
              "      <td>477</td>\n",
              "      <td>201</td>\n",
              "      <td>6</td>\n",
              "    </tr>\n",
              "    <tr>\n",
              "      <th>1009</th>\n",
              "      <td>101</td>\n",
              "      <td>1</td>\n",
              "      <td>13</td>\n",
              "      <td>48</td>\n",
              "      <td>7</td>\n",
              "      <td>477</td>\n",
              "      <td>201</td>\n",
              "      <td>48</td>\n",
              "    </tr>\n",
              "  </tbody>\n",
              "</table>\n",
              "<p>1010 rows × 8 columns</p>\n",
              "</div>\n",
              "    <div class=\"colab-df-buttons\">\n",
              "\n",
              "  <div class=\"colab-df-container\">\n",
              "    <button class=\"colab-df-convert\" onclick=\"convertToInteractive('df-9fff87a2-5829-4eb1-a13e-bff15ae10a97')\"\n",
              "            title=\"Convert this dataframe to an interactive table.\"\n",
              "            style=\"display:none;\">\n",
              "\n",
              "  <svg xmlns=\"http://www.w3.org/2000/svg\" height=\"24px\" viewBox=\"0 -960 960 960\">\n",
              "    <path d=\"M120-120v-720h720v720H120Zm60-500h600v-160H180v160Zm220 220h160v-160H400v160Zm0 220h160v-160H400v160ZM180-400h160v-160H180v160Zm440 0h160v-160H620v160ZM180-180h160v-160H180v160Zm440 0h160v-160H620v160Z\"/>\n",
              "  </svg>\n",
              "    </button>\n",
              "\n",
              "  <style>\n",
              "    .colab-df-container {\n",
              "      display:flex;\n",
              "      gap: 12px;\n",
              "    }\n",
              "\n",
              "    .colab-df-convert {\n",
              "      background-color: #E8F0FE;\n",
              "      border: none;\n",
              "      border-radius: 50%;\n",
              "      cursor: pointer;\n",
              "      display: none;\n",
              "      fill: #1967D2;\n",
              "      height: 32px;\n",
              "      padding: 0 0 0 0;\n",
              "      width: 32px;\n",
              "    }\n",
              "\n",
              "    .colab-df-convert:hover {\n",
              "      background-color: #E2EBFA;\n",
              "      box-shadow: 0px 1px 2px rgba(60, 64, 67, 0.3), 0px 1px 3px 1px rgba(60, 64, 67, 0.15);\n",
              "      fill: #174EA6;\n",
              "    }\n",
              "\n",
              "    .colab-df-buttons div {\n",
              "      margin-bottom: 4px;\n",
              "    }\n",
              "\n",
              "    [theme=dark] .colab-df-convert {\n",
              "      background-color: #3B4455;\n",
              "      fill: #D2E3FC;\n",
              "    }\n",
              "\n",
              "    [theme=dark] .colab-df-convert:hover {\n",
              "      background-color: #434B5C;\n",
              "      box-shadow: 0px 1px 3px 1px rgba(0, 0, 0, 0.15);\n",
              "      filter: drop-shadow(0px 1px 2px rgba(0, 0, 0, 0.3));\n",
              "      fill: #FFFFFF;\n",
              "    }\n",
              "  </style>\n",
              "\n",
              "    <script>\n",
              "      const buttonEl =\n",
              "        document.querySelector('#df-9fff87a2-5829-4eb1-a13e-bff15ae10a97 button.colab-df-convert');\n",
              "      buttonEl.style.display =\n",
              "        google.colab.kernel.accessAllowed ? 'block' : 'none';\n",
              "\n",
              "      async function convertToInteractive(key) {\n",
              "        const element = document.querySelector('#df-9fff87a2-5829-4eb1-a13e-bff15ae10a97');\n",
              "        const dataTable =\n",
              "          await google.colab.kernel.invokeFunction('convertToInteractive',\n",
              "                                                    [key], {});\n",
              "        if (!dataTable) return;\n",
              "\n",
              "        const docLinkHtml = 'Like what you see? Visit the ' +\n",
              "          '<a target=\"_blank\" href=https://colab.research.google.com/notebooks/data_table.ipynb>data table notebook</a>'\n",
              "          + ' to learn more about interactive tables.';\n",
              "        element.innerHTML = '';\n",
              "        dataTable['output_type'] = 'display_data';\n",
              "        await google.colab.output.renderOutput(dataTable, element);\n",
              "        const docLink = document.createElement('div');\n",
              "        docLink.innerHTML = docLinkHtml;\n",
              "        element.appendChild(docLink);\n",
              "      }\n",
              "    </script>\n",
              "  </div>\n",
              "\n",
              "\n",
              "<div id=\"df-bd923d98-2e7f-49a7-b95d-b5e3591eeb7f\">\n",
              "  <button class=\"colab-df-quickchart\" onclick=\"quickchart('df-bd923d98-2e7f-49a7-b95d-b5e3591eeb7f')\"\n",
              "            title=\"Suggest charts\"\n",
              "            style=\"display:none;\">\n",
              "\n",
              "<svg xmlns=\"http://www.w3.org/2000/svg\" height=\"24px\"viewBox=\"0 0 24 24\"\n",
              "     width=\"24px\">\n",
              "    <g>\n",
              "        <path d=\"M19 3H5c-1.1 0-2 .9-2 2v14c0 1.1.9 2 2 2h14c1.1 0 2-.9 2-2V5c0-1.1-.9-2-2-2zM9 17H7v-7h2v7zm4 0h-2V7h2v10zm4 0h-2v-4h2v4z\"/>\n",
              "    </g>\n",
              "</svg>\n",
              "  </button>\n",
              "\n",
              "<style>\n",
              "  .colab-df-quickchart {\n",
              "      --bg-color: #E8F0FE;\n",
              "      --fill-color: #1967D2;\n",
              "      --hover-bg-color: #E2EBFA;\n",
              "      --hover-fill-color: #174EA6;\n",
              "      --disabled-fill-color: #AAA;\n",
              "      --disabled-bg-color: #DDD;\n",
              "  }\n",
              "\n",
              "  [theme=dark] .colab-df-quickchart {\n",
              "      --bg-color: #3B4455;\n",
              "      --fill-color: #D2E3FC;\n",
              "      --hover-bg-color: #434B5C;\n",
              "      --hover-fill-color: #FFFFFF;\n",
              "      --disabled-bg-color: #3B4455;\n",
              "      --disabled-fill-color: #666;\n",
              "  }\n",
              "\n",
              "  .colab-df-quickchart {\n",
              "    background-color: var(--bg-color);\n",
              "    border: none;\n",
              "    border-radius: 50%;\n",
              "    cursor: pointer;\n",
              "    display: none;\n",
              "    fill: var(--fill-color);\n",
              "    height: 32px;\n",
              "    padding: 0;\n",
              "    width: 32px;\n",
              "  }\n",
              "\n",
              "  .colab-df-quickchart:hover {\n",
              "    background-color: var(--hover-bg-color);\n",
              "    box-shadow: 0 1px 2px rgba(60, 64, 67, 0.3), 0 1px 3px 1px rgba(60, 64, 67, 0.15);\n",
              "    fill: var(--button-hover-fill-color);\n",
              "  }\n",
              "\n",
              "  .colab-df-quickchart-complete:disabled,\n",
              "  .colab-df-quickchart-complete:disabled:hover {\n",
              "    background-color: var(--disabled-bg-color);\n",
              "    fill: var(--disabled-fill-color);\n",
              "    box-shadow: none;\n",
              "  }\n",
              "\n",
              "  .colab-df-spinner {\n",
              "    border: 2px solid var(--fill-color);\n",
              "    border-color: transparent;\n",
              "    border-bottom-color: var(--fill-color);\n",
              "    animation:\n",
              "      spin 1s steps(1) infinite;\n",
              "  }\n",
              "\n",
              "  @keyframes spin {\n",
              "    0% {\n",
              "      border-color: transparent;\n",
              "      border-bottom-color: var(--fill-color);\n",
              "      border-left-color: var(--fill-color);\n",
              "    }\n",
              "    20% {\n",
              "      border-color: transparent;\n",
              "      border-left-color: var(--fill-color);\n",
              "      border-top-color: var(--fill-color);\n",
              "    }\n",
              "    30% {\n",
              "      border-color: transparent;\n",
              "      border-left-color: var(--fill-color);\n",
              "      border-top-color: var(--fill-color);\n",
              "      border-right-color: var(--fill-color);\n",
              "    }\n",
              "    40% {\n",
              "      border-color: transparent;\n",
              "      border-right-color: var(--fill-color);\n",
              "      border-top-color: var(--fill-color);\n",
              "    }\n",
              "    60% {\n",
              "      border-color: transparent;\n",
              "      border-right-color: var(--fill-color);\n",
              "    }\n",
              "    80% {\n",
              "      border-color: transparent;\n",
              "      border-right-color: var(--fill-color);\n",
              "      border-bottom-color: var(--fill-color);\n",
              "    }\n",
              "    90% {\n",
              "      border-color: transparent;\n",
              "      border-bottom-color: var(--fill-color);\n",
              "    }\n",
              "  }\n",
              "</style>\n",
              "\n",
              "  <script>\n",
              "    async function quickchart(key) {\n",
              "      const quickchartButtonEl =\n",
              "        document.querySelector('#' + key + ' button');\n",
              "      quickchartButtonEl.disabled = true;  // To prevent multiple clicks.\n",
              "      quickchartButtonEl.classList.add('colab-df-spinner');\n",
              "      try {\n",
              "        const charts = await google.colab.kernel.invokeFunction(\n",
              "            'suggestCharts', [key], {});\n",
              "      } catch (error) {\n",
              "        console.error('Error during call to suggestCharts:', error);\n",
              "      }\n",
              "      quickchartButtonEl.classList.remove('colab-df-spinner');\n",
              "      quickchartButtonEl.classList.add('colab-df-quickchart-complete');\n",
              "    }\n",
              "    (() => {\n",
              "      let quickchartButtonEl =\n",
              "        document.querySelector('#df-bd923d98-2e7f-49a7-b95d-b5e3591eeb7f button');\n",
              "      quickchartButtonEl.style.display =\n",
              "        google.colab.kernel.accessAllowed ? 'block' : 'none';\n",
              "    })();\n",
              "  </script>\n",
              "</div>\n",
              "    </div>\n",
              "  </div>\n"
            ],
            "application/vnd.google.colaboratory.intrinsic+json": {
              "type": "dataframe",
              "variable_name": "data",
              "summary": "{\n  \"name\": \"data\",\n  \"rows\": 1010,\n  \"fields\": [\n    {\n      \"column\": \"Id_quiz_history\",\n      \"properties\": {\n        \"dtype\": \"number\",\n        \"std\": 29,\n        \"min\": 1,\n        \"max\": 101,\n        \"num_unique_values\": 101,\n        \"samples\": [\n          85,\n          56,\n          67\n        ],\n        \"semantic_type\": \"\",\n        \"description\": \"\"\n      }\n    },\n    {\n      \"column\": \"IS_CORRECT\",\n      \"properties\": {\n        \"dtype\": \"number\",\n        \"std\": 0,\n        \"min\": 0,\n        \"max\": 1,\n        \"num_unique_values\": 2,\n        \"samples\": [\n          0,\n          1\n        ],\n        \"semantic_type\": \"\",\n        \"description\": \"\"\n      }\n    },\n    {\n      \"column\": \"Duration\",\n      \"properties\": {\n        \"dtype\": \"number\",\n        \"std\": 41,\n        \"min\": 5,\n        \"max\": 246,\n        \"num_unique_values\": 171,\n        \"samples\": [\n          110,\n          19\n        ],\n        \"semantic_type\": \"\",\n        \"description\": \"\"\n      }\n    },\n    {\n      \"column\": \"Exp_Gained\",\n      \"properties\": {\n        \"dtype\": \"number\",\n        \"std\": 16,\n        \"min\": 1,\n        \"max\": 49,\n        \"num_unique_values\": 48,\n        \"samples\": [\n          37,\n          25\n        ],\n        \"semantic_type\": \"\",\n        \"description\": \"\"\n      }\n    },\n    {\n      \"column\": \"RandomValue\",\n      \"properties\": {\n        \"dtype\": \"number\",\n        \"std\": 27,\n        \"min\": 5,\n        \"max\": 100,\n        \"num_unique_values\": 96,\n        \"samples\": [\n          37,\n          80\n        ],\n        \"semantic_type\": \"\",\n        \"description\": \"\"\n      }\n    },\n    {\n      \"column\": \"TotalRandomValue\",\n      \"properties\": {\n        \"dtype\": \"number\",\n        \"std\": 84,\n        \"min\": 351,\n        \"max\": 737,\n        \"num_unique_values\": 84,\n        \"samples\": [\n          394,\n          378\n        ],\n        \"semantic_type\": \"\",\n        \"description\": \"\"\n      }\n    },\n    {\n      \"column\": \"TotalExp\",\n      \"properties\": {\n        \"dtype\": \"number\",\n        \"std\": 62,\n        \"min\": 112,\n        \"max\": 451,\n        \"num_unique_values\": 83,\n        \"samples\": [\n          308,\n          449\n        ],\n        \"semantic_type\": \"\",\n        \"description\": \"\"\n      }\n    },\n    {\n      \"column\": \"Normalized_Exp\",\n      \"properties\": {\n        \"dtype\": \"number\",\n        \"std\": 16,\n        \"min\": 1,\n        \"max\": 49,\n        \"num_unique_values\": 48,\n        \"samples\": [\n          37,\n          25\n        ],\n        \"semantic_type\": \"\",\n        \"description\": \"\"\n      }\n    }\n  ]\n}"
            }
          },
          "metadata": {},
          "execution_count": 3
        }
      ]
    },
    {
      "cell_type": "code",
      "source": [
        "# Menghapus kolom yang tidak digunakan\n",
        "data = data.drop(columns=['Id_quiz_history','RandomValue', 'TotalRandomValue', 'TotalExp', 'Normalized_Exp'])\n",
        "\n",
        "# Menampilkan data setelah kolom dihapus\n",
        "print(\"Data Setelah Kolom Dihapus:\\n\", data.head())"
      ],
      "metadata": {
        "id": "IIO4ERFB0piC",
        "colab": {
          "base_uri": "https://localhost:8080/"
        },
        "outputId": "0824a4b2-222c-4d73-a3a9-7fff037b2433"
      },
      "execution_count": 4,
      "outputs": [
        {
          "output_type": "stream",
          "name": "stdout",
          "text": [
            "Data Setelah Kolom Dihapus:\n",
            "    IS_CORRECT  Duration  Exp_Gained\n",
            "0           1        42          44\n",
            "1           1        46          44\n",
            "2           1        70          41\n",
            "3           1        40          45\n",
            "4           1        40          45\n"
          ]
        }
      ]
    },
    {
      "cell_type": "code",
      "source": [
        "#Melihat 10 baris terbawah dari data\n",
        "data.tail(10)"
      ],
      "metadata": {
        "colab": {
          "base_uri": "https://localhost:8080/",
          "height": 363
        },
        "id": "A2tMKcqfB94P",
        "outputId": "158a1e7a-7342-48ab-f91a-e25297f76565"
      },
      "execution_count": 5,
      "outputs": [
        {
          "output_type": "execute_result",
          "data": {
            "text/plain": [
              "      IS_CORRECT  Duration  Exp_Gained\n",
              "1000           1        98          35\n",
              "1001           1       166          22\n",
              "1002           1       158          23\n",
              "1003           1        34          45\n",
              "1004           0       140           9\n",
              "1005           0        74           6\n",
              "1006           0       108           1\n",
              "1007           0        19           6\n",
              "1008           0        91           6\n",
              "1009           1        13          48"
            ],
            "text/html": [
              "\n",
              "  <div id=\"df-960f6916-0508-4581-82c5-8559ed4f8722\" class=\"colab-df-container\">\n",
              "    <div>\n",
              "<style scoped>\n",
              "    .dataframe tbody tr th:only-of-type {\n",
              "        vertical-align: middle;\n",
              "    }\n",
              "\n",
              "    .dataframe tbody tr th {\n",
              "        vertical-align: top;\n",
              "    }\n",
              "\n",
              "    .dataframe thead th {\n",
              "        text-align: right;\n",
              "    }\n",
              "</style>\n",
              "<table border=\"1\" class=\"dataframe\">\n",
              "  <thead>\n",
              "    <tr style=\"text-align: right;\">\n",
              "      <th></th>\n",
              "      <th>IS_CORRECT</th>\n",
              "      <th>Duration</th>\n",
              "      <th>Exp_Gained</th>\n",
              "    </tr>\n",
              "  </thead>\n",
              "  <tbody>\n",
              "    <tr>\n",
              "      <th>1000</th>\n",
              "      <td>1</td>\n",
              "      <td>98</td>\n",
              "      <td>35</td>\n",
              "    </tr>\n",
              "    <tr>\n",
              "      <th>1001</th>\n",
              "      <td>1</td>\n",
              "      <td>166</td>\n",
              "      <td>22</td>\n",
              "    </tr>\n",
              "    <tr>\n",
              "      <th>1002</th>\n",
              "      <td>1</td>\n",
              "      <td>158</td>\n",
              "      <td>23</td>\n",
              "    </tr>\n",
              "    <tr>\n",
              "      <th>1003</th>\n",
              "      <td>1</td>\n",
              "      <td>34</td>\n",
              "      <td>45</td>\n",
              "    </tr>\n",
              "    <tr>\n",
              "      <th>1004</th>\n",
              "      <td>0</td>\n",
              "      <td>140</td>\n",
              "      <td>9</td>\n",
              "    </tr>\n",
              "    <tr>\n",
              "      <th>1005</th>\n",
              "      <td>0</td>\n",
              "      <td>74</td>\n",
              "      <td>6</td>\n",
              "    </tr>\n",
              "    <tr>\n",
              "      <th>1006</th>\n",
              "      <td>0</td>\n",
              "      <td>108</td>\n",
              "      <td>1</td>\n",
              "    </tr>\n",
              "    <tr>\n",
              "      <th>1007</th>\n",
              "      <td>0</td>\n",
              "      <td>19</td>\n",
              "      <td>6</td>\n",
              "    </tr>\n",
              "    <tr>\n",
              "      <th>1008</th>\n",
              "      <td>0</td>\n",
              "      <td>91</td>\n",
              "      <td>6</td>\n",
              "    </tr>\n",
              "    <tr>\n",
              "      <th>1009</th>\n",
              "      <td>1</td>\n",
              "      <td>13</td>\n",
              "      <td>48</td>\n",
              "    </tr>\n",
              "  </tbody>\n",
              "</table>\n",
              "</div>\n",
              "    <div class=\"colab-df-buttons\">\n",
              "\n",
              "  <div class=\"colab-df-container\">\n",
              "    <button class=\"colab-df-convert\" onclick=\"convertToInteractive('df-960f6916-0508-4581-82c5-8559ed4f8722')\"\n",
              "            title=\"Convert this dataframe to an interactive table.\"\n",
              "            style=\"display:none;\">\n",
              "\n",
              "  <svg xmlns=\"http://www.w3.org/2000/svg\" height=\"24px\" viewBox=\"0 -960 960 960\">\n",
              "    <path d=\"M120-120v-720h720v720H120Zm60-500h600v-160H180v160Zm220 220h160v-160H400v160Zm0 220h160v-160H400v160ZM180-400h160v-160H180v160Zm440 0h160v-160H620v160ZM180-180h160v-160H180v160Zm440 0h160v-160H620v160Z\"/>\n",
              "  </svg>\n",
              "    </button>\n",
              "\n",
              "  <style>\n",
              "    .colab-df-container {\n",
              "      display:flex;\n",
              "      gap: 12px;\n",
              "    }\n",
              "\n",
              "    .colab-df-convert {\n",
              "      background-color: #E8F0FE;\n",
              "      border: none;\n",
              "      border-radius: 50%;\n",
              "      cursor: pointer;\n",
              "      display: none;\n",
              "      fill: #1967D2;\n",
              "      height: 32px;\n",
              "      padding: 0 0 0 0;\n",
              "      width: 32px;\n",
              "    }\n",
              "\n",
              "    .colab-df-convert:hover {\n",
              "      background-color: #E2EBFA;\n",
              "      box-shadow: 0px 1px 2px rgba(60, 64, 67, 0.3), 0px 1px 3px 1px rgba(60, 64, 67, 0.15);\n",
              "      fill: #174EA6;\n",
              "    }\n",
              "\n",
              "    .colab-df-buttons div {\n",
              "      margin-bottom: 4px;\n",
              "    }\n",
              "\n",
              "    [theme=dark] .colab-df-convert {\n",
              "      background-color: #3B4455;\n",
              "      fill: #D2E3FC;\n",
              "    }\n",
              "\n",
              "    [theme=dark] .colab-df-convert:hover {\n",
              "      background-color: #434B5C;\n",
              "      box-shadow: 0px 1px 3px 1px rgba(0, 0, 0, 0.15);\n",
              "      filter: drop-shadow(0px 1px 2px rgba(0, 0, 0, 0.3));\n",
              "      fill: #FFFFFF;\n",
              "    }\n",
              "  </style>\n",
              "\n",
              "    <script>\n",
              "      const buttonEl =\n",
              "        document.querySelector('#df-960f6916-0508-4581-82c5-8559ed4f8722 button.colab-df-convert');\n",
              "      buttonEl.style.display =\n",
              "        google.colab.kernel.accessAllowed ? 'block' : 'none';\n",
              "\n",
              "      async function convertToInteractive(key) {\n",
              "        const element = document.querySelector('#df-960f6916-0508-4581-82c5-8559ed4f8722');\n",
              "        const dataTable =\n",
              "          await google.colab.kernel.invokeFunction('convertToInteractive',\n",
              "                                                    [key], {});\n",
              "        if (!dataTable) return;\n",
              "\n",
              "        const docLinkHtml = 'Like what you see? Visit the ' +\n",
              "          '<a target=\"_blank\" href=https://colab.research.google.com/notebooks/data_table.ipynb>data table notebook</a>'\n",
              "          + ' to learn more about interactive tables.';\n",
              "        element.innerHTML = '';\n",
              "        dataTable['output_type'] = 'display_data';\n",
              "        await google.colab.output.renderOutput(dataTable, element);\n",
              "        const docLink = document.createElement('div');\n",
              "        docLink.innerHTML = docLinkHtml;\n",
              "        element.appendChild(docLink);\n",
              "      }\n",
              "    </script>\n",
              "  </div>\n",
              "\n",
              "\n",
              "<div id=\"df-724a7dee-42ba-4198-88a7-4a36eb42608d\">\n",
              "  <button class=\"colab-df-quickchart\" onclick=\"quickchart('df-724a7dee-42ba-4198-88a7-4a36eb42608d')\"\n",
              "            title=\"Suggest charts\"\n",
              "            style=\"display:none;\">\n",
              "\n",
              "<svg xmlns=\"http://www.w3.org/2000/svg\" height=\"24px\"viewBox=\"0 0 24 24\"\n",
              "     width=\"24px\">\n",
              "    <g>\n",
              "        <path d=\"M19 3H5c-1.1 0-2 .9-2 2v14c0 1.1.9 2 2 2h14c1.1 0 2-.9 2-2V5c0-1.1-.9-2-2-2zM9 17H7v-7h2v7zm4 0h-2V7h2v10zm4 0h-2v-4h2v4z\"/>\n",
              "    </g>\n",
              "</svg>\n",
              "  </button>\n",
              "\n",
              "<style>\n",
              "  .colab-df-quickchart {\n",
              "      --bg-color: #E8F0FE;\n",
              "      --fill-color: #1967D2;\n",
              "      --hover-bg-color: #E2EBFA;\n",
              "      --hover-fill-color: #174EA6;\n",
              "      --disabled-fill-color: #AAA;\n",
              "      --disabled-bg-color: #DDD;\n",
              "  }\n",
              "\n",
              "  [theme=dark] .colab-df-quickchart {\n",
              "      --bg-color: #3B4455;\n",
              "      --fill-color: #D2E3FC;\n",
              "      --hover-bg-color: #434B5C;\n",
              "      --hover-fill-color: #FFFFFF;\n",
              "      --disabled-bg-color: #3B4455;\n",
              "      --disabled-fill-color: #666;\n",
              "  }\n",
              "\n",
              "  .colab-df-quickchart {\n",
              "    background-color: var(--bg-color);\n",
              "    border: none;\n",
              "    border-radius: 50%;\n",
              "    cursor: pointer;\n",
              "    display: none;\n",
              "    fill: var(--fill-color);\n",
              "    height: 32px;\n",
              "    padding: 0;\n",
              "    width: 32px;\n",
              "  }\n",
              "\n",
              "  .colab-df-quickchart:hover {\n",
              "    background-color: var(--hover-bg-color);\n",
              "    box-shadow: 0 1px 2px rgba(60, 64, 67, 0.3), 0 1px 3px 1px rgba(60, 64, 67, 0.15);\n",
              "    fill: var(--button-hover-fill-color);\n",
              "  }\n",
              "\n",
              "  .colab-df-quickchart-complete:disabled,\n",
              "  .colab-df-quickchart-complete:disabled:hover {\n",
              "    background-color: var(--disabled-bg-color);\n",
              "    fill: var(--disabled-fill-color);\n",
              "    box-shadow: none;\n",
              "  }\n",
              "\n",
              "  .colab-df-spinner {\n",
              "    border: 2px solid var(--fill-color);\n",
              "    border-color: transparent;\n",
              "    border-bottom-color: var(--fill-color);\n",
              "    animation:\n",
              "      spin 1s steps(1) infinite;\n",
              "  }\n",
              "\n",
              "  @keyframes spin {\n",
              "    0% {\n",
              "      border-color: transparent;\n",
              "      border-bottom-color: var(--fill-color);\n",
              "      border-left-color: var(--fill-color);\n",
              "    }\n",
              "    20% {\n",
              "      border-color: transparent;\n",
              "      border-left-color: var(--fill-color);\n",
              "      border-top-color: var(--fill-color);\n",
              "    }\n",
              "    30% {\n",
              "      border-color: transparent;\n",
              "      border-left-color: var(--fill-color);\n",
              "      border-top-color: var(--fill-color);\n",
              "      border-right-color: var(--fill-color);\n",
              "    }\n",
              "    40% {\n",
              "      border-color: transparent;\n",
              "      border-right-color: var(--fill-color);\n",
              "      border-top-color: var(--fill-color);\n",
              "    }\n",
              "    60% {\n",
              "      border-color: transparent;\n",
              "      border-right-color: var(--fill-color);\n",
              "    }\n",
              "    80% {\n",
              "      border-color: transparent;\n",
              "      border-right-color: var(--fill-color);\n",
              "      border-bottom-color: var(--fill-color);\n",
              "    }\n",
              "    90% {\n",
              "      border-color: transparent;\n",
              "      border-bottom-color: var(--fill-color);\n",
              "    }\n",
              "  }\n",
              "</style>\n",
              "\n",
              "  <script>\n",
              "    async function quickchart(key) {\n",
              "      const quickchartButtonEl =\n",
              "        document.querySelector('#' + key + ' button');\n",
              "      quickchartButtonEl.disabled = true;  // To prevent multiple clicks.\n",
              "      quickchartButtonEl.classList.add('colab-df-spinner');\n",
              "      try {\n",
              "        const charts = await google.colab.kernel.invokeFunction(\n",
              "            'suggestCharts', [key], {});\n",
              "      } catch (error) {\n",
              "        console.error('Error during call to suggestCharts:', error);\n",
              "      }\n",
              "      quickchartButtonEl.classList.remove('colab-df-spinner');\n",
              "      quickchartButtonEl.classList.add('colab-df-quickchart-complete');\n",
              "    }\n",
              "    (() => {\n",
              "      let quickchartButtonEl =\n",
              "        document.querySelector('#df-724a7dee-42ba-4198-88a7-4a36eb42608d button');\n",
              "      quickchartButtonEl.style.display =\n",
              "        google.colab.kernel.accessAllowed ? 'block' : 'none';\n",
              "    })();\n",
              "  </script>\n",
              "</div>\n",
              "    </div>\n",
              "  </div>\n"
            ],
            "application/vnd.google.colaboratory.intrinsic+json": {
              "type": "dataframe",
              "summary": "{\n  \"name\": \"data\",\n  \"rows\": 10,\n  \"fields\": [\n    {\n      \"column\": \"IS_CORRECT\",\n      \"properties\": {\n        \"dtype\": \"number\",\n        \"std\": 0,\n        \"min\": 0,\n        \"max\": 1,\n        \"num_unique_values\": 2,\n        \"samples\": [\n          0,\n          1\n        ],\n        \"semantic_type\": \"\",\n        \"description\": \"\"\n      }\n    },\n    {\n      \"column\": \"Duration\",\n      \"properties\": {\n        \"dtype\": \"number\",\n        \"std\": 55,\n        \"min\": 13,\n        \"max\": 166,\n        \"num_unique_values\": 10,\n        \"samples\": [\n          91,\n          166\n        ],\n        \"semantic_type\": \"\",\n        \"description\": \"\"\n      }\n    },\n    {\n      \"column\": \"Exp_Gained\",\n      \"properties\": {\n        \"dtype\": \"number\",\n        \"std\": 17,\n        \"min\": 1,\n        \"max\": 48,\n        \"num_unique_values\": 8,\n        \"samples\": [\n          22,\n          6\n        ],\n        \"semantic_type\": \"\",\n        \"description\": \"\"\n      }\n    }\n  ]\n}"
            }
          },
          "metadata": {},
          "execution_count": 5
        }
      ]
    },
    {
      "cell_type": "code",
      "source": [
        "#Mengecek jumlah kolom dan baris dari data.\n",
        "data.shape"
      ],
      "metadata": {
        "colab": {
          "base_uri": "https://localhost:8080/"
        },
        "id": "Xck5o4vYCJki",
        "outputId": "0d5e4848-4d09-4054-ac57-8d9475a8bc4c"
      },
      "execution_count": 6,
      "outputs": [
        {
          "output_type": "execute_result",
          "data": {
            "text/plain": [
              "(1010, 3)"
            ]
          },
          "metadata": {},
          "execution_count": 6
        }
      ]
    },
    {
      "cell_type": "code",
      "source": [
        "data.info()"
      ],
      "metadata": {
        "colab": {
          "base_uri": "https://localhost:8080/"
        },
        "id": "3vBMrhXrCPI7",
        "outputId": "343dcc1c-9d49-477a-8ea3-8e5f0acf8a90"
      },
      "execution_count": 7,
      "outputs": [
        {
          "output_type": "stream",
          "name": "stdout",
          "text": [
            "<class 'pandas.core.frame.DataFrame'>\n",
            "RangeIndex: 1010 entries, 0 to 1009\n",
            "Data columns (total 3 columns):\n",
            " #   Column      Non-Null Count  Dtype\n",
            "---  ------      --------------  -----\n",
            " 0   IS_CORRECT  1010 non-null   int64\n",
            " 1   Duration    1010 non-null   int64\n",
            " 2   Exp_Gained  1010 non-null   int64\n",
            "dtypes: int64(3)\n",
            "memory usage: 23.8 KB\n"
          ]
        }
      ]
    },
    {
      "cell_type": "code",
      "source": [
        "#Mencari dan menangani missing values. Null\n",
        "data.isnull().sum()"
      ],
      "metadata": {
        "colab": {
          "base_uri": "https://localhost:8080/"
        },
        "id": "j6aoue2gCYUQ",
        "outputId": "5bbfb8c7-2c68-4b6f-dfc0-118b0f7a58de"
      },
      "execution_count": 8,
      "outputs": [
        {
          "output_type": "execute_result",
          "data": {
            "text/plain": [
              "IS_CORRECT    0\n",
              "Duration      0\n",
              "Exp_Gained    0\n",
              "dtype: int64"
            ]
          },
          "metadata": {},
          "execution_count": 8
        }
      ]
    },
    {
      "cell_type": "code",
      "source": [
        "#Mengetahui nilai korelasi dari independent variable dan dependent variable.\n",
        "data.corr().style.background_gradient().format(\"{:.2f}\")"
      ],
      "metadata": {
        "colab": {
          "base_uri": "https://localhost:8080/",
          "height": 143
        },
        "id": "3l6fI51NDU1q",
        "outputId": "fde338c8-51f6-439a-d623-ba84be4b0703"
      },
      "execution_count": 9,
      "outputs": [
        {
          "output_type": "execute_result",
          "data": {
            "text/plain": [
              "<pandas.io.formats.style.Styler at 0x7b5364173100>"
            ],
            "text/html": [
              "<style type=\"text/css\">\n",
              "#T_6a61f_row0_col0, #T_6a61f_row1_col1, #T_6a61f_row2_col2 {\n",
              "  background-color: #023858;\n",
              "  color: #f1f1f1;\n",
              "}\n",
              "#T_6a61f_row0_col1 {\n",
              "  background-color: #e0deed;\n",
              "  color: #000000;\n",
              "}\n",
              "#T_6a61f_row0_col2 {\n",
              "  background-color: #03466e;\n",
              "  color: #f1f1f1;\n",
              "}\n",
              "#T_6a61f_row1_col0, #T_6a61f_row1_col2, #T_6a61f_row2_col1 {\n",
              "  background-color: #fff7fb;\n",
              "  color: #000000;\n",
              "}\n",
              "#T_6a61f_row2_col0 {\n",
              "  background-color: #034871;\n",
              "  color: #f1f1f1;\n",
              "}\n",
              "</style>\n",
              "<table id=\"T_6a61f\" class=\"dataframe\">\n",
              "  <thead>\n",
              "    <tr>\n",
              "      <th class=\"blank level0\" >&nbsp;</th>\n",
              "      <th id=\"T_6a61f_level0_col0\" class=\"col_heading level0 col0\" >IS_CORRECT</th>\n",
              "      <th id=\"T_6a61f_level0_col1\" class=\"col_heading level0 col1\" >Duration</th>\n",
              "      <th id=\"T_6a61f_level0_col2\" class=\"col_heading level0 col2\" >Exp_Gained</th>\n",
              "    </tr>\n",
              "  </thead>\n",
              "  <tbody>\n",
              "    <tr>\n",
              "      <th id=\"T_6a61f_level0_row0\" class=\"row_heading level0 row0\" >IS_CORRECT</th>\n",
              "      <td id=\"T_6a61f_row0_col0\" class=\"data row0 col0\" >1.00</td>\n",
              "      <td id=\"T_6a61f_row0_col1\" class=\"data row0 col1\" >-0.04</td>\n",
              "      <td id=\"T_6a61f_row0_col2\" class=\"data row0 col2\" >0.94</td>\n",
              "    </tr>\n",
              "    <tr>\n",
              "      <th id=\"T_6a61f_level0_row1\" class=\"row_heading level0 row1\" >Duration</th>\n",
              "      <td id=\"T_6a61f_row1_col0\" class=\"data row1 col0\" >-0.04</td>\n",
              "      <td id=\"T_6a61f_row1_col1\" class=\"data row1 col1\" >1.00</td>\n",
              "      <td id=\"T_6a61f_row1_col2\" class=\"data row1 col2\" >-0.27</td>\n",
              "    </tr>\n",
              "    <tr>\n",
              "      <th id=\"T_6a61f_level0_row2\" class=\"row_heading level0 row2\" >Exp_Gained</th>\n",
              "      <td id=\"T_6a61f_row2_col0\" class=\"data row2 col0\" >0.94</td>\n",
              "      <td id=\"T_6a61f_row2_col1\" class=\"data row2 col1\" >-0.27</td>\n",
              "      <td id=\"T_6a61f_row2_col2\" class=\"data row2 col2\" >1.00</td>\n",
              "    </tr>\n",
              "  </tbody>\n",
              "</table>\n"
            ]
          },
          "metadata": {},
          "execution_count": 9
        }
      ]
    },
    {
      "cell_type": "code",
      "source": [
        "# Memisahkan fitur (X) dan target (y)\n",
        "X = data[['IS_CORRECT', 'Duration']]\n",
        "y = data['Exp_Gained']"
      ],
      "metadata": {
        "id": "K9W-F8DwJUtR"
      },
      "execution_count": 10,
      "outputs": []
    },
    {
      "cell_type": "code",
      "source": [
        "# Memisahkan data menjadi training dan testing set\n",
        "X_train, X_test, y_train, y_test = train_test_split(X, y, test_size=0.3, random_state=42)"
      ],
      "metadata": {
        "id": "PB4vwSSRJd7N"
      },
      "execution_count": 11,
      "outputs": []
    },
    {
      "cell_type": "code",
      "source": [
        "# Jumlah fitur\n",
        "n_features = X.shape[1]\n",
        "print(n_features)"
      ],
      "metadata": {
        "id": "idxn1I3ulvrG",
        "colab": {
          "base_uri": "https://localhost:8080/"
        },
        "outputId": "f2c865ab-b50d-4650-d194-628294c79eb4"
      },
      "execution_count": 12,
      "outputs": [
        {
          "output_type": "stream",
          "name": "stdout",
          "text": [
            "2\n"
          ]
        }
      ]
    },
    {
      "cell_type": "markdown",
      "source": [
        "#Using TensorFlow"
      ],
      "metadata": {
        "id": "JVxqocD-PWKa"
      }
    },
    {
      "cell_type": "code",
      "source": [
        "# Definisikan model TensorFlow menggunakan deep neural network\n",
        "model = tf.keras.Sequential([\n",
        "    tf.keras.layers.InputLayer(input_shape=(n_features,)),\n",
        "    tf.keras.layers.Dense(10, activation='relu'),\n",
        "    tf.keras.layers.Dense(10, activation='relu'),\n",
        "    tf.keras.layers.Dense(1)\n",
        "])"
      ],
      "metadata": {
        "id": "RfFWTEc1M03L"
      },
      "execution_count": 13,
      "outputs": []
    },
    {
      "cell_type": "code",
      "source": [
        "# Mengompilasi model\n",
        "optimizer = tf.keras.optimizers.Adam(0.01)\n",
        "model.compile(loss='mean_squared_error',optimizer=optimizer, metrics=['mae'])"
      ],
      "metadata": {
        "id": "CNOi8hc2OW2x"
      },
      "execution_count": 14,
      "outputs": []
    },
    {
      "cell_type": "code",
      "source": [
        "# Melatih model\n",
        "history = model.fit(X_train, y_train, epochs=50, verbose=1)"
      ],
      "metadata": {
        "id": "JJyUjtRuOY0U",
        "colab": {
          "base_uri": "https://localhost:8080/"
        },
        "outputId": "562f8e31-2c82-4bfe-cd83-b6cfdfe94460"
      },
      "execution_count": 15,
      "outputs": [
        {
          "output_type": "stream",
          "name": "stdout",
          "text": [
            "Epoch 1/50\n",
            "23/23 [==============================] - 3s 8ms/step - loss: 1075.2668 - mae: 26.5862\n",
            "Epoch 2/50\n",
            "23/23 [==============================] - 0s 5ms/step - loss: 530.1416 - mae: 18.3556\n",
            "Epoch 3/50\n",
            "23/23 [==============================] - 0s 5ms/step - loss: 501.5817 - mae: 18.2251\n",
            "Epoch 4/50\n",
            "23/23 [==============================] - 0s 8ms/step - loss: 490.4616 - mae: 17.9721\n",
            "Epoch 5/50\n",
            "23/23 [==============================] - 0s 9ms/step - loss: 478.4035 - mae: 17.6704\n",
            "Epoch 6/50\n",
            "23/23 [==============================] - 0s 6ms/step - loss: 463.4081 - mae: 17.4672\n",
            "Epoch 7/50\n",
            "23/23 [==============================] - 0s 3ms/step - loss: 442.7052 - mae: 17.2967\n",
            "Epoch 8/50\n",
            "23/23 [==============================] - 0s 2ms/step - loss: 415.0855 - mae: 16.6973\n",
            "Epoch 9/50\n",
            "23/23 [==============================] - 0s 2ms/step - loss: 382.7433 - mae: 16.1973\n",
            "Epoch 10/50\n",
            "23/23 [==============================] - 0s 2ms/step - loss: 356.5661 - mae: 15.5203\n",
            "Epoch 11/50\n",
            "23/23 [==============================] - 0s 2ms/step - loss: 273.3741 - mae: 13.7391\n",
            "Epoch 12/50\n",
            "23/23 [==============================] - 0s 3ms/step - loss: 195.2264 - mae: 11.6751\n",
            "Epoch 13/50\n",
            "23/23 [==============================] - 0s 2ms/step - loss: 112.2113 - mae: 8.9874\n",
            "Epoch 14/50\n",
            "23/23 [==============================] - 0s 2ms/step - loss: 56.6364 - mae: 6.3639\n",
            "Epoch 15/50\n",
            "23/23 [==============================] - 0s 2ms/step - loss: 40.2441 - mae: 5.1691\n",
            "Epoch 16/50\n",
            "23/23 [==============================] - 0s 2ms/step - loss: 28.2184 - mae: 3.7787\n",
            "Epoch 17/50\n",
            "23/23 [==============================] - 0s 2ms/step - loss: 23.2205 - mae: 3.4271\n",
            "Epoch 18/50\n",
            "23/23 [==============================] - 0s 2ms/step - loss: 21.5899 - mae: 3.3443\n",
            "Epoch 19/50\n",
            "23/23 [==============================] - 0s 2ms/step - loss: 20.0754 - mae: 3.2972\n",
            "Epoch 20/50\n",
            "23/23 [==============================] - 0s 2ms/step - loss: 20.1943 - mae: 3.2950\n",
            "Epoch 21/50\n",
            "23/23 [==============================] - 0s 2ms/step - loss: 16.4441 - mae: 2.9136\n",
            "Epoch 22/50\n",
            "23/23 [==============================] - 0s 3ms/step - loss: 14.9282 - mae: 2.7039\n",
            "Epoch 23/50\n",
            "23/23 [==============================] - 0s 2ms/step - loss: 15.2496 - mae: 2.7883\n",
            "Epoch 24/50\n",
            "23/23 [==============================] - 0s 2ms/step - loss: 14.9300 - mae: 2.8707\n",
            "Epoch 25/50\n",
            "23/23 [==============================] - 0s 2ms/step - loss: 15.7252 - mae: 2.9427\n",
            "Epoch 26/50\n",
            "23/23 [==============================] - 0s 2ms/step - loss: 14.2243 - mae: 2.6595\n",
            "Epoch 27/50\n",
            "23/23 [==============================] - 0s 2ms/step - loss: 14.9073 - mae: 2.8212\n",
            "Epoch 28/50\n",
            "23/23 [==============================] - 0s 2ms/step - loss: 13.2792 - mae: 2.6347\n",
            "Epoch 29/50\n",
            "23/23 [==============================] - 0s 3ms/step - loss: 13.3006 - mae: 2.6807\n",
            "Epoch 30/50\n",
            "23/23 [==============================] - 0s 3ms/step - loss: 12.2649 - mae: 2.4510\n",
            "Epoch 31/50\n",
            "23/23 [==============================] - 0s 3ms/step - loss: 11.9649 - mae: 2.4483\n",
            "Epoch 32/50\n",
            "23/23 [==============================] - 0s 2ms/step - loss: 11.6473 - mae: 2.3712\n",
            "Epoch 33/50\n",
            "23/23 [==============================] - 0s 3ms/step - loss: 12.1635 - mae: 2.5218\n",
            "Epoch 34/50\n",
            "23/23 [==============================] - 0s 3ms/step - loss: 13.5692 - mae: 2.7031\n",
            "Epoch 35/50\n",
            "23/23 [==============================] - 0s 3ms/step - loss: 12.0734 - mae: 2.4389\n",
            "Epoch 36/50\n",
            "23/23 [==============================] - 0s 3ms/step - loss: 12.3646 - mae: 2.5276\n",
            "Epoch 37/50\n",
            "23/23 [==============================] - 0s 3ms/step - loss: 12.7189 - mae: 2.5287\n",
            "Epoch 38/50\n",
            "23/23 [==============================] - 0s 2ms/step - loss: 14.4986 - mae: 2.8685\n",
            "Epoch 39/50\n",
            "23/23 [==============================] - 0s 2ms/step - loss: 13.8462 - mae: 2.7683\n",
            "Epoch 40/50\n",
            "23/23 [==============================] - 0s 2ms/step - loss: 11.8066 - mae: 2.4359\n",
            "Epoch 41/50\n",
            "23/23 [==============================] - 0s 2ms/step - loss: 11.6964 - mae: 2.4021\n",
            "Epoch 42/50\n",
            "23/23 [==============================] - 0s 2ms/step - loss: 12.3370 - mae: 2.5651\n",
            "Epoch 43/50\n",
            "23/23 [==============================] - 0s 2ms/step - loss: 11.4240 - mae: 2.4024\n",
            "Epoch 44/50\n",
            "23/23 [==============================] - 0s 2ms/step - loss: 11.7746 - mae: 2.4701\n",
            "Epoch 45/50\n",
            "23/23 [==============================] - 0s 2ms/step - loss: 11.0004 - mae: 2.3467\n",
            "Epoch 46/50\n",
            "23/23 [==============================] - 0s 2ms/step - loss: 11.3522 - mae: 2.3848\n",
            "Epoch 47/50\n",
            "23/23 [==============================] - 0s 2ms/step - loss: 13.1055 - mae: 2.7242\n",
            "Epoch 48/50\n",
            "23/23 [==============================] - 0s 2ms/step - loss: 12.5797 - mae: 2.6512\n",
            "Epoch 49/50\n",
            "23/23 [==============================] - 0s 2ms/step - loss: 13.5838 - mae: 2.8195\n",
            "Epoch 50/50\n",
            "23/23 [==============================] - 0s 2ms/step - loss: 19.2650 - mae: 3.3248\n"
          ]
        }
      ]
    },
    {
      "cell_type": "code",
      "source": [
        "print('The MSE value is: ', model.evaluate(X_test, y_test))"
      ],
      "metadata": {
        "colab": {
          "base_uri": "https://localhost:8080/"
        },
        "id": "tvRmGzbfleWu",
        "outputId": "4038b20b-7692-478c-a582-2d562f10a43f"
      },
      "execution_count": 16,
      "outputs": [
        {
          "output_type": "stream",
          "name": "stdout",
          "text": [
            "10/10 [==============================] - 0s 2ms/step - loss: 14.5663 - mae: 3.0701\n",
            "The MSE value is:  [14.56631088256836, 3.0700907707214355]\n"
          ]
        }
      ]
    },
    {
      "cell_type": "code",
      "source": [
        "# Prediksi pada data test\n",
        "y_pred = model.predict(X_test)"
      ],
      "metadata": {
        "colab": {
          "base_uri": "https://localhost:8080/"
        },
        "id": "grEYN8OrtgOb",
        "outputId": "85beb2c4-510f-4c0f-9568-205cf99a4ac4"
      },
      "execution_count": 17,
      "outputs": [
        {
          "output_type": "stream",
          "name": "stdout",
          "text": [
            "10/10 [==============================] - 0s 2ms/step\n"
          ]
        }
      ]
    },
    {
      "cell_type": "code",
      "source": [
        "# Menghitung Mean Absolute Error (MAE)\n",
        "mae = mean_absolute_error(y_test, y_pred)\n",
        "print(f\"Mean Absolute Error (MAE): {mae}\")"
      ],
      "metadata": {
        "colab": {
          "base_uri": "https://localhost:8080/"
        },
        "id": "kjKi70TatklJ",
        "outputId": "7f646347-9ef9-4135-e701-65709d4fbb31"
      },
      "execution_count": 18,
      "outputs": [
        {
          "output_type": "stream",
          "name": "stdout",
          "text": [
            "Mean Absolute Error (MAE): 3.0700907785900355\n"
          ]
        }
      ]
    },
    {
      "cell_type": "code",
      "source": [
        "# Menghitung Mean Squared Error (MSE)\n",
        "mse = mean_squared_error(y_test, y_pred)\n",
        "print(f\"Mean Squared Error (MSE): {mse}\")"
      ],
      "metadata": {
        "colab": {
          "base_uri": "https://localhost:8080/"
        },
        "id": "ARwGO8WAtoy-",
        "outputId": "7932fee1-925e-4e25-cdbe-ea674baa6f1e"
      },
      "execution_count": 19,
      "outputs": [
        {
          "output_type": "stream",
          "name": "stdout",
          "text": [
            "Mean Squared Error (MSE): 14.566310581417707\n"
          ]
        }
      ]
    },
    {
      "cell_type": "code",
      "source": [
        "# Menghitung R² Score\n",
        "r2 = r2_score(y_test, y_pred)\n",
        "print(f\"R² Score: {r2}\")"
      ],
      "metadata": {
        "colab": {
          "base_uri": "https://localhost:8080/"
        },
        "id": "-mILidO9tqb7",
        "outputId": "a4159790-189e-452c-ecb9-0507479bb716"
      },
      "execution_count": 20,
      "outputs": [
        {
          "output_type": "stream",
          "name": "stdout",
          "text": [
            "R² Score: 0.9506697719911233\n"
          ]
        }
      ]
    },
    {
      "cell_type": "code",
      "source": [
        "# Membuat data untuk prediksi 10 data secara manual\n",
        "input_data = pd.DataFrame([\n",
        "    [0, 5],\n",
        "    [1, 10],\n",
        "    [0, 40],\n",
        "    [1, 100],\n",
        "    [1, 100],\n",
        "    [1, 20],\n",
        "    [1, 16],\n",
        "    [1, 17],\n",
        "    [0, 300],\n",
        "    [1, 40]\n",
        "], columns=['IS_CORRECT', 'Duration'])\n",
        "\n",
        "predictions = model.predict(input_data)"
      ],
      "metadata": {
        "id": "Bm5s0HcQOlMi",
        "colab": {
          "base_uri": "https://localhost:8080/"
        },
        "outputId": "bd11584f-457c-44e5-d5cc-765103f20a0b"
      },
      "execution_count": 26,
      "outputs": [
        {
          "output_type": "stream",
          "name": "stdout",
          "text": [
            "1/1 [==============================] - 0s 119ms/step\n"
          ]
        }
      ]
    },
    {
      "cell_type": "code",
      "source": [
        "# Menampilkan hasil prediksi\n",
        "print(\"Data untuk prediksi:\\n\", input_data)\n",
        "print(\"Hasil prediksi:\\n\", predictions.flatten())"
      ],
      "metadata": {
        "colab": {
          "base_uri": "https://localhost:8080/"
        },
        "id": "eL40Ap8LOsZo",
        "outputId": "90453768-a1df-402a-bc05-286f60d68ec2"
      },
      "execution_count": 27,
      "outputs": [
        {
          "output_type": "stream",
          "name": "stdout",
          "text": [
            "Data untuk prediksi:\n",
            "    IS_CORRECT  Duration\n",
            "0           0         5\n",
            "1           1        10\n",
            "2           0        40\n",
            "3           1       100\n",
            "4           1       100\n",
            "5           1        20\n",
            "6           1        16\n",
            "7           1        17\n",
            "8           0       300\n",
            "9           1        40\n",
            "Hasil prediksi:\n",
            " [12.57623  49.231056  8.038111 38.347923 38.347923 49.219566 47.933083\n",
            " 47.471783  3.257436 46.501656]\n"
          ]
        }
      ]
    },
    {
      "cell_type": "code",
      "source": [
        "# Menghitung dan menampilkan jumlah dari prediksi yang diberikan\n",
        "total_predictions = np.sum(predictions)\n",
        "print(\"Jumlah dari hasil prediksi: \", total_predictions)"
      ],
      "metadata": {
        "colab": {
          "base_uri": "https://localhost:8080/"
        },
        "id": "zcOPdtC1Ozyn",
        "outputId": "0c70299a-98f4-4fc9-de9b-75586b04dbcf"
      },
      "execution_count": 23,
      "outputs": [
        {
          "output_type": "stream",
          "name": "stdout",
          "text": [
            "Jumlah dari hasil prediksi:  340.73578\n"
          ]
        }
      ]
    },
    {
      "cell_type": "code",
      "source": [
        "# Mengecek jumlah keseluruhan durasi dari data input (tidak boleh lebih dari 900 detik atau 15 menit)\n",
        "total_duration = input_data['Duration'].sum()\n",
        "print(\"Jumlah keseluruhan durasi: \", total_duration)"
      ],
      "metadata": {
        "colab": {
          "base_uri": "https://localhost:8080/"
        },
        "id": "EsX06yUjO3gY",
        "outputId": "e4332b43-1e60-4231-e8a2-866a7e2013ec"
      },
      "execution_count": 24,
      "outputs": [
        {
          "output_type": "stream",
          "name": "stdout",
          "text": [
            "Jumlah keseluruhan durasi:  612\n"
          ]
        }
      ]
    },
    {
      "cell_type": "code",
      "source": [
        "# Menyimpan model dalam bentuk JSON\n",
        "# model_json = model.to_json()\n",
        "# with open('model.json', 'w') as json_file:\n",
        "#     json.dump(model_json, json_file)\n",
        "# print(\"Model has been saved to model.json\")"
      ],
      "metadata": {
        "colab": {
          "base_uri": "https://localhost:8080/"
        },
        "id": "XpjBKtuSsD5J",
        "outputId": "aff4f97b-3b32-4f7f-92c4-a08b60d64c29"
      },
      "execution_count": 30,
      "outputs": [
        {
          "output_type": "stream",
          "name": "stdout",
          "text": [
            "Model has been saved to model.json\n"
          ]
        }
      ]
    },
    {
      "cell_type": "code",
      "source": [
        "# Saving model in .h5 format\n",
        "model.save(\"model_exp_prediction.h5\")"
      ],
      "metadata": {
        "id": "uq36B7TcPtay",
        "colab": {
          "base_uri": "https://localhost:8080/"
        },
        "outputId": "ca542ea1-8f1c-4626-f45e-6ff841ddd530"
      },
      "execution_count": 31,
      "outputs": [
        {
          "output_type": "stream",
          "name": "stderr",
          "text": [
            "/usr/local/lib/python3.10/dist-packages/keras/src/engine/training.py:3103: UserWarning: You are saving your model as an HDF5 file via `model.save()`. This file format is considered legacy. We recommend using instead the native Keras format, e.g. `model.save('my_model.keras')`.\n",
            "  saving_api.save_model(\n"
          ]
        }
      ]
    }
  ]
}