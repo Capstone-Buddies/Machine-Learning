{
  "cells": [
    {
      "cell_type": "code",
      "execution_count": null,
      "metadata": {
        "id": "Rlv8HuGxHxRA"
      },
      "outputs": [],
      "source": [
        "import pandas as pd\n",
        "import numpy as np\n",
        "import tensorflow as tf\n",
        "from sklearn.model_selection import train_test_split"
      ]
    },
    {
      "cell_type": "code",
      "source": [
        "link_tps = 'https://raw.githubusercontent.com/Capstone-Buddies/Machine-Learning/main/Dataset/SNBT%20Datasets%20-%20TPS.csv'"
      ],
      "metadata": {
        "id": "H43lx47yf9mY"
      },
      "execution_count": null,
      "outputs": []
    },
    {
      "cell_type": "code",
      "source": [
        "link_answer_history_tps = 'https://raw.githubusercontent.com/Capstone-Buddies/Machine-Learning/main/Dataset/SNBT%20Datasets%20-%20Answer_History_TPS.csv'"
      ],
      "metadata": {
        "id": "wsNSm8lniDx1"
      },
      "execution_count": null,
      "outputs": []
    },
    {
      "cell_type": "markdown",
      "metadata": {
        "id": "ogzJdn8rTbdj"
      },
      "source": [
        "#Load User Answer History TPS Question"
      ]
    },
    {
      "cell_type": "code",
      "execution_count": null,
      "metadata": {
        "colab": {
          "base_uri": "https://localhost:8080/",
          "height": 423
        },
        "id": "yin0-YDJIGjV",
        "outputId": "847d8c47-3389-4eca-e45d-038ba7b54296"
      },
      "outputs": [
        {
          "output_type": "execute_result",
          "data": {
            "text/plain": [
              "     ID_USER  ID_QUESTION Question_Category  \\\n",
              "0          1           59                PU   \n",
              "1          1          481                PK   \n",
              "2          1           66                PU   \n",
              "3          1           51                PU   \n",
              "4          1          348               PPU   \n",
              "..       ...          ...               ...   \n",
              "355       35          149                PU   \n",
              "356       35          291               PPU   \n",
              "357       35          309               PPU   \n",
              "358       35          484                PK   \n",
              "359       35          203               PBM   \n",
              "\n",
              "                                  Question_Description  USER_ANSWER  \\\n",
              "0    1, 0, 8, 3, 3, 7, 5, 6, 6, 7, 9, 5, 9, 12, x, ...            0   \n",
              "1    Seorang mahasiswa mendapat nilai untuk keempat...            0   \n",
              "2    Menjelang liburan sekolah, Budi berencana meng...            2   \n",
              "3    Pajak merupakan pungutan wajib yang dibebankan...            2   \n",
              "4    Menurut Sari (2012:34), stand up comedy adalah...            2   \n",
              "..                                                 ...          ...   \n",
              "355  Pada sebuah pertemuan yang terdiri atas para k...            2   \n",
              "356  (1) Perkembangan dunia Ilmu Pengetahuan dan Te...            0   \n",
              "357  (1) Kemajuan teknologi tidak dapat dipisahkan ...            0   \n",
              "358  Apabila x adalah luas bujur-sangkar yang panja...            2   \n",
              "359  (1) Di tengah masa pendaftararan pasangan capr...            1   \n",
              "\n",
              "     CORRECT_ANSWER  Duration  \n",
              "0                 0        76  \n",
              "1                 1       113  \n",
              "2                 3        55  \n",
              "3                 1        71  \n",
              "4                 3        53  \n",
              "..              ...       ...  \n",
              "355               0        27  \n",
              "356               2       118  \n",
              "357               0        18  \n",
              "358               0        96  \n",
              "359               3        16  \n",
              "\n",
              "[360 rows x 7 columns]"
            ],
            "text/html": [
              "\n",
              "  <div id=\"df-ebd6c69d-45ba-469f-909b-9dc403477613\" class=\"colab-df-container\">\n",
              "    <div>\n",
              "<style scoped>\n",
              "    .dataframe tbody tr th:only-of-type {\n",
              "        vertical-align: middle;\n",
              "    }\n",
              "\n",
              "    .dataframe tbody tr th {\n",
              "        vertical-align: top;\n",
              "    }\n",
              "\n",
              "    .dataframe thead th {\n",
              "        text-align: right;\n",
              "    }\n",
              "</style>\n",
              "<table border=\"1\" class=\"dataframe\">\n",
              "  <thead>\n",
              "    <tr style=\"text-align: right;\">\n",
              "      <th></th>\n",
              "      <th>ID_USER</th>\n",
              "      <th>ID_QUESTION</th>\n",
              "      <th>Question_Category</th>\n",
              "      <th>Question_Description</th>\n",
              "      <th>USER_ANSWER</th>\n",
              "      <th>CORRECT_ANSWER</th>\n",
              "      <th>Duration</th>\n",
              "    </tr>\n",
              "  </thead>\n",
              "  <tbody>\n",
              "    <tr>\n",
              "      <th>0</th>\n",
              "      <td>1</td>\n",
              "      <td>59</td>\n",
              "      <td>PU</td>\n",
              "      <td>1, 0, 8, 3, 3, 7, 5, 6, 6, 7, 9, 5, 9, 12, x, ...</td>\n",
              "      <td>0</td>\n",
              "      <td>0</td>\n",
              "      <td>76</td>\n",
              "    </tr>\n",
              "    <tr>\n",
              "      <th>1</th>\n",
              "      <td>1</td>\n",
              "      <td>481</td>\n",
              "      <td>PK</td>\n",
              "      <td>Seorang mahasiswa mendapat nilai untuk keempat...</td>\n",
              "      <td>0</td>\n",
              "      <td>1</td>\n",
              "      <td>113</td>\n",
              "    </tr>\n",
              "    <tr>\n",
              "      <th>2</th>\n",
              "      <td>1</td>\n",
              "      <td>66</td>\n",
              "      <td>PU</td>\n",
              "      <td>Menjelang liburan sekolah, Budi berencana meng...</td>\n",
              "      <td>2</td>\n",
              "      <td>3</td>\n",
              "      <td>55</td>\n",
              "    </tr>\n",
              "    <tr>\n",
              "      <th>3</th>\n",
              "      <td>1</td>\n",
              "      <td>51</td>\n",
              "      <td>PU</td>\n",
              "      <td>Pajak merupakan pungutan wajib yang dibebankan...</td>\n",
              "      <td>2</td>\n",
              "      <td>1</td>\n",
              "      <td>71</td>\n",
              "    </tr>\n",
              "    <tr>\n",
              "      <th>4</th>\n",
              "      <td>1</td>\n",
              "      <td>348</td>\n",
              "      <td>PPU</td>\n",
              "      <td>Menurut Sari (2012:34), stand up comedy adalah...</td>\n",
              "      <td>2</td>\n",
              "      <td>3</td>\n",
              "      <td>53</td>\n",
              "    </tr>\n",
              "    <tr>\n",
              "      <th>...</th>\n",
              "      <td>...</td>\n",
              "      <td>...</td>\n",
              "      <td>...</td>\n",
              "      <td>...</td>\n",
              "      <td>...</td>\n",
              "      <td>...</td>\n",
              "      <td>...</td>\n",
              "    </tr>\n",
              "    <tr>\n",
              "      <th>355</th>\n",
              "      <td>35</td>\n",
              "      <td>149</td>\n",
              "      <td>PU</td>\n",
              "      <td>Pada sebuah pertemuan yang terdiri atas para k...</td>\n",
              "      <td>2</td>\n",
              "      <td>0</td>\n",
              "      <td>27</td>\n",
              "    </tr>\n",
              "    <tr>\n",
              "      <th>356</th>\n",
              "      <td>35</td>\n",
              "      <td>291</td>\n",
              "      <td>PPU</td>\n",
              "      <td>(1) Perkembangan dunia Ilmu Pengetahuan dan Te...</td>\n",
              "      <td>0</td>\n",
              "      <td>2</td>\n",
              "      <td>118</td>\n",
              "    </tr>\n",
              "    <tr>\n",
              "      <th>357</th>\n",
              "      <td>35</td>\n",
              "      <td>309</td>\n",
              "      <td>PPU</td>\n",
              "      <td>(1) Kemajuan teknologi tidak dapat dipisahkan ...</td>\n",
              "      <td>0</td>\n",
              "      <td>0</td>\n",
              "      <td>18</td>\n",
              "    </tr>\n",
              "    <tr>\n",
              "      <th>358</th>\n",
              "      <td>35</td>\n",
              "      <td>484</td>\n",
              "      <td>PK</td>\n",
              "      <td>Apabila x adalah luas bujur-sangkar yang panja...</td>\n",
              "      <td>2</td>\n",
              "      <td>0</td>\n",
              "      <td>96</td>\n",
              "    </tr>\n",
              "    <tr>\n",
              "      <th>359</th>\n",
              "      <td>35</td>\n",
              "      <td>203</td>\n",
              "      <td>PBM</td>\n",
              "      <td>(1) Di tengah masa pendaftararan pasangan capr...</td>\n",
              "      <td>1</td>\n",
              "      <td>3</td>\n",
              "      <td>16</td>\n",
              "    </tr>\n",
              "  </tbody>\n",
              "</table>\n",
              "<p>360 rows × 7 columns</p>\n",
              "</div>\n",
              "    <div class=\"colab-df-buttons\">\n",
              "\n",
              "  <div class=\"colab-df-container\">\n",
              "    <button class=\"colab-df-convert\" onclick=\"convertToInteractive('df-ebd6c69d-45ba-469f-909b-9dc403477613')\"\n",
              "            title=\"Convert this dataframe to an interactive table.\"\n",
              "            style=\"display:none;\">\n",
              "\n",
              "  <svg xmlns=\"http://www.w3.org/2000/svg\" height=\"24px\" viewBox=\"0 -960 960 960\">\n",
              "    <path d=\"M120-120v-720h720v720H120Zm60-500h600v-160H180v160Zm220 220h160v-160H400v160Zm0 220h160v-160H400v160ZM180-400h160v-160H180v160Zm440 0h160v-160H620v160ZM180-180h160v-160H180v160Zm440 0h160v-160H620v160Z\"/>\n",
              "  </svg>\n",
              "    </button>\n",
              "\n",
              "  <style>\n",
              "    .colab-df-container {\n",
              "      display:flex;\n",
              "      gap: 12px;\n",
              "    }\n",
              "\n",
              "    .colab-df-convert {\n",
              "      background-color: #E8F0FE;\n",
              "      border: none;\n",
              "      border-radius: 50%;\n",
              "      cursor: pointer;\n",
              "      display: none;\n",
              "      fill: #1967D2;\n",
              "      height: 32px;\n",
              "      padding: 0 0 0 0;\n",
              "      width: 32px;\n",
              "    }\n",
              "\n",
              "    .colab-df-convert:hover {\n",
              "      background-color: #E2EBFA;\n",
              "      box-shadow: 0px 1px 2px rgba(60, 64, 67, 0.3), 0px 1px 3px 1px rgba(60, 64, 67, 0.15);\n",
              "      fill: #174EA6;\n",
              "    }\n",
              "\n",
              "    .colab-df-buttons div {\n",
              "      margin-bottom: 4px;\n",
              "    }\n",
              "\n",
              "    [theme=dark] .colab-df-convert {\n",
              "      background-color: #3B4455;\n",
              "      fill: #D2E3FC;\n",
              "    }\n",
              "\n",
              "    [theme=dark] .colab-df-convert:hover {\n",
              "      background-color: #434B5C;\n",
              "      box-shadow: 0px 1px 3px 1px rgba(0, 0, 0, 0.15);\n",
              "      filter: drop-shadow(0px 1px 2px rgba(0, 0, 0, 0.3));\n",
              "      fill: #FFFFFF;\n",
              "    }\n",
              "  </style>\n",
              "\n",
              "    <script>\n",
              "      const buttonEl =\n",
              "        document.querySelector('#df-ebd6c69d-45ba-469f-909b-9dc403477613 button.colab-df-convert');\n",
              "      buttonEl.style.display =\n",
              "        google.colab.kernel.accessAllowed ? 'block' : 'none';\n",
              "\n",
              "      async function convertToInteractive(key) {\n",
              "        const element = document.querySelector('#df-ebd6c69d-45ba-469f-909b-9dc403477613');\n",
              "        const dataTable =\n",
              "          await google.colab.kernel.invokeFunction('convertToInteractive',\n",
              "                                                    [key], {});\n",
              "        if (!dataTable) return;\n",
              "\n",
              "        const docLinkHtml = 'Like what you see? Visit the ' +\n",
              "          '<a target=\"_blank\" href=https://colab.research.google.com/notebooks/data_table.ipynb>data table notebook</a>'\n",
              "          + ' to learn more about interactive tables.';\n",
              "        element.innerHTML = '';\n",
              "        dataTable['output_type'] = 'display_data';\n",
              "        await google.colab.output.renderOutput(dataTable, element);\n",
              "        const docLink = document.createElement('div');\n",
              "        docLink.innerHTML = docLinkHtml;\n",
              "        element.appendChild(docLink);\n",
              "      }\n",
              "    </script>\n",
              "  </div>\n",
              "\n",
              "\n",
              "<div id=\"df-9eb2b3cd-a7de-4b15-a0e9-f49cd03e3e76\">\n",
              "  <button class=\"colab-df-quickchart\" onclick=\"quickchart('df-9eb2b3cd-a7de-4b15-a0e9-f49cd03e3e76')\"\n",
              "            title=\"Suggest charts\"\n",
              "            style=\"display:none;\">\n",
              "\n",
              "<svg xmlns=\"http://www.w3.org/2000/svg\" height=\"24px\"viewBox=\"0 0 24 24\"\n",
              "     width=\"24px\">\n",
              "    <g>\n",
              "        <path d=\"M19 3H5c-1.1 0-2 .9-2 2v14c0 1.1.9 2 2 2h14c1.1 0 2-.9 2-2V5c0-1.1-.9-2-2-2zM9 17H7v-7h2v7zm4 0h-2V7h2v10zm4 0h-2v-4h2v4z\"/>\n",
              "    </g>\n",
              "</svg>\n",
              "  </button>\n",
              "\n",
              "<style>\n",
              "  .colab-df-quickchart {\n",
              "      --bg-color: #E8F0FE;\n",
              "      --fill-color: #1967D2;\n",
              "      --hover-bg-color: #E2EBFA;\n",
              "      --hover-fill-color: #174EA6;\n",
              "      --disabled-fill-color: #AAA;\n",
              "      --disabled-bg-color: #DDD;\n",
              "  }\n",
              "\n",
              "  [theme=dark] .colab-df-quickchart {\n",
              "      --bg-color: #3B4455;\n",
              "      --fill-color: #D2E3FC;\n",
              "      --hover-bg-color: #434B5C;\n",
              "      --hover-fill-color: #FFFFFF;\n",
              "      --disabled-bg-color: #3B4455;\n",
              "      --disabled-fill-color: #666;\n",
              "  }\n",
              "\n",
              "  .colab-df-quickchart {\n",
              "    background-color: var(--bg-color);\n",
              "    border: none;\n",
              "    border-radius: 50%;\n",
              "    cursor: pointer;\n",
              "    display: none;\n",
              "    fill: var(--fill-color);\n",
              "    height: 32px;\n",
              "    padding: 0;\n",
              "    width: 32px;\n",
              "  }\n",
              "\n",
              "  .colab-df-quickchart:hover {\n",
              "    background-color: var(--hover-bg-color);\n",
              "    box-shadow: 0 1px 2px rgba(60, 64, 67, 0.3), 0 1px 3px 1px rgba(60, 64, 67, 0.15);\n",
              "    fill: var(--button-hover-fill-color);\n",
              "  }\n",
              "\n",
              "  .colab-df-quickchart-complete:disabled,\n",
              "  .colab-df-quickchart-complete:disabled:hover {\n",
              "    background-color: var(--disabled-bg-color);\n",
              "    fill: var(--disabled-fill-color);\n",
              "    box-shadow: none;\n",
              "  }\n",
              "\n",
              "  .colab-df-spinner {\n",
              "    border: 2px solid var(--fill-color);\n",
              "    border-color: transparent;\n",
              "    border-bottom-color: var(--fill-color);\n",
              "    animation:\n",
              "      spin 1s steps(1) infinite;\n",
              "  }\n",
              "\n",
              "  @keyframes spin {\n",
              "    0% {\n",
              "      border-color: transparent;\n",
              "      border-bottom-color: var(--fill-color);\n",
              "      border-left-color: var(--fill-color);\n",
              "    }\n",
              "    20% {\n",
              "      border-color: transparent;\n",
              "      border-left-color: var(--fill-color);\n",
              "      border-top-color: var(--fill-color);\n",
              "    }\n",
              "    30% {\n",
              "      border-color: transparent;\n",
              "      border-left-color: var(--fill-color);\n",
              "      border-top-color: var(--fill-color);\n",
              "      border-right-color: var(--fill-color);\n",
              "    }\n",
              "    40% {\n",
              "      border-color: transparent;\n",
              "      border-right-color: var(--fill-color);\n",
              "      border-top-color: var(--fill-color);\n",
              "    }\n",
              "    60% {\n",
              "      border-color: transparent;\n",
              "      border-right-color: var(--fill-color);\n",
              "    }\n",
              "    80% {\n",
              "      border-color: transparent;\n",
              "      border-right-color: var(--fill-color);\n",
              "      border-bottom-color: var(--fill-color);\n",
              "    }\n",
              "    90% {\n",
              "      border-color: transparent;\n",
              "      border-bottom-color: var(--fill-color);\n",
              "    }\n",
              "  }\n",
              "</style>\n",
              "\n",
              "  <script>\n",
              "    async function quickchart(key) {\n",
              "      const quickchartButtonEl =\n",
              "        document.querySelector('#' + key + ' button');\n",
              "      quickchartButtonEl.disabled = true;  // To prevent multiple clicks.\n",
              "      quickchartButtonEl.classList.add('colab-df-spinner');\n",
              "      try {\n",
              "        const charts = await google.colab.kernel.invokeFunction(\n",
              "            'suggestCharts', [key], {});\n",
              "      } catch (error) {\n",
              "        console.error('Error during call to suggestCharts:', error);\n",
              "      }\n",
              "      quickchartButtonEl.classList.remove('colab-df-spinner');\n",
              "      quickchartButtonEl.classList.add('colab-df-quickchart-complete');\n",
              "    }\n",
              "    (() => {\n",
              "      let quickchartButtonEl =\n",
              "        document.querySelector('#df-9eb2b3cd-a7de-4b15-a0e9-f49cd03e3e76 button');\n",
              "      quickchartButtonEl.style.display =\n",
              "        google.colab.kernel.accessAllowed ? 'block' : 'none';\n",
              "    })();\n",
              "  </script>\n",
              "</div>\n",
              "    </div>\n",
              "  </div>\n"
            ],
            "application/vnd.google.colaboratory.intrinsic+json": {
              "type": "dataframe",
              "variable_name": "data",
              "summary": "{\n  \"name\": \"data\",\n  \"rows\": 360,\n  \"fields\": [\n    {\n      \"column\": \"ID_USER\",\n      \"properties\": {\n        \"dtype\": \"number\",\n        \"std\": 10,\n        \"min\": 1,\n        \"max\": 35,\n        \"num_unique_values\": 35,\n        \"samples\": [\n          27,\n          14,\n          25\n        ],\n        \"semantic_type\": \"\",\n        \"description\": \"\"\n      }\n    },\n    {\n      \"column\": \"ID_QUESTION\",\n      \"properties\": {\n        \"dtype\": \"number\",\n        \"std\": 170,\n        \"min\": 4,\n        \"max\": 599,\n        \"num_unique_values\": 279,\n        \"samples\": [\n          136,\n          316,\n          419\n        ],\n        \"semantic_type\": \"\",\n        \"description\": \"\"\n      }\n    },\n    {\n      \"column\": \"Question_Category\",\n      \"properties\": {\n        \"dtype\": \"category\",\n        \"num_unique_values\": 4,\n        \"samples\": [\n          \"PK\",\n          \"PBM\",\n          \"PU\"\n        ],\n        \"semantic_type\": \"\",\n        \"description\": \"\"\n      }\n    },\n    {\n      \"column\": \"Question_Description\",\n      \"properties\": {\n        \"dtype\": \"string\",\n        \"num_unique_values\": 279,\n        \"samples\": [\n          \"Loki baru saja mendapatkan hasil dari Ujian Akhir Semester (UAS), yang terdiri dari: Matematika, Sejarah, Ekonomi, Sosiologi, Bahasa Inggris, dan Bahasa Indonesia. Nilai yang diperoleh Loki adalah sebagai berikut:\\n(1) Nilai tertinggi diperoleh pada pelajaran Matematika.\\n(2) Nilai sejarah berada diantara nilai Bahasa Indonesia dan Bahasa Inggris.\\n(3) Nilai ekonomi lebih tinggi dari nilai Bahasa Indonesia dan tidak lebih tinggi dari nilai Sosiologi.\\n(4) Nilai bahasa Indonesia bukan nilai paling rendah.\\n\\nPernyataan yang tidak benar adalah\",\n          \"Anggaran Negara di Dunia Tangani Covid-19\\n\\nPandemi Covid-19 diperkirakan menyebabkan perlambatan ekonomi di sejumlah negara. The Economist Intelligence Unit (EIU) memprediksi perekonomian global akan mengalami pertumbuhan minus hingga 2,2% pada tahun ini. Guna mengantisipasi resesi, sejumlah negara menyiapkan stimulus fiskal untuk mempertahankan perekonomiannya. Indonesia bersiap menggelontorkan Rp436,1 triliun atau 2,5 persen terhadap Produk Domestik Bruto (PDB). Pemerintah menggunakannya untuk program percepatan belanja Anggaran Pendapatan dan Belanja Negara (APBN). Kebijakan yang diterapkan berupa pemberian bantuan sosial dan kartu prakerja serta insentif pajak. Lebih dari setengah anggaran itu dimanfaatkan guna menangani Covid-19.\\n\\n\\u201cKami akan mati-matian mencegah tidak terjadi krisis keuangan yang bisa mengubah penghitungan dengan memperkuat koordinasi, agar defisit bisa lebih kecil,\\u201d ujar Menteri Keuangan Sri Mulyani Indrawati. Singapura, Jerman, Jepang, dan Amerika Serikat juga telah memutuskan untuk menambah anggarannya dalam penanganan Covid-19. Singapura akan memberikan 59,9 miliar dolar Singapura untuk bantuan sosial dan perlindungan pekerja, insentif pajak, jaminan modal UKM, dan bantuan pekerja mandiri. Jerman dan Jepang bersiap mengalokasikan Rp13.125 triliun (10 persen PDB) dan Rp16.308 triliun (20 persen PDB). Jerman menggunakan anggaran tersebut untuk bantuan, pinjaman modal, penangguhan pajak perusahaan, dan subsidi gaji pekerja yang dirumahkan. Jepang menggunakannya untuk bantuan tunai rumah tangga, perlindungan pekerja dan pelaku bisnis, pinjaman sektor keuangan, dan masa tenggang pajak serta asuransi. Adapun Amerika Serikat tak ketinggalan dengan Rp32.800 triliun untuk bantuan tunai dan asuransi pekerja informal, pinjaman usaha, bantuan sektor keuangan, transportasi, dan fiskal negara.\\n\\nSimpulan yang BENAR berdasarkan paragraf 2 adalah \\u2026.\",\n          \"(1)Dalam hal privasi data, aplikasi di ponsel cenderung tidak aman. (2)Oleh karena itu, penting mengamankan data pribadi, terutama jika menyangkut aplikasi yang digunakan. (3)Banyak cara untuk menemukan atau menghapus data yang dapat kita pelajari.\\n\\n(4)Selain itu, kita juga bisa mempelajari cara melindungi privasi data dan meningkatkan keamanan ponsel. (5) Salah satu di antaranya adalah menggunakan pengelola kata sandi.\\n\\n(6)Kata sandi yang terkuat adalah karakter acak. (7)Karakter acak ini terdiri atas serangkaian huruf, angka, dan simbol tanpa urutan tertentu yang cenderung tidak ditemukan dalam kamus, pemecahannya oleh komputer sulit, dan hacker sulit meretas.\\n\\n(8)Kelemahan karakter acak adalah kata sandi yang rumit dan cenderung sulit diingat. (9)Di sinilah aplikasi pengelola kata sandi berguna.\\n\\n(10) Pengelola kata sandi menyimpan semua kata sandi dalam satu aplikasi terenkripsi dan dilindungi oleh kata sandi. (11)Aplikasi pengelola sandi menghasilkan dan mengingat kata sandi dengan kuat. (12) Dengan pengelola kata sandi, setiap akun dapat memiliki kata sandi yang berbeda, rumit, dan sulit diretas.\\n\\nFakta dalam bacaan tersebut terdapat pada ....\"\n        ],\n        \"semantic_type\": \"\",\n        \"description\": \"\"\n      }\n    },\n    {\n      \"column\": \"USER_ANSWER\",\n      \"properties\": {\n        \"dtype\": \"number\",\n        \"std\": 1,\n        \"min\": 0,\n        \"max\": 3,\n        \"num_unique_values\": 4,\n        \"samples\": [\n          2,\n          1,\n          0\n        ],\n        \"semantic_type\": \"\",\n        \"description\": \"\"\n      }\n    },\n    {\n      \"column\": \"CORRECT_ANSWER\",\n      \"properties\": {\n        \"dtype\": \"number\",\n        \"std\": 1,\n        \"min\": 0,\n        \"max\": 3,\n        \"num_unique_values\": 4,\n        \"samples\": [\n          1,\n          2,\n          0\n        ],\n        \"semantic_type\": \"\",\n        \"description\": \"\"\n      }\n    },\n    {\n      \"column\": \"Duration\",\n      \"properties\": {\n        \"dtype\": \"number\",\n        \"std\": 33,\n        \"min\": 10,\n        \"max\": 120,\n        \"num_unique_values\": 109,\n        \"samples\": [\n          79,\n          92,\n          53\n        ],\n        \"semantic_type\": \"\",\n        \"description\": \"\"\n      }\n    }\n  ]\n}"
            }
          },
          "metadata": {},
          "execution_count": 25
        }
      ],
      "source": [
        "data = pd.read_csv(link_answer_history_tps)\n",
        "data"
      ]
    },
    {
      "cell_type": "markdown",
      "metadata": {
        "id": "Z4xxVSMTTNE-"
      },
      "source": [
        "#Load SNBT TPS Question"
      ]
    },
    {
      "cell_type": "code",
      "execution_count": null,
      "metadata": {
        "id": "3bqvpDDfRcQj"
      },
      "outputs": [],
      "source": [
        "tps_question_data = pd.read_csv(link_tps)\n",
        "tps_question_data"
      ]
    },
    {
      "cell_type": "markdown",
      "metadata": {
        "id": "GIUvi2CRTnhS"
      },
      "source": [
        "##Check for null and duplicate values"
      ]
    },
    {
      "cell_type": "code",
      "execution_count": null,
      "metadata": {
        "colab": {
          "base_uri": "https://localhost:8080/"
        },
        "id": "Fc1110csVQrA",
        "outputId": "83c274c9-2838-46b0-c69d-6bcbd4094837"
      },
      "outputs": [
        {
          "output_type": "stream",
          "name": "stdout",
          "text": [
            "Jumlah nilai null di setiap kolom:\n",
            "ID                        0\n",
            "Question_Category         0\n",
            "Questions_Descriptions    0\n",
            "Choice_1                  0\n",
            "Choice_2                  0\n",
            "Choice_3                  0\n",
            "Choice_4                  0\n",
            "Right_Answer              0\n",
            "dtype: int64\n",
            "\n",
            "Baris dengan nilai null:\n",
            "Empty DataFrame\n",
            "Columns: [ID, Question_Category, Questions_Descriptions, Choice_1, Choice_2, Choice_3, Choice_4, Right_Answer]\n",
            "Index: []\n",
            "\n",
            "Jumlah duplikat di kolom 'Questions_Descriptions': 0\n",
            "\n",
            "Baris dengan konten duplikat di kolom 'Questions_Descriptions':\n",
            "Empty DataFrame\n",
            "Columns: [ID, Question_Category, Questions_Descriptions, Choice_1, Choice_2, Choice_3, Choice_4, Right_Answer]\n",
            "Index: []\n"
          ]
        }
      ],
      "source": [
        "# Cek null pada semua kolom\n",
        "null_check = tps_question_data.isnull().sum()\n",
        "print(\"Jumlah nilai null di setiap kolom:\")\n",
        "print(null_check)\n",
        "\n",
        "#Tampilkan baris\n",
        "rows_with_nulls = tps_question_data[tps_question_data.isnull().any(axis=1)]\n",
        "print(\"\\nBaris dengan nilai null:\")\n",
        "print(rows_with_nulls)\n",
        "\n",
        "# Cek duplikat konten untuk kolom 'Question_Descriptions'\n",
        "duplicate_check = tps_question_data['Questions_Descriptions'].duplicated().sum()\n",
        "print(\"\\nJumlah duplikat di kolom 'Questions_Descriptions':\", duplicate_check)\n",
        "\n",
        "# Tampilkan baris yang memiliki konten duplikat di kolom 'Question_Descriptions'\n",
        "duplicate_rows = tps_question_data[tps_question_data['Questions_Descriptions'].duplicated(keep=False)]\n",
        "print(\"\\nBaris dengan konten duplikat di kolom 'Questions_Descriptions':\")\n",
        "print(duplicate_rows)"
      ]
    },
    {
      "cell_type": "markdown",
      "metadata": {
        "id": "gc164ZVVUNk4"
      },
      "source": [
        "#Recommendation System"
      ]
    },
    {
      "cell_type": "code",
      "execution_count": null,
      "metadata": {
        "id": "ZGD6wAefJbFy"
      },
      "outputs": [],
      "source": [
        "# Step 1: Identify incorrect answers\n",
        "data['is_correct'] = data['USER_ANSWER'] == data['CORRECT_ANSWER']"
      ]
    },
    {
      "cell_type": "code",
      "execution_count": null,
      "metadata": {
        "id": "A22u_pS5NVYQ"
      },
      "outputs": [],
      "source": [
        "# Step 2: Aggregate the errors by category for each user\n",
        "user_errors = data[~data['is_correct']].groupby(['ID_USER', 'Question_Category']).size().reset_index(name='errors')"
      ]
    },
    {
      "cell_type": "code",
      "execution_count": null,
      "metadata": {
        "id": "t1jHWa6VOuSD"
      },
      "outputs": [],
      "source": [
        "# Splitting the data into training and testing sets\n",
        "train_data, test_data = train_test_split(data, test_size=0.3, random_state=42)"
      ]
    },
    {
      "cell_type": "code",
      "execution_count": null,
      "metadata": {
        "id": "oJ_-aT2ONY8m"
      },
      "outputs": [],
      "source": [
        "# # Define a function to create recommendations\n",
        "def recommend_next_quiz(user_id, user_errors, total_questions=10, max_category_questions=6):\n",
        "    user_specific_errors = user_errors[user_errors['ID_USER'] == user_id]\n",
        "    if user_specific_errors.empty:\n",
        "        recommended_proportions = {\n",
        "            'PU': total_questions // 4,\n",
        "            'PPU': total_questions // 4,\n",
        "            'PBM': total_questions // 4,\n",
        "            'PK': total_questions // 4\n",
        "        }\n",
        "    else:\n",
        "        total_errors = user_specific_errors['errors'].sum()\n",
        "        recommended_proportions = {}\n",
        "        for _, row in user_specific_errors.iterrows():\n",
        "            category = row['Question_Category']\n",
        "            recommended_proportions[category] = min(max_category_questions, round((row['errors'] / total_errors) * total_questions))\n",
        "\n",
        "        # Calculate remaining questions\n",
        "        assigned_questions = sum(recommended_proportions.values())\n",
        "        remaining_questions = total_questions - assigned_questions\n",
        "\n",
        "        # Distribute remaining questions evenly among all categories\n",
        "        all_categories = ['PU', 'PPU', 'PBM', 'PK']\n",
        "        for category in all_categories:\n",
        "            if category not in recommended_proportions:\n",
        "                recommended_proportions[category] = 0\n",
        "\n",
        "        while remaining_questions > 0:\n",
        "            for category in all_categories:\n",
        "                if remaining_questions > 0:\n",
        "                    recommended_proportions[category] += 1\n",
        "                    remaining_questions -= 1\n",
        "                else:\n",
        "                    break\n",
        "\n",
        "    return recommended_proportions"
      ]
    },
    {
      "cell_type": "code",
      "execution_count": null,
      "metadata": {
        "colab": {
          "base_uri": "https://localhost:8080/"
        },
        "id": "8iUa43MNNekF",
        "outputId": "c6520b36-f43d-40c1-95e5-e8d1c5d6d764"
      },
      "outputs": [
        {
          "output_type": "stream",
          "name": "stdout",
          "text": [
            "Recommendations for User 1: {'PK': 2, 'PPU': 5, 'PU': 3, 'PBM': 0}\n"
          ]
        }
      ],
      "source": [
        "# Example of generating recommendations for a user\n",
        "user_id = 1\n",
        "recommendations = recommend_next_quiz(user_id, user_errors)\n",
        "print(f'Recommendations for User {user_id}: {recommendations}')"
      ]
    },
    {
      "cell_type": "markdown",
      "metadata": {
        "id": "aS21ui06V8Fe"
      },
      "source": [
        "#Get Question Based on Recommendation"
      ]
    },
    {
      "cell_type": "code",
      "execution_count": null,
      "metadata": {
        "id": "057mrviCWCrz"
      },
      "outputs": [],
      "source": [
        "# Function to retrieve questions based on category recommendations\n",
        "def get_recommended_questions(user_id, user_errors, question_data, total_questions=10, max_category_questions=6):\n",
        "    recommendations = recommend_next_quiz(user_id, user_errors, total_questions, max_category_questions)\n",
        "\n",
        "    recommended_questions = []\n",
        "    for category, count in recommendations.items():\n",
        "        category_questions = question_data[question_data['Question_Category'] == category]\n",
        "        selected_questions = category_questions.sample(n=count, random_state=42) if count > 0 else pd.DataFrame()\n",
        "        recommended_questions.append(selected_questions)\n",
        "\n",
        "    return pd.concat(recommended_questions)"
      ]
    },
    {
      "cell_type": "code",
      "execution_count": null,
      "metadata": {
        "colab": {
          "base_uri": "https://localhost:8080/"
        },
        "id": "S9vcEkSUWKp9",
        "outputId": "e3bcd563-559a-4c4b-e035-9576a28d1729"
      },
      "outputs": [
        {
          "output_type": "stream",
          "name": "stdout",
          "text": [
            "Recommended Questions for User 1:\n",
            "      ID Question_Category                             Questions_Descriptions  \\\n",
            "563  564                PK  Diketahui A={9, 7, 6, 5, 4, 3, 2, 1}. Lima ang...   \n",
            "532  533                PK                     Jika p = 2a maka nilai 5p + 5a   \n",
            "360  361               PPU  Minggu-minggu pertama setelah proklamasi adala...   \n",
            "280  281               PPU  Kain adat Ulos, Uis Karo, dan Uis Beka yang di...   \n",
            "295  296               PPU  (1) Saat ini, pelaku UMKM harus melek masalah ...   \n",
            "423  424               PPU  (1)Minum air putih atau air mineral merupakan ...   \n",
            "393  394               PPU  Meskipun angka pecandu narkoba di Indonesia tu...   \n",
            "76    77                PU  (1) Perkembangan teknologi informasi (TI) saat...   \n",
            "18    19                PU  Semua pegawai negeri dapat berbahasa Inggris.\\...   \n",
            "82    83                PU  (1) Sebuah studi menunjukkan bahwa anak yang d...   \n",
            "\n",
            "                                              Choice_1  \\\n",
            "563                                                1/2   \n",
            "532                                                15a   \n",
            "360  Grup Menteng 31 kemudian mendirikan Barisan Bu...   \n",
            "280  Kain adat tradisional Ulos, Uis Karo, dan Uis ...   \n",
            "295        Penjualan Produk UMKM ketika Memiliki Merek   \n",
            "423  Sejak kepergian ayah, rumah kami terasa sepi s...   \n",
            "393                                             bahaya   \n",
            "76                                     perkembangan TI   \n",
            "18   Semua pegawai negeri yang dapat berbahasa Beta...   \n",
            "82   anak-anak yang belajar membaca pada usia 3 – 5...   \n",
            "\n",
            "                                              Choice_2  \\\n",
            "563                                              25/56   \n",
            "532                                                15p   \n",
            "360  Di antara pimpinan lainnya terdapat D. N. Aidi...   \n",
            "280  Alat tenun gedokan sebaiknya diganti dengan ATBM.   \n",
            "295      Alasan Pelaku UMKM Harus Melek HAKI dan Merek   \n",
            "423  Pertemuan itu dilaksanakan di kediaman ketua p...   \n",
            "393                                             dampak   \n",
            "76                                      penyalahgunaan   \n",
            "18   Semua pegawai negeri yang mend udukijabatan es...   \n",
            "82   semakin awal kebiasaan membaca buku diperkenal...   \n",
            "\n",
            "                                              Choice_3  \\\n",
            "563                                               5/12   \n",
            "532                                                 6p   \n",
            "360  Para pemuda komunis yang ada pada zaman itu be...   \n",
            "280              Kain adat dapat dirajut melalui ATBM.   \n",
            "295  Pelaku UMKM Saat Ini Melek Masalah HAKI dan Merek   \n",
            "423  Vaksinasi Senin nanti diselenggarakan di kelur...   \n",
            "393                                            ancaman   \n",
            "76                                            facebook   \n",
            "18   Beberapa pegawai negeri yang dapat berbahasa I...   \n",
            "82   anak-anak yang mulai belajar membaca sejak bal...   \n",
            "\n",
            "                                              Choice_4  Right_Answer  \n",
            "563                                                1/4             1  \n",
            "532                                                 9a             2  \n",
            "360  Baik Aidit maupun Lukman dalam gerakan-gerakan...             1  \n",
            "280  Penenun gedokan harus bekerja lebih keras dari...             0  \n",
            "295  Fungsi HAKI dan Merek yang Penting bagi Pemili...             1  \n",
            "423  Kesejahteraan rakyat desa ini meningkat sejak ...             3  \n",
            "393                                           pengaruh             2  \n",
            "76                                     degradasi moral             1  \n",
            "18              Semua pejabat dapat berbahasa Belanda.             2  \n",
            "82   kebiasaan mendengarkan cerita dan membaca seja...             3  \n"
          ]
        }
      ],
      "source": [
        "# Display Question\n",
        "user_id = 1\n",
        "recommended_questions = get_recommended_questions(user_id, user_errors, tps_question_data)\n",
        "print(f'Recommended Questions for User {user_id}:')\n",
        "print(recommended_questions[['ID', 'Question_Category', 'Questions_Descriptions', 'Choice_1', 'Choice_2', 'Choice_3', 'Choice_4', 'Right_Answer']])"
      ]
    },
    {
      "cell_type": "markdown",
      "metadata": {
        "id": "-bMRAJT7UYFG"
      },
      "source": [
        "#Evaluate Model"
      ]
    },
    {
      "cell_type": "code",
      "execution_count": null,
      "metadata": {
        "id": "KOnfn3gNOj0e"
      },
      "outputs": [],
      "source": [
        "# Evaluating the model\n",
        "def evaluate_recommendations(test_data, user_errors):\n",
        "    true_positives = 0\n",
        "    total_recommended = 0\n",
        "\n",
        "    for user_id in test_data['ID_USER'].unique():\n",
        "        user_test_data = test_data[test_data['ID_USER'] == user_id]\n",
        "        user_recommendations = recommend_next_quiz(user_id, user_errors)\n",
        "\n",
        "        for category in user_test_data['Question_Category'].unique():\n",
        "            questions_in_category = user_test_data[user_test_data['Question_Category'] == category]\n",
        "            recommended_questions = user_recommendations.get(category, 0)\n",
        "\n",
        "            # Counting correct predictions (true positives)\n",
        "            true_positives += questions_in_category[questions_in_category['is_correct']].shape[0]\n",
        "\n",
        "            # Counting total recommended questions\n",
        "            total_recommended += recommended_questions\n",
        "\n",
        "    # Calculate precision and accuracy\n",
        "    precision = true_positives / total_recommended if total_recommended > 0 else 0\n",
        "    accuracy = true_positives / len(test_data) if len(test_data) > 0 else 0\n",
        "\n",
        "    return accuracy, precision\n",
        "\n"
      ]
    },
    {
      "cell_type": "code",
      "execution_count": null,
      "metadata": {
        "colab": {
          "base_uri": "https://localhost:8080/"
        },
        "id": "eK0HK-7ym6WR",
        "outputId": "ff3e1c67-1d94-4ac0-952f-3010fdac9331"
      },
      "outputs": [
        {
          "output_type": "stream",
          "name": "stdout",
          "text": [
            "Accuracy: 0.25\n",
            "Precision: 0.10843373493975904\n"
          ]
        }
      ],
      "source": [
        "accuracy, precision = evaluate_recommendations(test_data, user_errors)\n",
        "print(f'Accuracy: {accuracy}')\n",
        "print(f'Precision: {precision}')"
      ]
    }
  ],
  "metadata": {
    "colab": {
      "provenance": []
    },
    "kernelspec": {
      "display_name": "Python 3",
      "name": "python3"
    },
    "language_info": {
      "name": "python"
    }
  },
  "nbformat": 4,
  "nbformat_minor": 0
}