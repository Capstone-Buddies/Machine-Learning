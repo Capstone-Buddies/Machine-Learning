{
  "nbformat": 4,
  "nbformat_minor": 0,
  "metadata": {
    "colab": {
      "provenance": []
    },
    "kernelspec": {
      "name": "python3",
      "display_name": "Python 3"
    },
    "language_info": {
      "name": "python"
    }
  },
  "cells": [
    {
      "cell_type": "code",
      "execution_count": null,
      "metadata": {
        "id": "IW-Y-Cqjut3s"
      },
      "outputs": [],
      "source": [
        "import pandas as pd\n",
        "import numpy as np\n",
        "from sklearn.feature_extraction.text import TfidfVectorizer\n",
        "from sklearn.metrics.pairwise import cosine_similarity"
      ]
    },
    {
      "cell_type": "code",
      "source": [
        "link_tps = 'https://raw.githubusercontent.com/Capstone-Buddies/Machine-Learning/main/Dataset/SNBT%20Datasets%20-%20TPS.csv'\n",
        "link_answer_history_tps = 'https://raw.githubusercontent.com/Capstone-Buddies/Machine-Learning/main/Dataset/SNBT%20Datasets%20-%20Answer_History_TPS.csv'\n",
        "\n",
        "user_history = pd.read_csv(link_answer_history_tps)\n",
        "tps_question_data = pd.read_csv(link_tps)"
      ],
      "metadata": {
        "id": "JLUrp8Ipu0gu"
      },
      "execution_count": null,
      "outputs": []
    },
    {
      "cell_type": "code",
      "source": [
        "# Menghitung jumlah soal yang telah dijawab oleh user untuk setiap kategori\n",
        "def get_total_questions_per_category(user_data):\n",
        "    return user_data.groupby('Question_Category').size()\n",
        "\n",
        "# Menghitung jumlah soal yang salah dijawab oleh user untuk setiap kategori\n",
        "def get_mistakes_per_category(user_data):\n",
        "    mistakes = user_data[user_data['USER_ANSWER'] != user_data['CORRECT_ANSWER']]\n",
        "    return mistakes.groupby('Question_Category').size(), mistakes"
      ],
      "metadata": {
        "id": "mdiPCDxTu1Zo"
      },
      "execution_count": null,
      "outputs": []
    },
    {
      "cell_type": "code",
      "source": [
        "# Menghitung similarity antara soal yang salah dijawab dengan soal lain dalam kategori yang sama\n",
        "def calculate_similarity(mistakes, tps_question_data):\n",
        "    combined_descriptions = pd.concat([mistakes['Question_Description'], tps_question_data['Questions_Descriptions']])\n",
        "\n",
        "    tfidf_vectorizer = TfidfVectorizer()\n",
        "    tfidf_matrix = tfidf_vectorizer.fit_transform(combined_descriptions)\n",
        "\n",
        "    # Pisahkan TF-IDF matrix untuk user_mistakes dan tps_question_data\n",
        "    tfidf_user_mistakes = tfidf_matrix[:len(mistakes)]\n",
        "    tfidf_tps_question_data = tfidf_matrix[len(mistakes):]\n",
        "\n",
        "    # Hitung cosine similarity\n",
        "    similarity_matrix = cosine_similarity(tfidf_user_mistakes, tfidf_tps_question_data)\n",
        "\n",
        "    # Menampilkan similarity matrix dalam bentuk DataFrame\n",
        "    similarity_df = pd.DataFrame(similarity_matrix, columns=[f\"Q{idx+1}\" for idx in range(tfidf_tps_question_data.shape[0])])\n",
        "    similarity_df.index = mistakes['ID_QUESTION'].values\n",
        "\n",
        "    # Filter similarity berdasarkan kategori yang sama\n",
        "    top_similar_questions = {}\n",
        "    for idx, user_question in enumerate(similarity_df.index):\n",
        "        category = mistakes.iloc[idx]['Question_Category']\n",
        "        same_category_indices = tps_question_data[tps_question_data['Question_Category'] == category].index\n",
        "        category_similarities = similarity_df.loc[user_question, [f\"Q{index+1}\" for index in same_category_indices]]\n",
        "        top_similar_questions[user_question] = category_similarities.nlargest(10) # mengambil top 10 yang paling mirip\n",
        "\n",
        "    return top_similar_questions"
      ],
      "metadata": {
        "id": "lR7YK4EMu7ho"
      },
      "execution_count": null,
      "outputs": []
    },
    {
      "cell_type": "code",
      "source": [
        "# Menentukan proporsi soal berdasarkan kategori yang salah dijawab lebih banyak\n",
        "def determine_proportion(mistakes_per_category, total_questions=10, min_questions_per_category=1):\n",
        "    # Kategori yang ada\n",
        "    all_categories = user_data['Question_Category'].unique()\n",
        "\n",
        "    # Proporsi minimal untuk setiap kategori\n",
        "    proportion = pd.Series(min_questions_per_category, index=all_categories)\n",
        "\n",
        "    # Soal yang tersisa setelah distribusi minimal\n",
        "    remaining_questions = total_questions - proportion.sum()\n",
        "\n",
        "    # Proporsi berdasarkan kesalahan\n",
        "    if remaining_questions > 0:\n",
        "        mistakes_proportion = (mistakes_per_category / mistakes_per_category.sum() * remaining_questions).round().astype(int)\n",
        "        for cat in mistakes_proportion.index:\n",
        "            proportion[cat] += mistakes_proportion[cat]\n",
        "\n",
        "    # Jika masih ada sisa soal yang belum terdistribusi, tambahkan ke kategori dengan kesalahan terbanyak\n",
        "    remaining_questions = total_questions - proportion.sum()\n",
        "    if remaining_questions > 0:\n",
        "        most_mistakes_category = mistakes_per_category.idxmax()\n",
        "        proportion[most_mistakes_category] += remaining_questions\n",
        "\n",
        "    return proportion"
      ],
      "metadata": {
        "id": "8ZjeNlhKu_mo"
      },
      "execution_count": null,
      "outputs": []
    },
    {
      "cell_type": "code",
      "source": [
        "# Menyusun kuis berdasarkan proporsi dan soal-soal dengan similarity tertinggi\n",
        "def generate_quiz(proportion, top_similar_questions, mistakes, tps_question_data, total_questions=10):\n",
        "    quiz_questions = []\n",
        "\n",
        "    # Soal yang salah dijawab berdasarkan similarity\n",
        "    for category in mistakes_per_category.index:\n",
        "        questions_needed = proportion[category]\n",
        "        for user_question, similar_questions in top_similar_questions.items():\n",
        "            if mistakes.loc[mistakes['ID_QUESTION'] == user_question]['Question_Category'].values[0] == category:\n",
        "                similar_question_ids = [tps_question_data.iloc[int(col[1:]) - 1]['ID'] for col in similar_questions.index]\n",
        "                selected_questions = tps_question_data[tps_question_data['ID'].isin(similar_question_ids) & (tps_question_data['Question_Category'] == category)].head(questions_needed).to_dict('records')\n",
        "                quiz_questions.extend(selected_questions)\n",
        "                break\n",
        "\n",
        "    # Soal yang dijawab benar secara acak\n",
        "    for category in proportion.index:\n",
        "        if category not in mistakes_per_category.index:\n",
        "            questions_needed = proportion[category]\n",
        "            selected_questions = tps_question_data[tps_question_data['Question_Category'] == category].sample(questions_needed).to_dict('records')\n",
        "            quiz_questions.extend(selected_questions)\n",
        "\n",
        "    # Pastikan hanya ada 10 soal\n",
        "    quiz_questions = quiz_questions[:total_questions]\n",
        "    return quiz_questions"
      ],
      "metadata": {
        "id": "PhYfk_wxvC0b"
      },
      "execution_count": null,
      "outputs": []
    },
    {
      "cell_type": "code",
      "source": [
        "# Memeriksa apakah user baru\n",
        "def is_new_user(user_id, user_history):\n",
        "    return user_history[user_history['ID_USER'] == user_id].empty\n",
        "\n",
        "# Menghasilkan soal untuk user baru secara merata per kategori\n",
        "def generate_questions_for_new_user(tps_question_data, total_questions=10):\n",
        "    categories = tps_question_data['Question_Category'].unique()\n",
        "    questions_per_category = total_questions // len(categories)\n",
        "\n",
        "    quiz_questions = []\n",
        "\n",
        "    for category in categories:\n",
        "        selected_questions = tps_question_data[tps_question_data['Question_Category'] == category].sample(questions_per_category).to_dict('records')\n",
        "        quiz_questions.extend(selected_questions)\n",
        "\n",
        "    # Jika ada sisa soal yang belum terdistribusi\n",
        "    remaining_questions = total_questions - len(quiz_questions)\n",
        "    if remaining_questions > 0:\n",
        "        extra_questions = tps_question_data[~tps_question_data['ID'].isin([q['ID'] for q in quiz_questions])].sample(remaining_questions).to_dict('records')\n",
        "        quiz_questions.extend(extra_questions)\n",
        "\n",
        "    return quiz_questions"
      ],
      "metadata": {
        "id": "HLMj9MfWl3_N"
      },
      "execution_count": null,
      "outputs": []
    },
    {
      "cell_type": "code",
      "source": [
        "# Merekomendasikan soal kepada user\n",
        "def recommend_questions_for_user(user_id, user_history, tps_question_data, total_questions=10):\n",
        "    if is_new_user(user_id, user_history):\n",
        "        print(\"User baru, generate soal secara merata per kategori.\")\n",
        "        quiz_questions = generate_questions_for_new_user(tps_question_data, total_questions)\n",
        "\n",
        "    else:\n",
        "        user_data = user_history[user_history['ID_USER'] == user_id]\n",
        "\n",
        "        total_questions_per_category = get_total_questions_per_category(user_data)\n",
        "\n",
        "        mistakes_per_category, mistakes = get_mistakes_per_category(user_data)\n",
        "\n",
        "        top_similar_questions = calculate_similarity(mistakes, tps_question_data)\n",
        "\n",
        "        proportion = determine_proportion(mistakes_per_category, total_questions)\n",
        "        print(\"\\nProporsi soal yang akan ditampilkan untuk setiap kategori:\")\n",
        "        print(proportion)\n",
        "\n",
        "        quiz_questions = generate_quiz(proportion, top_similar_questions, mistakes, tps_question_data, total_questions)\n",
        "\n",
        "    print(\"\\nSoal yang akan ditampilkan dalam kuis:\")\n",
        "    for question in quiz_questions:\n",
        "        print(question)"
      ],
      "metadata": {
        "id": "0kSFf_hZvFZp"
      },
      "execution_count": null,
      "outputs": []
    },
    {
      "cell_type": "code",
      "source": [
        "# Menentukan ID user\n",
        "user_id = 10\n",
        "\n",
        "# Menghitung jumlah soal untuk setiap kategori yang telah dijawab oleh user (untuk pengecekan)\n",
        "user_data = user_history[user_history['ID_USER'] == user_id]\n",
        "total_questions_per_category = user_data.groupby('Question_Category').size()\n",
        "print(\"Jumlah soal untuk setiap kategori yang telah dijawab oleh user:\")\n",
        "print(total_questions_per_category)\n",
        "\n",
        "# Menghitung jumlah soal yang salah dijawab oleh user untuk setiap kategori (untuk pengecekan)\n",
        "mistakes = user_data[user_data['USER_ANSWER'] != user_data['CORRECT_ANSWER']]\n",
        "mistakes_per_category = mistakes.groupby('Question_Category').size()\n",
        "print(\"\\nJumlah soal yang salah dijawab oleh user untuk setiap kategori:\")\n",
        "print(mistakes_per_category)\n",
        "\n",
        "recommend_questions_for_user(user_id, user_history, tps_question_data)"
      ],
      "metadata": {
        "colab": {
          "base_uri": "https://localhost:8080/"
        },
        "id": "yaMsBolDvIYO",
        "outputId": "8e74cda6-7f9a-410b-b217-b4fb31a2c1f8"
      },
      "execution_count": null,
      "outputs": [
        {
          "output_type": "stream",
          "name": "stdout",
          "text": [
            "Jumlah soal untuk setiap kategori yang telah dijawab oleh user:\n",
            "Question_Category\n",
            "PBM    3\n",
            "PK     1\n",
            "PPU    2\n",
            "PU     4\n",
            "dtype: int64\n",
            "\n",
            "Jumlah soal yang salah dijawab oleh user untuk setiap kategori:\n",
            "Question_Category\n",
            "PBM    2\n",
            "PPU    2\n",
            "PU     2\n",
            "dtype: int64\n",
            "\n",
            "Proporsi soal yang akan ditampilkan untuk setiap kategori:\n",
            "PU     3\n",
            "PBM    3\n",
            "PPU    3\n",
            "PK     1\n",
            "dtype: int64\n",
            "\n",
            "Soal yang akan ditampilkan dalam kuis:\n",
            "{'ID': 200, 'Question_Category': 'PBM', 'Questions_Descriptions': '(1) Di tengah masa pendaftararan pasangan capres dan cawapres untuk pilpres 2019, 4-10 Agustus 2018, masyarakat diributkan dengan beberapa capaian ekonomi pemerintahan Presiden Jokowi yang dianggap tidak sesuai ekspektasi atau janji yang telah disampaikannya di masa kampanye pilpres 2014 lalu. (2) Salah satu indikator ekonomi yang sering kali dibahas dan diributkan oleh pihak oposisi adalah pertumbuhan ekonomi yang jauh dari target awal, yaitu 7 persen atau meleset sedikit dari target Anggaran Pendapatan Belanja Negara (APBN). (3) Berdasarkan data statistik yang dikeluarkan oleh Badan Pusat Statistik (BPS), pertumbuhan ekonomi Indonesia cenderung stabil di kisaran angka 5 persen dalam 3 tahun terakhir. (4) Selain itu, juga memiliki tren meningkat meskipun tipis. (5) Bagi pihak oposisi, pencapaian yang tidak begitu menggembirakan ini menjadi sasaran tembak yang begitu empuk guna melemahkan posisi pemerintah yang berkuasa saat ini, khususnya di bidang ekonomi. (6) [....], jika dikaji lebih mendalam, struktur pertumbuhan ekonomi Indonesia justru mengalami perbaikan yang signifikan dalam beberapa tahun belakangan. (7) Yang sangat menonjol adalah pertumbuhan investasi dan ekspor yang masing-masing tumbuh 6,15 dan 9,09 persen pada 2017.\\n\\n(8) Sementara itu, terkait pertumbuhan konsumsirumah tangga, pemerintah Indonesia telahberhasil menjaga pertumbuhan komponen ini dikisaran 5 persen. (9) Kondisi ini dapat terealisasi karena pemerintah mampu menjaga angka inflasi di bawah angka 4 persen sesuai dengan target APBN. (10) Terlebih lagi, menjelang Hari Raya Idul Fitri, pemerintah mampu menekan kenaikan harga-harga bahan pangan sehingga mampu meredam angka inflasi.\\n\\nParagraf pertama dalam teks tersebut seharusnya terdiri atas dua paragraf. Kalimat yang tepat untuk mengawali paragraf kedua adalah', 'Choice_1': 'kalimat 3', 'Choice_2': 'kalimat 4', 'Choice_3': 'kalimat 5', 'Choice_4': 'kalimat 6', 'Right_Answer': 0}\n",
            "{'ID': 201, 'Question_Category': 'PBM', 'Questions_Descriptions': '(1) Di tengah masa pendaftararan pasangan capres dan cawapres untuk pilpres 2019, 4-10 Agustus 2018, masyarakat diributkan dengan beberapa capaian ekonomi pemerintahan Presiden Jokowi yang dianggap tidak sesuai ekspektasi atau janji yang telah disampaikannya di masa kampanye pilpres 2014 lalu. (2) Salah satu indikator ekonomi yang sering kali dibahas dan diributkan oleh pihak oposisi adalah pertumbuhan ekonomi yang jauh dari target awal, yaitu 7 persen atau meleset sedikit dari target Anggaran Pendapatan Belanja Negara (APBN). (3) Berdasarkan data statistik yang dikeluarkan oleh Badan Pusat Statistik (BPS), pertumbuhan ekonomi Indonesia cenderung stabil di kisaran angka 5 persen dalam 3 tahun terakhir. (4) Selain itu, juga memiliki tren meningkat meskipun tipis. (5) Bagi pihak oposisi, pencapaian yang tidak begitu menggembirakan ini menjadi sasaran tembak yang begitu empuk guna melemahkan posisi pemerintah yang berkuasa saat ini, khususnya di bidang ekonomi. (6) [....], jika dikaji lebih mendalam, struktur pertumbuhan ekonomi Indonesia justru mengalami perbaikan yang signifikan dalam beberapa tahun belakangan. (7) Yang sangat menonjol adalah pertumbuhan investasi dan ekspor yang masing-masing tumbuh 6,15 dan 9,09 persen pada 2017.\\n\\n(8) Sementara itu, terkait pertumbuhan konsumsirumah tangga, pemerintah Indonesia telahberhasil menjaga pertumbuhan komponen ini dikisaran 5 persen. (9) Kondisi ini dapat terealisasi karena pemerintah mampu menjaga angka inflasi di bawah angka 4 persen sesuai dengan target APBN. (10) Terlebih lagi, menjelang Hari Raya Idul Fitri, pemerintah mampu menekan kenaikan harga-harga bahan pangan sehingga mampu meredam angka inflasi.\\n\\nAnda ingin menambahkan kalimat berikut pada teks tersebut.\\nHingar-bingar terkait realisasi pertumbuhan ekonomi yang dicapai pemerintah yang dianggap jauh dari masa pemerintahannya makin bising disuarakan oleh pihak oposisi beberapa hari belakangan ini. \\n\\nLetak yang paling tepat untuk kalimat di atas adalah', 'Choice_1': 'setelah kalimat 2', 'Choice_2': 'setelah kalimat 4', 'Choice_3': 'setelah kalimat 7', 'Choice_4': 'setelah kalimat 9', 'Right_Answer': 0}\n",
            "{'ID': 202, 'Question_Category': 'PBM', 'Questions_Descriptions': '(1) Di tengah masa pendaftararan pasangan capres dan cawapres untuk pilpres 2019, 4-10 Agustus 2018, masyarakat diributkan dengan beberapa capaian ekonomi pemerintahan Presiden Jokowi yang dianggap tidak sesuai ekspektasi atau janji yang telah disampaikannya di masa kampanye pilpres 2014 lalu. (2) Salah satu indikator ekonomi yang sering kali dibahas dan diributkan oleh pihak oposisi adalah pertumbuhan ekonomi yang jauh dari target awal, yaitu 7 persen atau meleset sedikit dari target Anggaran Pendapatan Belanja Negara (APBN). (3) Berdasarkan data statistik yang dikeluarkan oleh Badan Pusat Statistik (BPS), pertumbuhan ekonomi Indonesia cenderung stabil di kisaran angka 5 persen dalam 3 tahun terakhir. (4) Selain itu, juga memiliki tren meningkat meskipun tipis. (5) Bagi pihak oposisi, pencapaian yang tidak begitu menggembirakan ini menjadi sasaran tembak yang begitu empuk guna melemahkan posisi pemerintah yang berkuasa saat ini, khususnya di bidang ekonomi.\\n\\nKalimat 4 pada teks tersebut tidak efektif. Alasan ketidakefektifan kalimat tersebut adalah', 'Choice_1': 'menggunakan konjungsi yang salah', 'Choice_2': 'terdapat kata yang mubazir', 'Choice_3': 'terdapat penulisan kata yang tidak baku', 'Choice_4': 'tidak memiliki subjek kalimat', 'Right_Answer': 3}\n",
            "{'ID': 313, 'Question_Category': 'PPU', 'Questions_Descriptions': '1) Selama ini, banyak orang dewasa yang menenangkan bayinya dengan cara mengayun atau mengguncangnya. (2) Namun, ternyata, mengguncang atau mengayun bayi dengan cara yang tidak benar dapat membahayakan keselamatan bayi. (3) Berdasarkan penelitian, mengguncang atau mengayun bayi dengan terlalu keras dapat menyebabkan shaken baby syndrome (SBS).\\n\\n(4) Shaken baby syndrome merupakan sekumpulan gejala yang terjadi ketika bayi (umumnya di bawah usia 2 tahun) mendapatkan guncangan yang terlalu keras pada kepala. (5) Sindrom ini yang dapat menyebabkan pendarahan pada retina mata serta pendarahan dan pembengkakan pada otak. (6) Hal itu bisa terjadi karena saat bayi mengalami guncangan yang hebat, otak mengalami perputaran atau pergeseran terhadap batang otak sehingga menyebabkan robekan saraf dan pembuluh darah pada otak. (7) Akibatnya, otak mengalami kerusakan dan pendarahan.\\n\\n(8) Bayi yang mengalami shaken baby syndrome umumnya memiliki beberapa gejala, seperti menjadi rewel atau cenderung banyak tidur, muntah-muntah, dan tidak mau makan. (9) Gejala ini dapat bertahan selama beberapa hari atau beberapa minggu. (10) Parahnya, gejala yang tidak spesifik dan kerusakan otak yang tidak terdeteksi serta berlangsung lama dapat menyebabkan gangguan belajar atau gangguan perilaku saat bayi mulai tumbuh besar.\\n\\nTujuan penulis menuliskan kalimat (3) pada teks adalah ….', 'Choice_1': 'membuktikan penelitian yang dibahas pada kalimat sebelumnya', 'Choice_2': 'menguatkan informasi yang dibahas pada kalimat sebelumnya', 'Choice_3': 'memperluas informasi yang telah dijelaskan pada kalimat sebelumnya', 'Choice_4': 'memerinci informasi yang disebutkan pada kalimat sebelumnya', 'Right_Answer': 1}\n",
            "{'ID': 363, 'Question_Category': 'PPU', 'Questions_Descriptions': 'Raden Mas Rangsang (selanjutnya disebut Sultan Agung) merupakan putra Sunan Adi Prabu Hanyakrawati yang lahir dari Dyah Banowati. Terdapat pendapat lain dari minoritas masyarakat bahwa Sultan Agung adalah putra Pangeran Puger (kakak Sunan Adi Prabu Hanyakrawati). Konon waktu itu, Pangeran Puger menukar bayi yang dilahirkan istrinya dengan bayi yang dilahirkan Dyah Banowati (istri Sunan Adi Prabu Hanyakrawati). Namun, pendapat ini perlu dibuktikan kebenarannya.\\n\\nSultan Agung memiliki dua permaisuri, yakni Ratu Kulon yang merupakan putri dari Sultan Cirebon, dan Ratu Wetan yang merupakan putri dari Tumenggung Upasanta dari Kadipaten Batang. Dari Ratu Kulon, Sultan Agung memiliki putra bernama Raden Mas Sahwawrat atau Pangeran Alit. Sementara dari Ratu Wetan, Sultan Agung memiliki putra bernama Raden Mas Sayidin. Sementara menjadi raja, Sultan Agung melakukan ekspansi wilayah kekuasaan. Bersama pasukannya, Sultan Agung menaklukkan Wirasaba (Mojoagung, Jombang) pada tahun 1615, Lasem dan Pasuruhan (1616), Pajang (1617), Madura (1624), Surabaya (1624), dan Blambangan (1640). \\n\\nPernyataan berikut yang benar dan sesuai dengan teks, kecuali ....\\n\\nSesudah berhasil menaklukkan Surabaya, Sultan Agung berhasrat menaklukkan Banten. Agar usahanya tersebut mendapat hasil, Sultan Agung harus menaklukkan VOC yang menjadi penghalangnya. Namun, usaha Sultan Agung yang direalisasikan pada tahun 1628 dan 1629 tersebut tidak membawa hasil. Bahkan, pasukan Mataram yang menyerang Batavia berhasil diporakporandakan oleh VOC.', 'Choice_1': 'Sultan Agung memiliki dua permaisuri, yakni Ratu Kulon yang merupakan putri dari Sultan Cirebon, dan Ratu Wetan yang merupakan putri dari Tumenggung Upasanta.', 'Choice_2': 'Namun, usaha Sultan Agung yang direalisasikan pada tahun 1626 dan 1628 tersebut tidak membawa hasil.', 'Choice_3': 'Konon waktu itu, Pangeran Puger menukar bayi yang dilahirkan istrinya dengan bayi yang dilahirkan Dyah Banowati (istri Sunan Adi Prabu Hanyakrawati).', 'Choice_4': 'Bersama pasukannya, Sultan Agung menaklukkan Wirasaba (Mojoagung, Jombang) pada tahun 1615, Lasem dan Pasuruhan (1616), Pajang (1617), Madura (1624), Surabaya (1624), dan Blambangan (1640).', 'Right_Answer': 1}\n",
            "{'ID': 364, 'Question_Category': 'PPU', 'Questions_Descriptions': 'Raden Mas Rangsang (selanjutnya disebut Sultan Agung) merupakan putra Sunan Adi Prabu Hanyakrawati yang lahir dari Dyah Banowati. Terdapat pendapat lain dari minoritas masyarakat bahwa Sultan Agung adalah putra Pangeran Puger (kakak Sunan Adi Prabu Hanyakrawati). Konon waktu itu, Pangeran Puger menukar bayi yang dilahirkan istrinya dengan bayi yang dilahirkan Dyah Banowati (istri Sunan Adi Prabu Hanyakrawati). Namun, pendapat ini perlu dibuktikan kebenarannya.\\n\\nSultan Agung memiliki dua permaisuri, yakni Ratu Kulon yang merupakan putri dari Sultan Cirebon, dan Ratu Wetan yang merupakan putri dari Tumenggung Upasanta dari Kadipaten Batang. Dari Ratu Kulon, Sultan Agung memiliki putra bernama Raden Mas Sahwawrat atau Pangeran Alit. Sementara dari Ratu Wetan, Sultan Agung memiliki putra bernama Raden Mas Sayidin. Sementara menjadi raja, Sultan Agung melakukan ekspansi wilayah kekuasaan. Bersama pasukannya, Sultan Agung menaklukkan Wirasaba (Mojoagung, Jombang) pada tahun 1615, Lasem dan Pasuruhan (1616), Pajang (1617), Madura (1624), Surabaya (1624), dan Blambangan (1640). \\n\\nSesudah berhasil menaklukkan Surabaya, Sultan Agung berhasrat menaklukkan Banten. Agar usahanya tersebut mendapat hasil, Sultan Agung harus menaklukkan VOC yang menjadi penghalangnya. Namun, usaha Sultan Agung yang direalisasikan pada tahun 1628 dan 1629 tersebut tidak membawa hasil. Bahkan, pasukan Mataram yang menyerang Batavia berhasil diporakporandakan oleh VOC.\\n\\nSimpulan yang tepat untuk menjelaskan paragraf ketiga adalah ....', 'Choice_1': 'Sultan Agung memiliki strategi perang yang hebat karena berhasil memperluas daerah kerajaan Mataram.', 'Choice_2': 'Sultan Agung hebat dalam melakukan tindakan persuasif sehingga banyak daerah yang mau menjadi bagian dari kerajaan Mataram.', 'Choice_3': 'Pasukan Mataram gagal menyerang Batavia karena adanya kendala dalam jumlah armada dan transportasi.', 'Choice_4': 'Karena berhasil menaklukkan Surabaya dan memiliki hasrat yang kuat, Sultan Agung akhirnya gagal dalam menaklukkan Batavia.', 'Right_Answer': 3}\n",
            "{'ID': 2, 'Question_Category': 'PU', 'Questions_Descriptions': 'Lawan kata monoton', 'Choice_1': 'Bergerak-gerak', 'Choice_2': 'Berulang-ulang ', 'Choice_3': 'Berubah-ubah', 'Choice_4': 'Terus menerus', 'Right_Answer': 3}\n",
            "{'ID': 12, 'Question_Category': 'PU', 'Questions_Descriptions': 'Lawan kata aktif', 'Choice_1': 'Dinamis', 'Choice_2': 'Statis', 'Choice_3': 'Pasif', 'Choice_4': 'Inisiatif', 'Right_Answer': 2}\n",
            "{'ID': 13, 'Question_Category': 'PU', 'Questions_Descriptions': 'Lawan kata canggih', 'Choice_1': 'Ruwet', 'Choice_2': 'Kompleks', 'Choice_3': 'Berbelit-belit', 'Choice_4': 'Sederhana', 'Right_Answer': 3}\n",
            "{'ID': 562, 'Question_Category': 'PK', 'Questions_Descriptions': 'Jika diberikan ikan jenis A, sekarung pakan ikan akan habis dalam waktu 12 hari, sedangkan untuk ikan jenis B akan habis dalam waktu 6 hari. Jika untuk member makan kedua jenis ikan A dan B, maka pakan tersebut akan habis dalam waktu', 'Choice_1': '3 hari', 'Choice_2': '3 setengah hari', 'Choice_3': '4 hari', 'Choice_4': '4 setengah hari', 'Right_Answer': 2}\n"
          ]
        }
      ]
    },
    {
      "cell_type": "code",
      "source": [],
      "metadata": {
        "id": "DAVtALbLvK65"
      },
      "execution_count": null,
      "outputs": []
    }
  ]
}